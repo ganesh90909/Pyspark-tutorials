{
 "cells": [
  {
   "cell_type": "code",
   "execution_count": 1,
   "metadata": {},
   "outputs": [],
   "source": [
    "from pyspark import SparkConf,SparkContext\n",
    "from pyspark.sql import SparkSession\n",
    "\n",
    "sc=SparkContext()\n",
    "spark=SparkSession(sc)"
   ]
  },
  {
   "cell_type": "markdown",
   "metadata": {},
   "source": [
    "## Example Data"
   ]
  },
  {
   "cell_type": "code",
   "execution_count": 3,
   "metadata": {},
   "outputs": [
    {
     "name": "stdout",
     "output_type": "stream",
     "text": [
      "+---+------+---+---+---+---+\n",
      "| x1|    x2| x3| x4| y1| y2|\n",
      "+---+------+---+---+---+---+\n",
      "|  a| apple|  1|2.4|  1|yes|\n",
      "|  a|orange|  1|2.5|  0| no|\n",
      "|  b|orange|  2|3.5|  1| no|\n",
      "|  b|orange|  2|1.4|  0|yes|\n",
      "|  b| peach|  2|2.1|  0|yes|\n",
      "|  c| peach|  4|1.5|  1|yes|\n",
      "+---+------+---+---+---+---+\n",
      "\n"
     ]
    }
   ],
   "source": [
    "import warnings\n",
    "warnings.simplefilter('ignore')\n",
    "import pandas as pd\n",
    "pdf = pd.DataFrame({\n",
    "        'x1': ['a','a','b','b', 'b', 'c'],\n",
    "        'x2': ['apple', 'orange', 'orange','orange', 'peach', 'peach'],\n",
    "        'x3': [1, 1, 2, 2, 2, 4],\n",
    "        'x4': [2.4, 2.5, 3.5, 1.4, 2.1,1.5],\n",
    "        'y1': [1, 0, 1, 0, 0, 1],\n",
    "        'y2': ['yes', 'no', 'no', 'yes', 'yes', 'yes']\n",
    "    })\n",
    "df = spark.createDataFrame(pdf)\n",
    "df.show()"
   ]
  },
  {
   "cell_type": "markdown",
   "metadata": {},
   "source": [
    "## VectorAssembler"
   ]
  },
  {
   "cell_type": "markdown",
   "metadata": {},
   "source": [
    "To fit a ML model,we need to have all the features columns in one column of vectors: the **featureCol.**\n",
    "<br> The *VectorAssembler* is used to combine multiple **OneHotEncoder** columns and **other continuous columns** into a single **featureCol** column."
   ]
  },
  {
   "cell_type": "markdown",
   "metadata": {},
   "source": [
    "### StringIndex and OneHotEncode categorical columns\n"
   ]
  },
  {
   "cell_type": "code",
   "execution_count": 4,
   "metadata": {},
   "outputs": [],
   "source": [
    "from pyspark.ml.feature import StringIndexer, OneHotEncoder, VectorAssembler\n",
    "from pyspark.ml import Pipeline"
   ]
  },
  {
   "cell_type": "code",
   "execution_count": 6,
   "metadata": {},
   "outputs": [
    {
     "data": {
      "text/plain": [
       "[StringIndexer_c785569b18c4,\n",
       " StringIndexer_bdf5a9f34806,\n",
       " StringIndexer_9edd16816800,\n",
       " OneHotEncoder_71b8df73d9e3,\n",
       " OneHotEncoder_50437fcbcc22,\n",
       " OneHotEncoder_c8150493c023]"
      ]
     },
     "execution_count": 6,
     "metadata": {},
     "output_type": "execute_result"
    }
   ],
   "source": [
    "all_stages=[StringIndexer(inputCol=c,outputCol='index_'+c) for c in ['x1','x2','x3']]+ \\\n",
    "[OneHotEncoder(inputCol='index_'+c,outputCol='ohe_'+c) for c in ['x1','x2','x3']]\n",
    "all_stages"
   ]
  },
  {
   "cell_type": "code",
   "execution_count": 8,
   "metadata": {},
   "outputs": [
    {
     "name": "stdout",
     "output_type": "stream",
     "text": [
      "+---+------+---+---+---+---+--------+--------+--------+-------------+-------------+-------------+\n",
      "| x1|    x2| x3| x4| y1| y2|index_x1|index_x2|index_x3|       ohe_x1|       ohe_x2|       ohe_x3|\n",
      "+---+------+---+---+---+---+--------+--------+--------+-------------+-------------+-------------+\n",
      "|  a| apple|  1|2.4|  1|yes|     1.0|     2.0|     1.0|(2,[1],[1.0])|    (2,[],[])|(2,[1],[1.0])|\n",
      "|  a|orange|  1|2.5|  0| no|     1.0|     0.0|     1.0|(2,[1],[1.0])|(2,[0],[1.0])|(2,[1],[1.0])|\n",
      "|  b|orange|  2|3.5|  1| no|     0.0|     0.0|     0.0|(2,[0],[1.0])|(2,[0],[1.0])|(2,[0],[1.0])|\n",
      "|  b|orange|  2|1.4|  0|yes|     0.0|     0.0|     0.0|(2,[0],[1.0])|(2,[0],[1.0])|(2,[0],[1.0])|\n",
      "|  b| peach|  2|2.1|  0|yes|     0.0|     1.0|     0.0|(2,[0],[1.0])|(2,[1],[1.0])|(2,[0],[1.0])|\n",
      "|  c| peach|  4|1.5|  1|yes|     2.0|     1.0|     2.0|    (2,[],[])|(2,[1],[1.0])|    (2,[],[])|\n",
      "+---+------+---+---+---+---+--------+--------+--------+-------------+-------------+-------------+\n",
      "\n"
     ]
    }
   ],
   "source": [
    "df_new=Pipeline(stages=all_stages).fit(df).transform(df)\n",
    "df_new.show()"
   ]
  },
  {
   "cell_type": "markdown",
   "metadata": {},
   "source": [
    "### Assemble feature columns into one *featureCol* with VectorAssembler \n"
   ]
  },
  {
   "cell_type": "code",
   "execution_count": 9,
   "metadata": {},
   "outputs": [],
   "source": [
    "from pyspark.ml.feature import VectorAssembler"
   ]
  },
  {
   "cell_type": "code",
   "execution_count": 12,
   "metadata": {},
   "outputs": [
    {
     "name": "stdout",
     "output_type": "stream",
     "text": [
      "+---+------+---+---+---+---+-------------+-------------+-------------+-----------------------------+\n",
      "|x1 |x2    |x3 |x4 |y1 |y2 |ohe_x1       |ohe_x2       |ohe_x3       |featureCol                   |\n",
      "+---+------+---+---+---+---+-------------+-------------+-------------+-----------------------------+\n",
      "|a  |apple |1  |2.4|1  |yes|(2,[1],[1.0])|(2,[],[])    |(2,[1],[1.0])|(7,[1,5,6],[1.0,1.0,2.4])    |\n",
      "|a  |orange|1  |2.5|0  |no |(2,[1],[1.0])|(2,[0],[1.0])|(2,[1],[1.0])|[0.0,1.0,1.0,0.0,0.0,1.0,2.5]|\n",
      "|b  |orange|2  |3.5|1  |no |(2,[0],[1.0])|(2,[0],[1.0])|(2,[0],[1.0])|[1.0,0.0,1.0,0.0,1.0,0.0,3.5]|\n",
      "|b  |orange|2  |1.4|0  |yes|(2,[0],[1.0])|(2,[0],[1.0])|(2,[0],[1.0])|[1.0,0.0,1.0,0.0,1.0,0.0,1.4]|\n",
      "|b  |peach |2  |2.1|0  |yes|(2,[0],[1.0])|(2,[1],[1.0])|(2,[0],[1.0])|[1.0,0.0,0.0,1.0,1.0,0.0,2.1]|\n",
      "|c  |peach |4  |1.5|1  |yes|(2,[],[])    |(2,[1],[1.0])|(2,[],[])    |(7,[3,6],[1.0,1.5])          |\n",
      "+---+------+---+---+---+---+-------------+-------------+-------------+-----------------------------+\n",
      "\n"
     ]
    }
   ],
   "source": [
    "df_assembled=VectorAssembler(inputCols=['ohe_x1','ohe_x2','ohe_x3','x4'],outputCol='featureCol') \\\n",
    "                   .transform(df_new).drop('index_x1','index_x2','index_x3')\n",
    "df_assembled.show(truncate=False)"
   ]
  },
  {
   "cell_type": "markdown",
   "metadata": {},
   "source": [
    "### Convert *sparse vectors* in featureCol into *Dense vectors*"
   ]
  },
  {
   "cell_type": "code",
   "execution_count": 13,
   "metadata": {},
   "outputs": [],
   "source": [
    "from pyspark.sql.types import *\n",
    "from pyspark.sql.functions import udf\n",
    "from pyspark.ml.linalg import DenseVector,SparseVector"
   ]
  },
  {
   "cell_type": "code",
   "execution_count": 14,
   "metadata": {},
   "outputs": [
    {
     "data": {
      "text/plain": [
       "[SparseVector(7, {1: 1.0, 5: 1.0, 6: 2.4}),\n",
       " DenseVector([0.0, 1.0, 1.0, 0.0, 0.0, 1.0, 2.5]),\n",
       " DenseVector([1.0, 0.0, 1.0, 0.0, 1.0, 0.0, 3.5]),\n",
       " DenseVector([1.0, 0.0, 1.0, 0.0, 1.0, 0.0, 1.4])]"
      ]
     },
     "execution_count": 14,
     "metadata": {},
     "output_type": "execute_result"
    }
   ],
   "source": [
    "df_assembled.rdd.map(lambda x:x['featureCol']).take(4)"
   ]
  },
  {
   "cell_type": "code",
   "execution_count": 15,
   "metadata": {},
   "outputs": [
    {
     "data": {
      "text/plain": [
       "[[0.0, 1.0, 0.0, 0.0, 0.0, 1.0, 2.4],\n",
       " [0.0, 1.0, 1.0, 0.0, 0.0, 1.0, 2.5],\n",
       " [1.0, 0.0, 1.0, 0.0, 1.0, 0.0, 3.5],\n",
       " [1.0, 0.0, 1.0, 0.0, 1.0, 0.0, 1.4]]"
      ]
     },
     "execution_count": 15,
     "metadata": {},
     "output_type": "execute_result"
    }
   ],
   "source": [
    "df_assembled.rdd.map(lambda x: list(x['featureCol'].toArray())).take(4)"
   ]
  },
  {
   "cell_type": "code",
   "execution_count": null,
   "metadata": {},
   "outputs": [],
   "source": []
  }
 ],
 "metadata": {
  "kernelspec": {
   "display_name": "Python 3",
   "language": "python",
   "name": "python3"
  },
  "language_info": {
   "codemirror_mode": {
    "name": "ipython",
    "version": 3
   },
   "file_extension": ".py",
   "mimetype": "text/x-python",
   "name": "python",
   "nbconvert_exporter": "python",
   "pygments_lexer": "ipython3",
   "version": "3.7.3"
  }
 },
 "nbformat": 4,
 "nbformat_minor": 2
}
