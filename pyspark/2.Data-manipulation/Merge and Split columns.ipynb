{
 "cells": [
  {
   "cell_type": "code",
   "execution_count": 1,
   "metadata": {},
   "outputs": [],
   "source": [
    "import pyspark"
   ]
  },
  {
   "cell_type": "code",
   "execution_count": 2,
   "metadata": {},
   "outputs": [],
   "source": [
    "# create entry points to spark\n",
    "try:\n",
    "    sc.stop()\n",
    "except:\n",
    "    pass\n",
    "from pyspark import SparkContext, SparkConf\n",
    "from pyspark.sql import SparkSession\n",
    "sc=SparkContext()\n",
    "spark = SparkSession(sparkContext=sc)"
   ]
  },
  {
   "cell_type": "code",
   "execution_count": 5,
   "metadata": {},
   "outputs": [],
   "source": [
    "#dataframe example\n",
    "df=spark.read.csv('breweriesUS.csv',header=True,inferSchema=True)"
   ]
  },
  {
   "cell_type": "code",
   "execution_count": 6,
   "metadata": {},
   "outputs": [
    {
     "name": "stdout",
     "output_type": "stream",
     "text": [
      "+--------------------+---------------+--------------------+--------------------+----------+---------------+\n",
      "|        brewery_name|           type|             address|             website|     state|state_breweries|\n",
      "+--------------------+---------------+--------------------+--------------------+----------+---------------+\n",
      "|  Valley Brewing Co.|        Brewpub|PO Box 4653, Stoc...|http://www.valley...|california|            284|\n",
      "|  Valley Brewing Co.|        Brewpub|157 Adams St., St...|http://www.valley...|california|            284|\n",
      "|   Valley Brewing Co|   Microbrewery|1950 W Freemont, ...|http://www.valley...|california|            284|\n",
      "|Ukiah Brewing Com...|        Brewpub|102 S. State St.,...|http://www.ukiahb...|california|            284|\n",
      "|  Tustin Brewing Co.|        Brewpub|13011 Newport Ave...|http://www.tustin...|california|            284|\n",
      "|     Trumer Brauerei|   Microbrewery|1404 4th St., Ber...|http://www.trumer...|california|            284|\n",
      "|     Trumer Brauerei|RegionalBrewery|1404 Fourth St., ...|http://www.trumer...|california|            284|\n",
      "|Triple Rock Brewi...|        Brewpub|1920 Shattuck Ave...|http://www.triple...|california|            284|\n",
      "|Tied House Cafe &...|        Brewpub|65 N. San Pedro, ...|http://www.tiedho...|california|            284|\n",
      "|Tied House Cafe &...|        Brewpub|954 Villa St., Mo...|http://www.tiedho...|california|            284|\n",
      "|Thirsty Bear Brew...|   Microbrewery|661 Howard St., S...|http://thirstybea...|california|            284|\n",
      "|Third Street Ale ...|        Brewpub|610 3rd St., Sant...|http://www.thirds...|california|            284|\n",
      "|       The Brewhouse|        Brewpub|229 W. Montecito,...|http://www.brewho...|california|            284|\n",
      "|    The Beach Chalet|        Brewpub|1000 Great Highwa...|http://www.beachc...|california|            284|\n",
      "|Telegraph Brewing...|   Microbrewery|416 N. Salsipuede...|http://www.telegr...|california|            284|\n",
      "|Taylor's Restaura...|        Brewpub|721 Grand Ave., S...|                 ...|california|            284|\n",
      "|Taps Fishouse & B...|        Brewpub|101 E. Imperial H...|http://www.tapsbr...|california|            284|\n",
      "|Tailgate Brewery,...|ContractBrewery|6827 Airoso Ave, ...|http://tailgatebe...|california|            284|\n",
      "|Sudwerk Privatbra...|        Brewpub|2001 2nd St., Dav...|http://www.sudwer...|california|            284|\n",
      "|Sudwerk Brewery &...|        Brewpub|1375 Exposition B...|http://www.sudwer...|california|            284|\n",
      "+--------------------+---------------+--------------------+--------------------+----------+---------------+\n",
      "only showing top 20 rows\n",
      "\n"
     ]
    }
   ],
   "source": [
    "df.show()"
   ]
  },
  {
   "cell_type": "markdown",
   "metadata": {},
   "source": [
    "## Merging the columns"
   ]
  },
  {
   "cell_type": "markdown",
   "metadata": {},
   "source": [
    "To merge the columns of a dataframe, it is converted into RDD first and later map function is used to merge \n",
    "the columns"
   ]
  },
  {
   "cell_type": "code",
   "execution_count": 7,
   "metadata": {},
   "outputs": [
    {
     "data": {
      "text/plain": [
       "[Row(info=('Brewpub', 'PO Box 4653, Stockton, California, 95204', 'http://www.valleybrew.com/', 'california', '284'), name='Valley Brewing Co.'),\n",
       " Row(info=('Brewpub', '157 Adams St., Stockton, California, 95204', 'http://www.valleybrew.com/', 'california', '284'), name='Valley Brewing Co.')]"
      ]
     },
     "execution_count": 7,
     "metadata": {},
     "output_type": "execute_result"
    }
   ],
   "source": [
    "from pyspark.sql import Row\n",
    "rdd=df.rdd.map(lambda x:Row(name=x[0],info=x[1:]))\n",
    "rdd.take(2)"
   ]
  },
  {
   "cell_type": "code",
   "execution_count": 10,
   "metadata": {},
   "outputs": [
    {
     "name": "stdout",
     "output_type": "stream",
     "text": [
      "+--------------------+--------------------+\n",
      "|                info|                name|\n",
      "+--------------------+--------------------+\n",
      "|[Brewpub, PO Box ...|  Valley Brewing Co.|\n",
      "|[Brewpub, 157 Ada...|  Valley Brewing Co.|\n",
      "|[Microbrewery, 19...|   Valley Brewing Co|\n",
      "|[Brewpub, 102 S. ...|Ukiah Brewing Com...|\n",
      "|[Brewpub, 13011 N...|  Tustin Brewing Co.|\n",
      "|[Microbrewery, 14...|     Trumer Brauerei|\n",
      "|[RegionalBrewery,...|     Trumer Brauerei|\n",
      "|[Brewpub, 1920 Sh...|Triple Rock Brewi...|\n",
      "|[Brewpub, 65 N. S...|Tied House Cafe &...|\n",
      "|[Brewpub, 954 Vil...|Tied House Cafe &...|\n",
      "|[Microbrewery, 66...|Thirsty Bear Brew...|\n",
      "|[Brewpub, 610 3rd...|Third Street Ale ...|\n",
      "|[Brewpub, 229 W. ...|       The Brewhouse|\n",
      "|[Brewpub, 1000 Gr...|    The Beach Chalet|\n",
      "|[Microbrewery, 41...|Telegraph Brewing...|\n",
      "|[Brewpub, 721 Gra...|Taylor's Restaura...|\n",
      "|[Brewpub, 101 E. ...|Taps Fishouse & B...|\n",
      "|[ContractBrewery,...|Tailgate Brewery,...|\n",
      "|[Brewpub, 2001 2n...|Sudwerk Privatbra...|\n",
      "|[Brewpub, 1375 Ex...|Sudwerk Brewery &...|\n",
      "+--------------------+--------------------+\n",
      "only showing top 20 rows\n",
      "\n"
     ]
    }
   ],
   "source": [
    "merged_df=spark.createDataFrame(rdd)\n",
    "merged_df.show(truncate=True)"
   ]
  },
  {
   "cell_type": "markdown",
   "metadata": {},
   "source": [
    "## Splitting the columns"
   ]
  },
  {
   "cell_type": "code",
   "execution_count": 13,
   "metadata": {},
   "outputs": [],
   "source": [
    "rdd=merged_df.rdd.map(lambda x:Row(name=x[1],info1=x[0][:3],info2=x[0][3:]))"
   ]
  },
  {
   "cell_type": "code",
   "execution_count": 14,
   "metadata": {},
   "outputs": [
    {
     "name": "stdout",
     "output_type": "stream",
     "text": [
      "+--------------------+-----------------+--------------------+\n",
      "|               info1|            info2|                name|\n",
      "+--------------------+-----------------+--------------------+\n",
      "|[Brewpub, PO Box ...|[california, 284]|  Valley Brewing Co.|\n",
      "|[Brewpub, 157 Ada...|[california, 284]|  Valley Brewing Co.|\n",
      "|[Microbrewery, 19...|[california, 284]|   Valley Brewing Co|\n",
      "|[Brewpub, 102 S. ...|[california, 284]|Ukiah Brewing Com...|\n",
      "|[Brewpub, 13011 N...|[california, 284]|  Tustin Brewing Co.|\n",
      "|[Microbrewery, 14...|[california, 284]|     Trumer Brauerei|\n",
      "|[RegionalBrewery,...|[california, 284]|     Trumer Brauerei|\n",
      "|[Brewpub, 1920 Sh...|[california, 284]|Triple Rock Brewi...|\n",
      "|[Brewpub, 65 N. S...|[california, 284]|Tied House Cafe &...|\n",
      "|[Brewpub, 954 Vil...|[california, 284]|Tied House Cafe &...|\n",
      "|[Microbrewery, 66...|[california, 284]|Thirsty Bear Brew...|\n",
      "|[Brewpub, 610 3rd...|[california, 284]|Third Street Ale ...|\n",
      "|[Brewpub, 229 W. ...|[california, 284]|       The Brewhouse|\n",
      "|[Brewpub, 1000 Gr...|[california, 284]|    The Beach Chalet|\n",
      "|[Microbrewery, 41...|[california, 284]|Telegraph Brewing...|\n",
      "|[Brewpub, 721 Gra...|[california, 284]|Taylor's Restaura...|\n",
      "|[Brewpub, 101 E. ...|[california, 284]|Taps Fishouse & B...|\n",
      "|[ContractBrewery,...|[california, 284]|Tailgate Brewery,...|\n",
      "|[Brewpub, 2001 2n...|[california, 284]|Sudwerk Privatbra...|\n",
      "|[Brewpub, 1375 Ex...|[california, 284]|Sudwerk Brewery &...|\n",
      "+--------------------+-----------------+--------------------+\n",
      "only showing top 20 rows\n",
      "\n"
     ]
    }
   ],
   "source": [
    "splitted_df=spark.createDataFrame(rdd)\n",
    "splitted_df.show()"
   ]
  },
  {
   "cell_type": "code",
   "execution_count": null,
   "metadata": {},
   "outputs": [],
   "source": []
  },
  {
   "cell_type": "code",
   "execution_count": null,
   "metadata": {},
   "outputs": [],
   "source": []
  },
  {
   "cell_type": "code",
   "execution_count": null,
   "metadata": {},
   "outputs": [],
   "source": []
  },
  {
   "cell_type": "code",
   "execution_count": null,
   "metadata": {},
   "outputs": [],
   "source": []
  },
  {
   "cell_type": "code",
   "execution_count": null,
   "metadata": {},
   "outputs": [],
   "source": []
  },
  {
   "cell_type": "code",
   "execution_count": null,
   "metadata": {},
   "outputs": [],
   "source": []
  }
 ],
 "metadata": {
  "kernelspec": {
   "display_name": "Python 3",
   "language": "python",
   "name": "python3"
  },
  "language_info": {
   "codemirror_mode": {
    "name": "ipython",
    "version": 3
   },
   "file_extension": ".py",
   "mimetype": "text/x-python",
   "name": "python",
   "nbconvert_exporter": "python",
   "pygments_lexer": "ipython3",
   "version": "3.7.3"
  }
 },
 "nbformat": 4,
 "nbformat_minor": 2
}
