{
 "cells": [
  {
   "cell_type": "code",
   "execution_count": 2,
   "metadata": {},
   "outputs": [],
   "source": [
    "import pyspark"
   ]
  },
  {
   "cell_type": "code",
   "execution_count": 3,
   "metadata": {},
   "outputs": [],
   "source": [
    "from pyspark import SparkContext\n",
    "from pyspark.sql import SparkSession\n",
    "sc=SparkContext()\n",
    "spark=SparkSession(sc)"
   ]
  },
  {
   "cell_type": "markdown",
   "metadata": {},
   "source": [
    "## CSV to dataframe "
   ]
  },
  {
   "cell_type": "code",
   "execution_count": 4,
   "metadata": {},
   "outputs": [],
   "source": [
    "brew_df=spark.read.csv('breweriesUS.csv',header=True,inferSchema=True,comment=None,encoding='UTF-8')"
   ]
  },
  {
   "cell_type": "code",
   "execution_count": 5,
   "metadata": {},
   "outputs": [
    {
     "name": "stdout",
     "output_type": "stream",
     "text": [
      "+--------------------+---------------+--------------------+--------------------+----------+---------------+\n",
      "|        brewery_name|           type|             address|             website|     state|state_breweries|\n",
      "+--------------------+---------------+--------------------+--------------------+----------+---------------+\n",
      "|  Valley Brewing Co.|        Brewpub|PO Box 4653, Stoc...|http://www.valley...|california|            284|\n",
      "|  Valley Brewing Co.|        Brewpub|157 Adams St., St...|http://www.valley...|california|            284|\n",
      "|   Valley Brewing Co|   Microbrewery|1950 W Freemont, ...|http://www.valley...|california|            284|\n",
      "|Ukiah Brewing Com...|        Brewpub|102 S. State St.,...|http://www.ukiahb...|california|            284|\n",
      "|  Tustin Brewing Co.|        Brewpub|13011 Newport Ave...|http://www.tustin...|california|            284|\n",
      "|     Trumer Brauerei|   Microbrewery|1404 4th St., Ber...|http://www.trumer...|california|            284|\n",
      "|     Trumer Brauerei|RegionalBrewery|1404 Fourth St., ...|http://www.trumer...|california|            284|\n",
      "|Triple Rock Brewi...|        Brewpub|1920 Shattuck Ave...|http://www.triple...|california|            284|\n",
      "|Tied House Cafe &...|        Brewpub|65 N. San Pedro, ...|http://www.tiedho...|california|            284|\n",
      "|Tied House Cafe &...|        Brewpub|954 Villa St., Mo...|http://www.tiedho...|california|            284|\n",
      "|Thirsty Bear Brew...|   Microbrewery|661 Howard St., S...|http://thirstybea...|california|            284|\n",
      "|Third Street Ale ...|        Brewpub|610 3rd St., Sant...|http://www.thirds...|california|            284|\n",
      "|       The Brewhouse|        Brewpub|229 W. Montecito,...|http://www.brewho...|california|            284|\n",
      "|    The Beach Chalet|        Brewpub|1000 Great Highwa...|http://www.beachc...|california|            284|\n",
      "|Telegraph Brewing...|   Microbrewery|416 N. Salsipuede...|http://www.telegr...|california|            284|\n",
      "|Taylor's Restaura...|        Brewpub|721 Grand Ave., S...|                 ...|california|            284|\n",
      "|Taps Fishouse & B...|        Brewpub|101 E. Imperial H...|http://www.tapsbr...|california|            284|\n",
      "|Tailgate Brewery,...|ContractBrewery|6827 Airoso Ave, ...|http://tailgatebe...|california|            284|\n",
      "|Sudwerk Privatbra...|        Brewpub|2001 2nd St., Dav...|http://www.sudwer...|california|            284|\n",
      "|Sudwerk Brewery &...|        Brewpub|1375 Exposition B...|http://www.sudwer...|california|            284|\n",
      "+--------------------+---------------+--------------------+--------------------+----------+---------------+\n",
      "only showing top 20 rows\n",
      "\n"
     ]
    }
   ],
   "source": [
    "brew_df.show()"
   ]
  },
  {
   "cell_type": "markdown",
   "metadata": {},
   "source": [
    "## dataframe to RDD"
   ]
  },
  {
   "cell_type": "markdown",
   "metadata": {},
   "source": [
    "Each element in RDD is a pyspark.sql.Row which contains key,value pairs.  "
   ]
  },
  {
   "cell_type": "code",
   "execution_count": 6,
   "metadata": {},
   "outputs": [
    {
     "data": {
      "text/plain": [
       "[Row(brewery_name='Valley Brewing Co.', type='Brewpub', address='PO Box 4653, Stockton, California, 95204', website='http://www.valleybrew.com/', state='california', state_breweries='284'),\n",
       " Row(brewery_name='Valley Brewing Co.', type='Brewpub', address='157 Adams St., Stockton, California, 95204', website='http://www.valleybrew.com/', state='california', state_breweries='284')]"
      ]
     },
     "execution_count": 6,
     "metadata": {},
     "output_type": "execute_result"
    }
   ],
   "source": [
    "#dataframe can be converted to RDD using rdd() function\n",
    "brew_df.rdd.take(2)"
   ]
  },
  {
   "cell_type": "code",
   "execution_count": 7,
   "metadata": {},
   "outputs": [
    {
     "data": {
      "text/plain": [
       "[('Valley Brewing Co.', 'Brewpub'),\n",
       " ('Valley Brewing Co.', 'Brewpub'),\n",
       " ('Valley Brewing Co', 'Microbrewery'),\n",
       " ('Ukiah Brewing Company', 'Brewpub')]"
      ]
     },
     "execution_count": 7,
     "metadata": {},
     "output_type": "execute_result"
    }
   ],
   "source": [
    "brew_map=brew_df.rdd.map(lambda x:(x['brewery_name'],x['type']))\n",
    "brew_map.take(4)"
   ]
  },
  {
   "cell_type": "markdown",
   "metadata": {},
   "source": [
    "## RDD to Dataframe"
   ]
  },
  {
   "cell_type": "markdown",
   "metadata": {},
   "source": [
    "A RDD can be converted to dataframe using toDF() function with columns names given in a list"
   ]
  },
  {
   "cell_type": "code",
   "execution_count": 8,
   "metadata": {},
   "outputs": [],
   "source": [
    "df=brew_map.toDF(['name','type'])"
   ]
  },
  {
   "cell_type": "code",
   "execution_count": 9,
   "metadata": {},
   "outputs": [
    {
     "name": "stdout",
     "output_type": "stream",
     "text": [
      "+--------------------+---------------+\n",
      "|                name|           type|\n",
      "+--------------------+---------------+\n",
      "|  Valley Brewing Co.|        Brewpub|\n",
      "|  Valley Brewing Co.|        Brewpub|\n",
      "|   Valley Brewing Co|   Microbrewery|\n",
      "|Ukiah Brewing Com...|        Brewpub|\n",
      "|  Tustin Brewing Co.|        Brewpub|\n",
      "|     Trumer Brauerei|   Microbrewery|\n",
      "|     Trumer Brauerei|RegionalBrewery|\n",
      "|Triple Rock Brewi...|        Brewpub|\n",
      "|Tied House Cafe &...|        Brewpub|\n",
      "|Tied House Cafe &...|        Brewpub|\n",
      "|Thirsty Bear Brew...|   Microbrewery|\n",
      "|Third Street Ale ...|        Brewpub|\n",
      "|       The Brewhouse|        Brewpub|\n",
      "|    The Beach Chalet|        Brewpub|\n",
      "|Telegraph Brewing...|   Microbrewery|\n",
      "|Taylor's Restaura...|        Brewpub|\n",
      "|Taps Fishouse & B...|        Brewpub|\n",
      "|Tailgate Brewery,...|ContractBrewery|\n",
      "|Sudwerk Privatbra...|        Brewpub|\n",
      "|Sudwerk Brewery &...|        Brewpub|\n",
      "+--------------------+---------------+\n",
      "only showing top 20 rows\n",
      "\n"
     ]
    }
   ],
   "source": [
    "df.show()"
   ]
  },
  {
   "cell_type": "markdown",
   "metadata": {},
   "source": [
    "we can create an RDD using a textfile and later converting it to dataframe using SparkSession.createDataFrame"
   ]
  },
  {
   "cell_type": "code",
   "execution_count": 10,
   "metadata": {},
   "outputs": [
    {
     "data": {
      "text/plain": [
       "['brewery_name,type,address,website,state,state_breweries',\n",
       " 'Valley Brewing Co.,Brewpub,\"PO Box 4653, Stockton, California, 95204\",http://www.valleybrew.com/,california,284',\n",
       " 'Valley Brewing Co.,Brewpub,\"157 Adams St., Stockton, California, 95204\",http://www.valleybrew.com/,california,284']"
      ]
     },
     "execution_count": 10,
     "metadata": {},
     "output_type": "execute_result"
    }
   ],
   "source": [
    "#Each row in rdd is a Row object\n",
    "rdd=sc.textFile('breweriesUS.csv')\n",
    "rdd.take(3)"
   ]
  },
  {
   "cell_type": "code",
   "execution_count": 11,
   "metadata": {},
   "outputs": [
    {
     "data": {
      "text/plain": [
       "['brewery_name', 'type', 'address', 'website', 'state', 'state_breweries']"
      ]
     },
     "execution_count": 11,
     "metadata": {},
     "output_type": "execute_result"
    }
   ],
   "source": [
    "#first row contains column names\n",
    "header=rdd.map(lambda x:x.split(',')).collect()[0]\n",
    "header"
   ]
  },
  {
   "cell_type": "code",
   "execution_count": 19,
   "metadata": {},
   "outputs": [
    {
     "data": {
      "text/plain": [
       "[['Valley Brewing Co.',\n",
       "  'Brewpub',\n",
       "  '\"PO Box 4653',\n",
       "  ' Stockton',\n",
       "  ' California',\n",
       "  ' 95204\"',\n",
       "  'http://www.valleybrew.com/',\n",
       "  'california',\n",
       "  '284'],\n",
       " ['Valley Brewing Co.',\n",
       "  'Brewpub',\n",
       "  '\"157 Adams St.',\n",
       "  ' Stockton',\n",
       "  ' California',\n",
       "  ' 95204\"',\n",
       "  'http://www.valleybrew.com/',\n",
       "  'california',\n",
       "  '284']]"
      ]
     },
     "execution_count": 19,
     "metadata": {},
     "output_type": "execute_result"
    }
   ],
   "source": [
    "#save other rows to an rdd\n",
    "first_row=rdd.first()\n",
    "rdd_data=rdd.filter(lambda x:x!= first_row).map(lambda x:x.split(','))\n",
    "rdd_data.take(2)"
   ]
  },
  {
   "cell_type": "markdown",
   "metadata": {},
   "source": [
    "rdd_data contains lists of values which doesn't have column names assigned to it.We need to convert \n",
    "the list rows into Row objects. Below function is used to form key,value pairs for each row in the rdd.\n",
    "We can use a dictionary as an argument list and use the ** to unpack the argument list.\n"
   ]
  },
  {
   "cell_type": "code",
   "execution_count": 23,
   "metadata": {},
   "outputs": [
    {
     "data": {
      "text/plain": [
       "Row(a=1, b=2, c=3)"
      ]
     },
     "execution_count": 23,
     "metadata": {},
     "output_type": "execute_result"
    }
   ],
   "source": [
    "from pyspark.sql import Row\n",
    "my_dict=dict(zip(['a','b','c'],range(1,4)))\n",
    "Row(**my_dict) # ** is used to unpack the argument list into a Row object"
   ]
  },
  {
   "cell_type": "code",
   "execution_count": 24,
   "metadata": {},
   "outputs": [],
   "source": [
    "#let's define a function\n",
    "def list_to_row(keys,values):\n",
    "    row_dict=dict(zip(keys,values))\n",
    "    return Row(**row_dict)"
   ]
  },
  {
   "cell_type": "code",
   "execution_count": 25,
   "metadata": {},
   "outputs": [
    {
     "data": {
      "text/plain": [
       "[Row(address='\"PO Box 4653', brewery_name='Valley Brewing Co.', state=' California', state_breweries=' 95204\"', type='Brewpub', website=' Stockton'),\n",
       " Row(address='\"157 Adams St.', brewery_name='Valley Brewing Co.', state=' California', state_breweries=' 95204\"', type='Brewpub', website=' Stockton')]"
      ]
     },
     "execution_count": 25,
     "metadata": {},
     "output_type": "execute_result"
    }
   ],
   "source": [
    "rdd_rows=rdd_data.map(lambda x:list_to_row(header,x))\n",
    "rdd_rows.take(2)"
   ]
  },
  {
   "cell_type": "code",
   "execution_count": 26,
   "metadata": {},
   "outputs": [
    {
     "name": "stdout",
     "output_type": "stream",
     "text": [
      "+--------------------+--------------------+-----------+---------------+---------------+----------------+\n",
      "|             address|        brewery_name|      state|state_breweries|           type|         website|\n",
      "+--------------------+--------------------+-----------+---------------+---------------+----------------+\n",
      "|        \"PO Box 4653|  Valley Brewing Co.| California|         95204\"|        Brewpub|        Stockton|\n",
      "|      \"157 Adams St.|  Valley Brewing Co.| California|         95204\"|        Brewpub|        Stockton|\n",
      "|    \"1950 W Freemont|   Valley Brewing Co| California|         95203\"|   Microbrewery|        Stockton|\n",
      "|   \"102 S. State St.|Ukiah Brewing Com...| California|         95482\"|        Brewpub|           Ukiah|\n",
      "|\"13011 Newport Av...|  Tustin Brewing Co.| California|         92780\"|        Brewpub|          Tustin|\n",
      "|       \"1404 4th St.|     Trumer Brauerei| California|         94608\"|   Microbrewery|        Berkeley|\n",
      "|    \"1404 Fourth St.|     Trumer Brauerei| California|         94710\"|RegionalBrewery|        Berkeley|\n",
      "|  \"1920 Shattuck Ave|Triple Rock Brewi...| California|         94704\"|        Brewpub|        Berkeley|\n",
      "|    \"65 N. San Pedro|Tied House Cafe &...| California|         95110\"|        Brewpub|        San Jose|\n",
      "|      \"954 Villa St.|Tied House Cafe &...| California|         94041\"|        Brewpub|   Mountain View|\n",
      "|     \"661 Howard St.|Thirsty Bear Brew...| California|         94105\"|   Microbrewery|   San Francisco|\n",
      "|        \"610 3rd St.|Third Street Ale ...| California|         95404\"|        Brewpub|      Santa Rosa|\n",
      "|   \"229 W. Montecito|       The Brewhouse| California|         93101\"|        Brewpub|   Santa Barbara|\n",
      "| \"1000 Great Highway|    The Beach Chalet| California|         94121\"|        Brewpub|   San Francisco|\n",
      "|\"416 N. Salsipued...|Telegraph Brewing...| California|         93103\"|   Microbrewery|   Santa Barbara|\n",
      "|     \"721 Grand Ave.|Taylor's Restaura...| California|         92109\"|        Brewpub|       San Diego|\n",
      "|\"101 E. Imperial ...|Taps Fishouse & B...| California|         92821\"|        Brewpub|            Brea|\n",
      "|     ContractBrewery|   \"Tailgate Brewery|  San Diego|     California|           LLC\"|\"6827 Airoso Ave|\n",
      "|       \"2001 2nd St.|Sudwerk Privatbra...| California|         95616\"|        Brewpub|           Davis|\n",
      "|\"1375 Exposition ...|Sudwerk Brewery &...| California|         95815\"|        Brewpub|      Sacramento|\n",
      "+--------------------+--------------------+-----------+---------------+---------------+----------------+\n",
      "only showing top 20 rows\n",
      "\n"
     ]
    }
   ],
   "source": [
    "df_data=spark.createDataFrame(rdd_rows)\n",
    "df_data.show()"
   ]
  },
  {
   "cell_type": "code",
   "execution_count": null,
   "metadata": {},
   "outputs": [],
   "source": []
  },
  {
   "cell_type": "code",
   "execution_count": null,
   "metadata": {},
   "outputs": [],
   "source": []
  },
  {
   "cell_type": "code",
   "execution_count": null,
   "metadata": {},
   "outputs": [],
   "source": [
    "\n"
   ]
  },
  {
   "cell_type": "code",
   "execution_count": null,
   "metadata": {},
   "outputs": [],
   "source": []
  },
  {
   "cell_type": "code",
   "execution_count": null,
   "metadata": {},
   "outputs": [],
   "source": []
  },
  {
   "cell_type": "code",
   "execution_count": null,
   "metadata": {},
   "outputs": [],
   "source": []
  },
  {
   "cell_type": "code",
   "execution_count": null,
   "metadata": {},
   "outputs": [],
   "source": []
  },
  {
   "cell_type": "code",
   "execution_count": null,
   "metadata": {},
   "outputs": [],
   "source": []
  },
  {
   "cell_type": "code",
   "execution_count": null,
   "metadata": {},
   "outputs": [],
   "source": []
  },
  {
   "cell_type": "code",
   "execution_count": null,
   "metadata": {},
   "outputs": [],
   "source": []
  },
  {
   "cell_type": "code",
   "execution_count": null,
   "metadata": {},
   "outputs": [],
   "source": []
  },
  {
   "cell_type": "code",
   "execution_count": null,
   "metadata": {},
   "outputs": [],
   "source": []
  },
  {
   "cell_type": "code",
   "execution_count": null,
   "metadata": {},
   "outputs": [],
   "source": []
  },
  {
   "cell_type": "code",
   "execution_count": null,
   "metadata": {},
   "outputs": [],
   "source": []
  },
  {
   "cell_type": "code",
   "execution_count": null,
   "metadata": {},
   "outputs": [],
   "source": []
  }
 ],
 "metadata": {
  "kernelspec": {
   "display_name": "Python 3",
   "language": "python",
   "name": "python3"
  },
  "language_info": {
   "codemirror_mode": {
    "name": "ipython",
    "version": 3
   },
   "file_extension": ".py",
   "mimetype": "text/x-python",
   "name": "python",
   "nbconvert_exporter": "python",
   "pygments_lexer": "ipython3",
   "version": "3.7.3"
  }
 },
 "nbformat": 4,
 "nbformat_minor": 2
}
