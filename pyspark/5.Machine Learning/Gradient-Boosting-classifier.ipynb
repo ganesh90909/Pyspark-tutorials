{
 "cells": [
  {
   "cell_type": "code",
   "execution_count": 1,
   "metadata": {},
   "outputs": [],
   "source": [
    "from pyspark import SparkContext\n",
    "sc=SparkContext(master='local')\n",
    "\n",
    "from pyspark.sql import SparkSession\n",
    "spark=SparkSession.builder.appName('SQL Example').config('spark.some.config.option','some-value').getOrCreate()"
   ]
  },
  {
   "cell_type": "markdown",
   "metadata": {},
   "source": [
    "## Load the data\n"
   ]
  },
  {
   "cell_type": "code",
   "execution_count": 2,
   "metadata": {},
   "outputs": [
    {
     "name": "stdout",
     "output_type": "stream",
     "text": [
      "+---+---------+---------+---+\n",
      "|age|education|wantsMore|  y|\n",
      "+---+---------+---------+---+\n",
      "|<25|      low|      yes|  0|\n",
      "|<25|      low|      yes|  0|\n",
      "|<25|      low|      yes|  0|\n",
      "|<25|      low|      yes|  0|\n",
      "|<25|      low|      yes|  0|\n",
      "+---+---------+---------+---+\n",
      "only showing top 5 rows\n",
      "\n"
     ]
    }
   ],
   "source": [
    "raw_data=spark.read.csv('cuse_binary.csv',inferSchema=True,header=True)\n",
    "raw_data.show(5)"
   ]
  },
  {
   "cell_type": "markdown",
   "metadata": {},
   "source": [
    "## String Indexer,One Hot Encoder,Vector Assembler"
   ]
  },
  {
   "cell_type": "code",
   "execution_count": 4,
   "metadata": {},
   "outputs": [],
   "source": [
    "from pyspark.ml.feature import StringIndexer,OneHotEncoder,VectorAssembler\n",
    "from pyspark.ml import Pipeline"
   ]
  },
  {
   "cell_type": "code",
   "execution_count": 6,
   "metadata": {},
   "outputs": [
    {
     "data": {
      "text/plain": [
       "['age', 'education', 'wantsMore']"
      ]
     },
     "execution_count": 6,
     "metadata": {},
     "output_type": "execute_result"
    }
   ],
   "source": [
    "categorical_columns=raw_data.columns[0:3]\n",
    "categorical_columns"
   ]
  },
  {
   "cell_type": "markdown",
   "metadata": {},
   "source": [
    "### string indexer stages"
   ]
  },
  {
   "cell_type": "code",
   "execution_count": 7,
   "metadata": {},
   "outputs": [],
   "source": [
    "stringindexer_stages=[StringIndexer(inputCol=c,outputCol='index_'+c) for c in categorical_columns]\n",
    "stringindexer_stages += [StringIndexer(inputCol='y',outputCol='label')]"
   ]
  },
  {
   "cell_type": "markdown",
   "metadata": {},
   "source": [
    "### one hot encoder stages"
   ]
  },
  {
   "cell_type": "code",
   "execution_count": 8,
   "metadata": {},
   "outputs": [],
   "source": [
    "onehotencoder_stages=[OneHotEncoder(inputCol='index_'+c, outputCol='ohe_'+c) for c in categorical_columns]"
   ]
  },
  {
   "cell_type": "markdown",
   "metadata": {},
   "source": [
    "### vector Assembler stages"
   ]
  },
  {
   "cell_type": "code",
   "execution_count": 9,
   "metadata": {},
   "outputs": [],
   "source": [
    "feature_columns=['ohe_'+c for c in categorical_columns]\n",
    "vectorassembler_stages=[VectorAssembler(inputCols=feature_columns,outputCol='features')]"
   ]
  },
  {
   "cell_type": "markdown",
   "metadata": {},
   "source": [
    "### pipeline stages"
   ]
  },
  {
   "cell_type": "code",
   "execution_count": 10,
   "metadata": {},
   "outputs": [],
   "source": [
    "stages=stringindexer_stages+onehotencoder_stages+vectorassembler_stages\n",
    "pipeline=Pipeline(stages=stages)"
   ]
  },
  {
   "cell_type": "markdown",
   "metadata": {},
   "source": [
    "### Fit the data"
   ]
  },
  {
   "cell_type": "code",
   "execution_count": 12,
   "metadata": {},
   "outputs": [],
   "source": [
    "pipeline_model=pipeline.fit(raw_data)"
   ]
  },
  {
   "cell_type": "markdown",
   "metadata": {},
   "source": [
    "### Transform the data"
   ]
  },
  {
   "cell_type": "code",
   "execution_count": 13,
   "metadata": {},
   "outputs": [
    {
     "name": "stdout",
     "output_type": "stream",
     "text": [
      "+-------------+-------------+-------------+-------------------+-----+\n",
      "|      ohe_age|ohe_education|ohe_wantsMore|           features|label|\n",
      "+-------------+-------------+-------------+-------------------+-----+\n",
      "|(3,[2],[1.0])|    (1,[],[])|(1,[0],[1.0])|(5,[2,4],[1.0,1.0])|  0.0|\n",
      "|(3,[2],[1.0])|    (1,[],[])|(1,[0],[1.0])|(5,[2,4],[1.0,1.0])|  0.0|\n",
      "|(3,[2],[1.0])|    (1,[],[])|(1,[0],[1.0])|(5,[2,4],[1.0,1.0])|  0.0|\n",
      "|(3,[2],[1.0])|    (1,[],[])|(1,[0],[1.0])|(5,[2,4],[1.0,1.0])|  0.0|\n",
      "|(3,[2],[1.0])|    (1,[],[])|(1,[0],[1.0])|(5,[2,4],[1.0,1.0])|  0.0|\n",
      "|(3,[2],[1.0])|    (1,[],[])|(1,[0],[1.0])|(5,[2,4],[1.0,1.0])|  0.0|\n",
      "|(3,[2],[1.0])|    (1,[],[])|(1,[0],[1.0])|(5,[2,4],[1.0,1.0])|  0.0|\n",
      "|(3,[2],[1.0])|    (1,[],[])|(1,[0],[1.0])|(5,[2,4],[1.0,1.0])|  0.0|\n",
      "|(3,[2],[1.0])|    (1,[],[])|(1,[0],[1.0])|(5,[2,4],[1.0,1.0])|  0.0|\n",
      "|(3,[2],[1.0])|    (1,[],[])|(1,[0],[1.0])|(5,[2,4],[1.0,1.0])|  0.0|\n",
      "|(3,[2],[1.0])|    (1,[],[])|(1,[0],[1.0])|(5,[2,4],[1.0,1.0])|  0.0|\n",
      "|(3,[2],[1.0])|    (1,[],[])|(1,[0],[1.0])|(5,[2,4],[1.0,1.0])|  0.0|\n",
      "|(3,[2],[1.0])|    (1,[],[])|(1,[0],[1.0])|(5,[2,4],[1.0,1.0])|  0.0|\n",
      "|(3,[2],[1.0])|    (1,[],[])|(1,[0],[1.0])|(5,[2,4],[1.0,1.0])|  0.0|\n",
      "|(3,[2],[1.0])|    (1,[],[])|(1,[0],[1.0])|(5,[2,4],[1.0,1.0])|  0.0|\n",
      "|(3,[2],[1.0])|    (1,[],[])|(1,[0],[1.0])|(5,[2,4],[1.0,1.0])|  0.0|\n",
      "|(3,[2],[1.0])|    (1,[],[])|(1,[0],[1.0])|(5,[2,4],[1.0,1.0])|  0.0|\n",
      "|(3,[2],[1.0])|    (1,[],[])|(1,[0],[1.0])|(5,[2,4],[1.0,1.0])|  0.0|\n",
      "|(3,[2],[1.0])|    (1,[],[])|(1,[0],[1.0])|(5,[2,4],[1.0,1.0])|  0.0|\n",
      "|(3,[2],[1.0])|    (1,[],[])|(1,[0],[1.0])|(5,[2,4],[1.0,1.0])|  0.0|\n",
      "+-------------+-------------+-------------+-------------------+-----+\n",
      "only showing top 20 rows\n",
      "\n"
     ]
    }
   ],
   "source": [
    "columns=feature_columns+['features','label']\n",
    "cuse_df=pipeline_model.transform(raw_data).select(columns)\n",
    "cuse_df.show()"
   ]
  },
  {
   "cell_type": "markdown",
   "metadata": {},
   "source": [
    "## Split the data"
   ]
  },
  {
   "cell_type": "code",
   "execution_count": 14,
   "metadata": {},
   "outputs": [],
   "source": [
    "train_df,test_df=cuse_df.randomSplit([0.8,0.2],seed=123)"
   ]
  },
  {
   "cell_type": "code",
   "execution_count": 15,
   "metadata": {},
   "outputs": [
    {
     "data": {
      "text/plain": [
       "1290"
      ]
     },
     "execution_count": 15,
     "metadata": {},
     "output_type": "execute_result"
    }
   ],
   "source": [
    "train_df.count()"
   ]
  },
  {
   "cell_type": "code",
   "execution_count": 16,
   "metadata": {},
   "outputs": [
    {
     "data": {
      "text/plain": [
       "317"
      ]
     },
     "execution_count": 16,
     "metadata": {},
     "output_type": "execute_result"
    }
   ],
   "source": [
    "test_df.count()"
   ]
  },
  {
   "cell_type": "markdown",
   "metadata": {},
   "source": [
    "## Cross Validation "
   ]
  },
  {
   "cell_type": "markdown",
   "metadata": {},
   "source": [
    "### estimator"
   ]
  },
  {
   "cell_type": "code",
   "execution_count": 17,
   "metadata": {},
   "outputs": [],
   "source": [
    "from pyspark.ml.classification import GBTClassifier\n",
    "gbt=GBTClassifier(featuresCol='features',labelCol='label')"
   ]
  },
  {
   "cell_type": "markdown",
   "metadata": {},
   "source": [
    "### Parameter Grid"
   ]
  },
  {
   "cell_type": "code",
   "execution_count": 18,
   "metadata": {},
   "outputs": [],
   "source": [
    "from pyspark.ml.tuning import ParamGridBuilder\n",
    "param_grid=ParamGridBuilder().addGrid(gbt.maxDepth,[2,3,4]).addGrid(gbt.minInfoGain,[0.0,0.1,0.2,0.3]) \\\n",
    "                            .addGrid(gbt.stepSize,[0.05,0.1,0.2,0.4]).build()"
   ]
  },
  {
   "cell_type": "markdown",
   "metadata": {},
   "source": [
    "### Evaluator"
   ]
  },
  {
   "cell_type": "code",
   "execution_count": 19,
   "metadata": {},
   "outputs": [],
   "source": [
    "from pyspark.ml.evaluation import BinaryClassificationEvaluator\n",
    "evaluator=BinaryClassificationEvaluator(rawPredictionCol='prediction')"
   ]
  },
  {
   "cell_type": "markdown",
   "metadata": {},
   "source": [
    "### Cross validation model"
   ]
  },
  {
   "cell_type": "code",
   "execution_count": 20,
   "metadata": {},
   "outputs": [],
   "source": [
    "from pyspark.ml.tuning import CrossValidator\n",
    "cv=CrossValidator(estimator=gbt,estimatorParamMaps=param_grid,evaluator=evaluator)"
   ]
  },
  {
   "cell_type": "markdown",
   "metadata": {},
   "source": [
    "### Fit the model"
   ]
  },
  {
   "cell_type": "code",
   "execution_count": 21,
   "metadata": {},
   "outputs": [],
   "source": [
    "cv_model=cv.fit(cuse_df)"
   ]
  },
  {
   "cell_type": "markdown",
   "metadata": {},
   "source": [
    "### Predicting the training data"
   ]
  },
  {
   "cell_type": "code",
   "execution_count": 24,
   "metadata": {},
   "outputs": [
    {
     "name": "stdout",
     "output_type": "stream",
     "text": [
      "+---------+-------------+-------------+---------+-----+--------------------+--------------------+----------+\n",
      "|  ohe_age|ohe_education|ohe_wantsMore| features|label|       rawPrediction|         probability|prediction|\n",
      "+---------+-------------+-------------+---------+-----+--------------------+--------------------+----------+\n",
      "|(3,[],[])|    (1,[],[])|    (1,[],[])|(5,[],[])|  0.0|[-0.0599765765084...|[0.47004761793628...|       1.0|\n",
      "|(3,[],[])|    (1,[],[])|    (1,[],[])|(5,[],[])|  0.0|[-0.0599765765084...|[0.47004761793628...|       1.0|\n",
      "|(3,[],[])|    (1,[],[])|    (1,[],[])|(5,[],[])|  0.0|[-0.0599765765084...|[0.47004761793628...|       1.0|\n",
      "|(3,[],[])|    (1,[],[])|    (1,[],[])|(5,[],[])|  0.0|[-0.0599765765084...|[0.47004761793628...|       1.0|\n",
      "|(3,[],[])|    (1,[],[])|    (1,[],[])|(5,[],[])|  0.0|[-0.0599765765084...|[0.47004761793628...|       1.0|\n",
      "+---------+-------------+-------------+---------+-----+--------------------+--------------------+----------+\n",
      "only showing top 5 rows\n",
      "\n"
     ]
    }
   ],
   "source": [
    "training_pred=cv_model.transform(train_df)\n",
    "training_pred.show(5)"
   ]
  },
  {
   "cell_type": "markdown",
   "metadata": {},
   "source": [
    "### Predicting the test data"
   ]
  },
  {
   "cell_type": "code",
   "execution_count": 25,
   "metadata": {},
   "outputs": [
    {
     "name": "stdout",
     "output_type": "stream",
     "text": [
      "+---------+-------------+-------------+---------+-----+--------------------+--------------------+----------+\n",
      "|  ohe_age|ohe_education|ohe_wantsMore| features|label|       rawPrediction|         probability|prediction|\n",
      "+---------+-------------+-------------+---------+-----+--------------------+--------------------+----------+\n",
      "|(3,[],[])|    (1,[],[])|    (1,[],[])|(5,[],[])|  0.0|[-0.0599765765084...|[0.47004761793628...|       1.0|\n",
      "|(3,[],[])|    (1,[],[])|    (1,[],[])|(5,[],[])|  0.0|[-0.0599765765084...|[0.47004761793628...|       1.0|\n",
      "|(3,[],[])|    (1,[],[])|    (1,[],[])|(5,[],[])|  0.0|[-0.0599765765084...|[0.47004761793628...|       1.0|\n",
      "|(3,[],[])|    (1,[],[])|    (1,[],[])|(5,[],[])|  0.0|[-0.0599765765084...|[0.47004761793628...|       1.0|\n",
      "|(3,[],[])|    (1,[],[])|    (1,[],[])|(5,[],[])|  0.0|[-0.0599765765084...|[0.47004761793628...|       1.0|\n",
      "+---------+-------------+-------------+---------+-----+--------------------+--------------------+----------+\n",
      "only showing top 5 rows\n",
      "\n"
     ]
    }
   ],
   "source": [
    "testing_pred=cv_model.transform(test_df)\n",
    "testing_pred.show(5)"
   ]
  },
  {
   "cell_type": "markdown",
   "metadata": {},
   "source": [
    "### Prediction performance"
   ]
  },
  {
   "cell_type": "code",
   "execution_count": 26,
   "metadata": {},
   "outputs": [
    {
     "name": "stdout",
     "output_type": "stream",
     "text": [
      "training accuracy (areaUnderROC):  0.634005193589372\n",
      "testing accuracy (areaUnderROC):  0.671067106710671\n"
     ]
    }
   ],
   "source": [
    "print('training accuracy (areaUnderROC): ',evaluator.setMetricName('areaUnderROC').evaluate(training_pred))\n",
    "print('testing accuracy (areaUnderROC): ',evaluator.setMetricName('areaUnderROC').evaluate(testing_pred))"
   ]
  },
  {
   "cell_type": "markdown",
   "metadata": {},
   "source": [
    "### Confusion Matrix "
   ]
  },
  {
   "cell_type": "markdown",
   "metadata": {},
   "source": [
    "#### training data"
   ]
  },
  {
   "cell_type": "code",
   "execution_count": 27,
   "metadata": {},
   "outputs": [
    {
     "data": {
      "text/plain": [
       "defaultdict(int,\n",
       "            {Row(label=0.0, prediction=1.0): 155,\n",
       "             Row(label=1.0, prediction=1.0): 180,\n",
       "             Row(label=0.0, prediction=0.0): 729,\n",
       "             Row(label=1.0, prediction=0.0): 226})"
      ]
     },
     "execution_count": 27,
     "metadata": {},
     "output_type": "execute_result"
    }
   ],
   "source": [
    "train_data=training_pred.select('label','prediction')\n",
    "train_data.rdd.zipWithIndex().countByKey()"
   ]
  },
  {
   "cell_type": "markdown",
   "metadata": {},
   "source": [
    "#### Testing data"
   ]
  },
  {
   "cell_type": "code",
   "execution_count": 28,
   "metadata": {},
   "outputs": [
    {
     "data": {
      "text/plain": [
       "defaultdict(int,\n",
       "            {Row(label=0.0, prediction=1.0): 48,\n",
       "             Row(label=1.0, prediction=1.0): 57,\n",
       "             Row(label=0.0, prediction=0.0): 168,\n",
       "             Row(label=1.0, prediction=0.0): 44})"
      ]
     },
     "execution_count": 28,
     "metadata": {},
     "output_type": "execute_result"
    }
   ],
   "source": [
    "test_data=testing_pred.select('label','prediction')\n",
    "test_data.rdd.zipWithIndex().countByKey()"
   ]
  },
  {
   "cell_type": "markdown",
   "metadata": {},
   "source": [
    "### Best model"
   ]
  },
  {
   "cell_type": "code",
   "execution_count": 29,
   "metadata": {},
   "outputs": [
    {
     "name": "stdout",
     "output_type": "stream",
     "text": [
      "Max depth:  3\n",
      "minInfo Gain:  0.0\n",
      "StepSize:  0.05\n"
     ]
    }
   ],
   "source": [
    "print('Max depth: ',cv_model.bestModel._java_obj.getMaxDepth())\n",
    "print('minInfo Gain: ',cv_model.bestModel._java_obj.getMinInfoGain())\n",
    "print('StepSize: ',cv_model.bestModel._java_obj.getStepSize())"
   ]
  },
  {
   "cell_type": "code",
   "execution_count": null,
   "metadata": {},
   "outputs": [],
   "source": []
  }
 ],
 "metadata": {
  "kernelspec": {
   "display_name": "Python 3",
   "language": "python",
   "name": "python3"
  },
  "language_info": {
   "codemirror_mode": {
    "name": "ipython",
    "version": 3
   },
   "file_extension": ".py",
   "mimetype": "text/x-python",
   "name": "python",
   "nbconvert_exporter": "python",
   "pygments_lexer": "ipython3",
   "version": "3.7.3"
  }
 },
 "nbformat": 4,
 "nbformat_minor": 2
}
