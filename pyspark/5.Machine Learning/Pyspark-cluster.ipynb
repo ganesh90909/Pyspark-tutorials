{
 "cells": [
  {
   "cell_type": "code",
   "execution_count": 1,
   "metadata": {},
   "outputs": [],
   "source": [
    "from pyspark import SparkContext\n",
    "sc=SparkContext(master='local')\n",
    "\n",
    "from pyspark.sql import SparkSession\n",
    "spark=SparkSession.builder.appName('Pyspark cluster').config('spark.some.config.option','some-value').getOrCreate()"
   ]
  },
  {
   "cell_type": "markdown",
   "metadata": {},
   "source": [
    "# 1.Kmeans on data"
   ]
  },
  {
   "cell_type": "code",
   "execution_count": 2,
   "metadata": {},
   "outputs": [],
   "source": [
    "from pyspark.ml.clustering import KMeans\n",
    "from pyspark.ml.linalg import Vectors\n"
   ]
  },
  {
   "cell_type": "code",
   "execution_count": 4,
   "metadata": {},
   "outputs": [
    {
     "name": "stdout",
     "output_type": "stream",
     "text": [
      "+---------+\n",
      "| features|\n",
      "+---------+\n",
      "|[0.1,0.2]|\n",
      "|[0.4,0.6]|\n",
      "|[0.8,0.5]|\n",
      "+---------+\n",
      "\n"
     ]
    }
   ],
   "source": [
    "data=[(Vectors.dense([0.1,0.2]),),(Vectors.dense([0.4,0.6]),),(Vectors.dense([0.8,0.5]),)]\n",
    "df=spark.createDataFrame(data,['features'])\n",
    "df.show()"
   ]
  },
  {
   "cell_type": "code",
   "execution_count": 5,
   "metadata": {},
   "outputs": [],
   "source": [
    "#kmeans model\n",
    "kmeans=KMeans(k=2,seed=123)\n",
    "kmodel=kmeans.fit(df)\n",
    "\n",
    "#no of clusters\n",
    "centres=kmodel.clusterCenters()"
   ]
  },
  {
   "cell_type": "code",
   "execution_count": 6,
   "metadata": {},
   "outputs": [
    {
     "data": {
      "text/plain": [
       "2"
      ]
     },
     "execution_count": 6,
     "metadata": {},
     "output_type": "execute_result"
    }
   ],
   "source": [
    "len(centres)"
   ]
  },
  {
   "cell_type": "code",
   "execution_count": 7,
   "metadata": {},
   "outputs": [
    {
     "name": "stdout",
     "output_type": "stream",
     "text": [
      "+---------+----------+\n",
      "| features|prediction|\n",
      "+---------+----------+\n",
      "|[0.1,0.2]|         1|\n",
      "|[0.4,0.6]|         0|\n",
      "|[0.8,0.5]|         0|\n",
      "+---------+----------+\n",
      "\n"
     ]
    }
   ],
   "source": [
    "transformed=kmodel.transform(df)\n",
    "transformed.select('features','prediction').show()"
   ]
  },
  {
   "cell_type": "markdown",
   "metadata": {},
   "source": [
    "# 2.Pyspark cluster for IRIS data"
   ]
  },
  {
   "cell_type": "code",
   "execution_count": 8,
   "metadata": {},
   "outputs": [
    {
     "name": "stdout",
     "output_type": "stream",
     "text": [
      "+---+-------------+------------+-------------+------------+-----------+\n",
      "| Id|SepalLengthCm|SepalWidthCm|PetalLengthCm|PetalWidthCm|    Species|\n",
      "+---+-------------+------------+-------------+------------+-----------+\n",
      "|  1|          5.1|         3.5|          1.4|         0.2|Iris-setosa|\n",
      "|  2|          4.9|         3.0|          1.4|         0.2|Iris-setosa|\n",
      "|  3|          4.7|         3.2|          1.3|         0.2|Iris-setosa|\n",
      "|  4|          4.6|         3.1|          1.5|         0.2|Iris-setosa|\n",
      "|  5|          5.0|         3.6|          1.4|         0.2|Iris-setosa|\n",
      "+---+-------------+------------+-------------+------------+-----------+\n",
      "only showing top 5 rows\n",
      "\n"
     ]
    }
   ],
   "source": [
    "iris_df=spark.read.csv('Iris-data.csv',inferSchema=True,header=True)\n",
    "iris_df.show(5)"
   ]
  },
  {
   "cell_type": "code",
   "execution_count": 9,
   "metadata": {},
   "outputs": [],
   "source": [
    "iris_df=iris_df.drop('Id')"
   ]
  },
  {
   "cell_type": "code",
   "execution_count": 10,
   "metadata": {},
   "outputs": [
    {
     "name": "stdout",
     "output_type": "stream",
     "text": [
      "+-----------------+-----------+\n",
      "|         features|    species|\n",
      "+-----------------+-----------+\n",
      "|[5.1,3.5,1.4,0.2]|Iris-setosa|\n",
      "|[4.9,3.0,1.4,0.2]|Iris-setosa|\n",
      "|[4.7,3.2,1.3,0.2]|Iris-setosa|\n",
      "|[4.6,3.1,1.5,0.2]|Iris-setosa|\n",
      "|[5.0,3.6,1.4,0.2]|Iris-setosa|\n",
      "+-----------------+-----------+\n",
      "only showing top 5 rows\n",
      "\n"
     ]
    }
   ],
   "source": [
    "from pyspark.ml.linalg import Vectors\n",
    "iris_df2=iris_df.rdd.map(lambda x:(Vectors.dense(x[:-1]),x[-1])).toDF(['features','species'])\n",
    "iris_df2.show(5)"
   ]
  },
  {
   "cell_type": "code",
   "execution_count": 13,
   "metadata": {},
   "outputs": [
    {
     "name": "stdout",
     "output_type": "stream",
     "text": [
      "+-----------------+-----------+-----+\n",
      "|         features|    species|label|\n",
      "+-----------------+-----------+-----+\n",
      "|[5.1,3.5,1.4,0.2]|Iris-setosa|  0.0|\n",
      "|[4.9,3.0,1.4,0.2]|Iris-setosa|  0.0|\n",
      "|[4.7,3.2,1.3,0.2]|Iris-setosa|  0.0|\n",
      "|[4.6,3.1,1.5,0.2]|Iris-setosa|  0.0|\n",
      "|[5.0,3.6,1.4,0.2]|Iris-setosa|  0.0|\n",
      "+-----------------+-----------+-----+\n",
      "only showing top 5 rows\n",
      "\n"
     ]
    }
   ],
   "source": [
    "from pyspark.ml.feature import StringIndexer\n",
    "strindexer=StringIndexer(inputCol='species',outputCol='label')\n",
    "iris_df3=strindexer.fit(iris_df2).transform(iris_df2)\n",
    "iris_df3.show(5)"
   ]
  },
  {
   "cell_type": "code",
   "execution_count": 14,
   "metadata": {},
   "outputs": [],
   "source": [
    "iris_df4=iris_df3.drop('species')"
   ]
  },
  {
   "cell_type": "code",
   "execution_count": 15,
   "metadata": {},
   "outputs": [
    {
     "name": "stdout",
     "output_type": "stream",
     "text": [
      "+-----------------+-----+\n",
      "|         features|label|\n",
      "+-----------------+-----+\n",
      "|[5.1,3.5,1.4,0.2]|  0.0|\n",
      "|[4.9,3.0,1.4,0.2]|  0.0|\n",
      "|[4.7,3.2,1.3,0.2]|  0.0|\n",
      "|[4.6,3.1,1.5,0.2]|  0.0|\n",
      "|[5.0,3.6,1.4,0.2]|  0.0|\n",
      "+-----------------+-----+\n",
      "only showing top 5 rows\n",
      "\n"
     ]
    }
   ],
   "source": [
    "iris_df4.show(5)"
   ]
  },
  {
   "cell_type": "code",
   "execution_count": 16,
   "metadata": {},
   "outputs": [
    {
     "name": "stdout",
     "output_type": "stream",
     "text": [
      "+-----------------+-----+----------+\n",
      "|         features|label|prediction|\n",
      "+-----------------+-----+----------+\n",
      "|[5.1,3.5,1.4,0.2]|  0.0|         1|\n",
      "|[4.9,3.0,1.4,0.2]|  0.0|         1|\n",
      "|[4.7,3.2,1.3,0.2]|  0.0|         1|\n",
      "|[4.6,3.1,1.5,0.2]|  0.0|         1|\n",
      "|[5.0,3.6,1.4,0.2]|  0.0|         1|\n",
      "+-----------------+-----+----------+\n",
      "only showing top 5 rows\n",
      "\n"
     ]
    }
   ],
   "source": [
    "iris_kmeans=KMeans(k=3,seed=1234)\n",
    "iris_model=iris_kmeans.fit(iris_df4)\n",
    "transformed_iris=iris_model.transform(iris_df4)\n",
    "transformed_iris.show(5)"
   ]
  },
  {
   "cell_type": "code",
   "execution_count": 17,
   "metadata": {},
   "outputs": [
    {
     "name": "stdout",
     "output_type": "stream",
     "text": [
      "+-----+----------+-----+\n",
      "|label|prediction|count|\n",
      "+-----+----------+-----+\n",
      "|  1.0|         0|   48|\n",
      "|  1.0|         2|    2|\n",
      "|  2.0|         2|   36|\n",
      "|  2.0|         0|   14|\n",
      "|  0.0|         1|   50|\n",
      "+-----+----------+-----+\n",
      "\n"
     ]
    }
   ],
   "source": [
    "transformed_iris.groupBy(['label','prediction']).count().show()"
   ]
  },
  {
   "cell_type": "markdown",
   "metadata": {},
   "source": [
    "**By looking at above groupBy, the predictions 0,1 are reversed with respect to their label.So, we need to reverse the column values of 0s and 1s.**"
   ]
  },
  {
   "cell_type": "code",
   "execution_count": 19,
   "metadata": {},
   "outputs": [
    {
     "name": "stdout",
     "output_type": "stream",
     "text": [
      "+-----------------+-----+----------+-----------+\n",
      "|         features|label|prediction|    species|\n",
      "+-----------------+-----+----------+-----------+\n",
      "|[5.1,3.5,1.4,0.2]|  0.0|         1|Iris-setosa|\n",
      "|[4.9,3.0,1.4,0.2]|  0.0|         1|Iris-setosa|\n",
      "|[4.7,3.2,1.3,0.2]|  0.0|         1|Iris-setosa|\n",
      "|[4.6,3.1,1.5,0.2]|  0.0|         1|Iris-setosa|\n",
      "|[5.0,3.6,1.4,0.2]|  0.0|         1|Iris-setosa|\n",
      "+-----------------+-----+----------+-----------+\n",
      "only showing top 5 rows\n",
      "\n"
     ]
    }
   ],
   "source": [
    "from pyspark.ml.feature import IndexToString\n",
    "indextostr=IndexToString(inputCol='label',outputCol='species')\n",
    "transformed_iris_idx=indextostr.transform(transformed_iris)\n",
    "transformed_iris_idx.show(5)"
   ]
  },
  {
   "cell_type": "code",
   "execution_count": 41,
   "metadata": {},
   "outputs": [],
   "source": [
    "# reversing the values of 0s and 1s\n",
    "from pyspark.sql import functions as f\n",
    "true_preds=transformed_iris_idx.select('*',f.when(transformed_iris_idx.prediction==1,0).when(transformed_iris_idx.prediction==0,1).otherwise(2).alias('preds'))\n",
    "\n"
   ]
  },
  {
   "cell_type": "code",
   "execution_count": 42,
   "metadata": {},
   "outputs": [
    {
     "name": "stdout",
     "output_type": "stream",
     "text": [
      "+-----------------+-----+----------+-----------+-----+\n",
      "|         features|label|prediction|    species|preds|\n",
      "+-----------------+-----+----------+-----------+-----+\n",
      "|[5.1,3.5,1.4,0.2]|  0.0|         1|Iris-setosa|    0|\n",
      "|[4.9,3.0,1.4,0.2]|  0.0|         1|Iris-setosa|    0|\n",
      "|[4.7,3.2,1.3,0.2]|  0.0|         1|Iris-setosa|    0|\n",
      "|[4.6,3.1,1.5,0.2]|  0.0|         1|Iris-setosa|    0|\n",
      "|[5.0,3.6,1.4,0.2]|  0.0|         1|Iris-setosa|    0|\n",
      "|[5.4,3.9,1.7,0.4]|  0.0|         1|Iris-setosa|    0|\n",
      "|[4.6,3.4,1.4,0.3]|  0.0|         1|Iris-setosa|    0|\n",
      "|[5.0,3.4,1.5,0.2]|  0.0|         1|Iris-setosa|    0|\n",
      "|[4.4,2.9,1.4,0.2]|  0.0|         1|Iris-setosa|    0|\n",
      "|[4.9,3.1,1.5,0.1]|  0.0|         1|Iris-setosa|    0|\n",
      "|[5.4,3.7,1.5,0.2]|  0.0|         1|Iris-setosa|    0|\n",
      "|[4.8,3.4,1.6,0.2]|  0.0|         1|Iris-setosa|    0|\n",
      "|[4.8,3.0,1.4,0.1]|  0.0|         1|Iris-setosa|    0|\n",
      "|[4.3,3.0,1.1,0.1]|  0.0|         1|Iris-setosa|    0|\n",
      "|[5.8,4.0,1.2,0.2]|  0.0|         1|Iris-setosa|    0|\n",
      "|[5.7,4.4,1.5,0.4]|  0.0|         1|Iris-setosa|    0|\n",
      "|[5.4,3.9,1.3,0.4]|  0.0|         1|Iris-setosa|    0|\n",
      "|[5.1,3.5,1.4,0.3]|  0.0|         1|Iris-setosa|    0|\n",
      "|[5.7,3.8,1.7,0.3]|  0.0|         1|Iris-setosa|    0|\n",
      "|[5.1,3.8,1.5,0.3]|  0.0|         1|Iris-setosa|    0|\n",
      "+-----------------+-----+----------+-----------+-----+\n",
      "only showing top 20 rows\n",
      "\n"
     ]
    }
   ],
   "source": [
    "true_preds.show()"
   ]
  },
  {
   "cell_type": "markdown",
   "metadata": {},
   "source": [
    "## Accuracy"
   ]
  },
  {
   "cell_type": "code",
   "execution_count": 43,
   "metadata": {},
   "outputs": [],
   "source": [
    "train_err=true_preds.filter(true_preds['label']!=true_preds['preds']).count()\n",
    "total=true_preds.count()"
   ]
  },
  {
   "cell_type": "code",
   "execution_count": 47,
   "metadata": {},
   "outputs": [
    {
     "name": "stdout",
     "output_type": "stream",
     "text": [
      "accuracy: 89.33333333333333\n"
     ]
    }
   ],
   "source": [
    "print('accuracy:',str((1-(train_err/total))*100))\n"
   ]
  },
  {
   "cell_type": "code",
   "execution_count": null,
   "metadata": {},
   "outputs": [],
   "source": []
  }
 ],
 "metadata": {
  "kernelspec": {
   "display_name": "Python 3",
   "language": "python",
   "name": "python3"
  },
  "language_info": {
   "codemirror_mode": {
    "name": "ipython",
    "version": 3
   },
   "file_extension": ".py",
   "mimetype": "text/x-python",
   "name": "python",
   "nbconvert_exporter": "python",
   "pygments_lexer": "ipython3",
   "version": "3.7.3"
  }
 },
 "nbformat": 4,
 "nbformat_minor": 2
}
