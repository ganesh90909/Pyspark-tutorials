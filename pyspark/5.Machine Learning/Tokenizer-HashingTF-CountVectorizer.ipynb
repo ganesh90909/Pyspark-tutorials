{
 "cells": [
  {
   "cell_type": "code",
   "execution_count": 2,
   "metadata": {},
   "outputs": [],
   "source": [
    "from pyspark import SparkContext\n",
    "sc=SparkContext(master='local')\n",
    "\n",
    "from pyspark.sql import SparkSession\n",
    "spark=SparkSession.builder.appName('Sentence example').config('spark.some.config.option','some-value').getOrCreate()"
   ]
  },
  {
   "cell_type": "code",
   "execution_count": 5,
   "metadata": {},
   "outputs": [
    {
     "name": "stdout",
     "output_type": "stream",
     "text": [
      "+--------------------------------------------------+-----+\n",
      "|text                                              |label|\n",
      "+--------------------------------------------------+-----+\n",
      "|Apache spark is faster than Hadoop                |1    |\n",
      "|Spark supports both streaming and batch processing|0    |\n",
      "+--------------------------------------------------+-----+\n",
      "\n"
     ]
    }
   ],
   "source": [
    "df=spark.createDataFrame([('Apache spark is faster than Hadoop',1),\\\n",
    "                          ('Spark supports both streaming and batch processing',0)],['text','label'])\n",
    "df.show(truncate=False)"
   ]
  },
  {
   "cell_type": "markdown",
   "metadata": {},
   "source": [
    "## Tokenizer"
   ]
  },
  {
   "cell_type": "code",
   "execution_count": 7,
   "metadata": {},
   "outputs": [
    {
     "name": "stdout",
     "output_type": "stream",
     "text": [
      "+--------------------------------------------------+-----+----------------------------------------------------------+\n",
      "|text                                              |label|tokens                                                    |\n",
      "+--------------------------------------------------+-----+----------------------------------------------------------+\n",
      "|Apache spark is faster than Hadoop                |1    |[apache, spark, is, faster, than, hadoop]                 |\n",
      "|Spark supports both streaming and batch processing|0    |[spark, supports, both, streaming, and, batch, processing]|\n",
      "+--------------------------------------------------+-----+----------------------------------------------------------+\n",
      "\n"
     ]
    }
   ],
   "source": [
    "from pyspark.ml.feature import Tokenizer\n",
    "tokenizer=Tokenizer(inputCol='text',outputCol='tokens')\n",
    "token_df=tokenizer.transform(df)\n",
    "token_df.show(truncate=False)"
   ]
  },
  {
   "cell_type": "markdown",
   "metadata": {},
   "source": [
    "## HashingTF"
   ]
  },
  {
   "cell_type": "code",
   "execution_count": 13,
   "metadata": {},
   "outputs": [
    {
     "name": "stdout",
     "output_type": "stream",
     "text": [
      "+--------------------------------------------------+-----+----------------------------------------------------------+----------------------------------------+\n",
      "|text                                              |label|tokens                                                    |hashTF                                  |\n",
      "+--------------------------------------------------+-----+----------------------------------------------------------+----------------------------------------+\n",
      "|Apache spark is faster than Hadoop                |1    |[apache, spark, is, faster, than, hadoop]                 |(16,[1,7,10,13],[2.0,1.0,1.0,2.0])      |\n",
      "|Spark supports both streaming and batch processing|0    |[spark, supports, both, streaming, and, batch, processing]|(16,[1,2,7,13,15],[2.0,1.0,1.0,1.0,2.0])|\n",
      "+--------------------------------------------------+-----+----------------------------------------------------------+----------------------------------------+\n",
      "\n"
     ]
    }
   ],
   "source": [
    "from pyspark.ml.feature import HashingTF\n",
    "hashing=HashingTF(numFeatures=pow(2,4),inputCol='tokens',outputCol='hashTF')\n",
    "hash_df=hashing.transform(token_df)\n",
    "hash_df.show(truncate=False)"
   ]
  },
  {
   "cell_type": "markdown",
   "metadata": {},
   "source": [
    "## CountVectorizer"
   ]
  },
  {
   "cell_type": "code",
   "execution_count": 18,
   "metadata": {},
   "outputs": [
    {
     "name": "stdout",
     "output_type": "stream",
     "text": [
      "+--------------------------------------------------+-----+----------------------------------------------------------+----------------------------------------------------+\n",
      "|text                                              |label|tokens                                                    |countVec                                            |\n",
      "+--------------------------------------------------+-----+----------------------------------------------------------+----------------------------------------------------+\n",
      "|Apache spark is faster than Hadoop                |1    |[apache, spark, is, faster, than, hadoop]                 |(12,[0,1,2,3,5,7],[1.0,1.0,1.0,1.0,1.0,1.0])        |\n",
      "|Spark supports both streaming and batch processing|0    |[spark, supports, both, streaming, and, batch, processing]|(12,[0,4,6,8,9,10,11],[1.0,1.0,1.0,1.0,1.0,1.0,1.0])|\n",
      "+--------------------------------------------------+-----+----------------------------------------------------------+----------------------------------------------------+\n",
      "\n"
     ]
    }
   ],
   "source": [
    "from pyspark.ml.feature import CountVectorizer\n",
    "countvector=CountVectorizer(vocabSize=pow(2,4),inputCol='tokens',outputCol='countVec')\n",
    "countvector_df=countvector.fit(token_df).transform(token_df)\n",
    "countvector_df.show(truncate=False)"
   ]
  },
  {
   "cell_type": "markdown",
   "metadata": {},
   "source": [
    "# Example 2"
   ]
  },
  {
   "cell_type": "code",
   "execution_count": 20,
   "metadata": {},
   "outputs": [
    {
     "name": "stdout",
     "output_type": "stream",
     "text": [
      "+-----------------+\n",
      "|             text|\n",
      "+-----------------+\n",
      "|Rich Dad Poor Dad|\n",
      "|      Dad is rich|\n",
      "+-----------------+\n",
      "\n"
     ]
    }
   ],
   "source": [
    "a_df=spark.createDataFrame([('Rich Dad Poor Dad',),('Dad is rich',)],['text'])\n",
    "a_df.show()"
   ]
  },
  {
   "cell_type": "code",
   "execution_count": 29,
   "metadata": {},
   "outputs": [
    {
     "name": "stdout",
     "output_type": "stream",
     "text": [
      "+-----------------+----------------------+\n",
      "|text             |tokens                |\n",
      "+-----------------+----------------------+\n",
      "|Rich Dad Poor Dad|[rich, dad, poor, dad]|\n",
      "|Dad is rich      |[dad, is, rich]       |\n",
      "+-----------------+----------------------+\n",
      "\n"
     ]
    }
   ],
   "source": [
    "a_token=Tokenizer(inputCol='text',outputCol='tokens')\n",
    "token_a_df=a_token.transform(a_df)\n",
    "token_a_df.show(truncate=False)"
   ]
  },
  {
   "cell_type": "code",
   "execution_count": 33,
   "metadata": {},
   "outputs": [
    {
     "name": "stdout",
     "output_type": "stream",
     "text": [
      "+-----------------+----------------------+-------------------------+\n",
      "|text             |tokens                |counts                   |\n",
      "+-----------------+----------------------+-------------------------+\n",
      "|Rich Dad Poor Dad|[rich, dad, poor, dad]|(4,[0,1,3],[2.0,1.0,1.0])|\n",
      "|Dad is rich      |[dad, is, rich]       |(4,[0,1,2],[1.0,1.0,1.0])|\n",
      "+-----------------+----------------------+-------------------------+\n",
      "\n"
     ]
    }
   ],
   "source": [
    "a_countvec=CountVectorizer(vocabSize=pow(2,2),inputCol='tokens',outputCol='counts')\n",
    "countvec_a_df=a_countvec.fit(token_a_df).transform(token_a_df)\n",
    "countvec_a_df.show(truncate=False)"
   ]
  },
  {
   "cell_type": "code",
   "execution_count": null,
   "metadata": {},
   "outputs": [],
   "source": []
  }
 ],
 "metadata": {
  "kernelspec": {
   "display_name": "Python 3",
   "language": "python",
   "name": "python3"
  },
  "language_info": {
   "codemirror_mode": {
    "name": "ipython",
    "version": 3
   },
   "file_extension": ".py",
   "mimetype": "text/x-python",
   "name": "python",
   "nbconvert_exporter": "python",
   "pygments_lexer": "ipython3",
   "version": "3.7.3"
  }
 },
 "nbformat": 4,
 "nbformat_minor": 2
}
