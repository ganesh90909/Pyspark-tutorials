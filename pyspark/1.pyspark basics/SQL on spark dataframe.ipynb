{
 "cells": [
  {
   "cell_type": "code",
   "execution_count": 1,
   "metadata": {},
   "outputs": [],
   "source": [
    "import pyspark"
   ]
  },
  {
   "cell_type": "code",
   "execution_count": 2,
   "metadata": {},
   "outputs": [],
   "source": [
    "from pyspark import SparkContext\n",
    "from pyspark.sql import SQLContext\n",
    "sc=SparkContext('local','Spark SQL')\n",
    "sqlc=SQLContext(sc)"
   ]
  },
  {
   "cell_type": "markdown",
   "metadata": {},
   "source": [
    "## agg"
   ]
  },
  {
   "cell_type": "code",
   "execution_count": 3,
   "metadata": {},
   "outputs": [
    {
     "name": "stdout",
     "output_type": "stream",
     "text": [
      "+-----+-----+---+\n",
      "| from|   to|amt|\n",
      "+-----+-----+---+\n",
      "|Alice|  Bob|0.1|\n",
      "| fred|  kev|0.2|\n",
      "| nico|david|0.3|\n",
      "+-----+-----+---+\n",
      "\n",
      "+-------------------+\n",
      "|           avg(amt)|\n",
      "+-------------------+\n",
      "|0.20000000000000004|\n",
      "+-------------------+\n",
      "\n"
     ]
    }
   ],
   "source": [
    "#aggregation\n",
    "x=sqlc.createDataFrame([('Alice','Bob',0.1),('fred','kev',0.2),('nico','david',0.3)],['from','to','amt'])\n",
    "y=x.agg({'amt':'avg'})\n",
    "x.show()\n",
    "y.show()"
   ]
  },
  {
   "cell_type": "markdown",
   "metadata": {},
   "source": [
    "## alias"
   ]
  },
  {
   "cell_type": "code",
   "execution_count": 4,
   "metadata": {},
   "outputs": [
    {
     "name": "stdout",
     "output_type": "stream",
     "text": [
      "+-----+-----+---+\n",
      "| from|   to|amt|\n",
      "+-----+-----+---+\n",
      "|Alice|  Bob|0.1|\n",
      "| fred|  kev|0.2|\n",
      "| nico|david|0.3|\n",
      "+-----+-----+---+\n",
      "\n",
      "+-----+-----+---+\n",
      "| from|   to|amt|\n",
      "+-----+-----+---+\n",
      "|Alice|  Bob|0.1|\n",
      "| fred|  kev|0.2|\n",
      "| nico|david|0.3|\n",
      "+-----+-----+---+\n",
      "\n",
      "+-----+\n",
      "|   to|\n",
      "+-----+\n",
      "|  Bob|\n",
      "|  kev|\n",
      "|david|\n",
      "+-----+\n",
      "\n"
     ]
    }
   ],
   "source": [
    "#alias\n",
    "from pyspark.sql.functions import col\n",
    "x=sqlc.createDataFrame([('Alice','Bob',0.1),('fred','kev',0.2),('nico','david',0.3)],['from','to','amt'])\n",
    "y=x.alias('transactions')\n",
    "x.show()\n",
    "y.show()\n",
    "y.select(col('transactions.to')).show()"
   ]
  },
  {
   "cell_type": "markdown",
   "metadata": {},
   "source": [
    "## cache"
   ]
  },
  {
   "cell_type": "code",
   "execution_count": 5,
   "metadata": {},
   "outputs": [
    {
     "name": "stdout",
     "output_type": "stream",
     "text": [
      "3\n",
      "3\n"
     ]
    }
   ],
   "source": [
    "#cache\n",
    "x=sqlc.createDataFrame([('Alice','Bob',0.1),('fred','kev',0.2),('nico','david',0.3)],['from','to','amt'])\n",
    "x.cache()\n",
    "print(x.count())\n",
    "print(x.count())"
   ]
  },
  {
   "cell_type": "markdown",
   "metadata": {},
   "source": [
    "## coalesce"
   ]
  },
  {
   "cell_type": "code",
   "execution_count": 6,
   "metadata": {},
   "outputs": [
    {
     "name": "stdout",
     "output_type": "stream",
     "text": [
      "2\n",
      "1\n"
     ]
    }
   ],
   "source": [
    "#coalesce\n",
    "x_rdd=sc.parallelize([('Alice','Bob',0.1),('fred','kev',0.2),('nico','david',0.3)],2)\n",
    "x=sqlc.createDataFrame(x_rdd,['from','to','amt'])\n",
    "y=x.coalesce(numPartitions=1)\n",
    "print(x.rdd.getNumPartitions())\n",
    "print(y.rdd.getNumPartitions())"
   ]
  },
  {
   "cell_type": "markdown",
   "metadata": {},
   "source": [
    "## collect"
   ]
  },
  {
   "cell_type": "code",
   "execution_count": 7,
   "metadata": {},
   "outputs": [
    {
     "data": {
      "text/plain": [
       "[Row(from='Alice', to='Bob', amt=0.1),\n",
       " Row(from='fred', to='kev', amt=0.2),\n",
       " Row(from='nico', to='david', amt=0.3)]"
      ]
     },
     "execution_count": 7,
     "metadata": {},
     "output_type": "execute_result"
    }
   ],
   "source": [
    "#collect\n",
    "x=sqlc.createDataFrame([('Alice','Bob',0.1),('fred','kev',0.2),('nico','david',0.3)],['from','to','amt'])\n",
    "x.rdd.collect()\n"
   ]
  },
  {
   "cell_type": "code",
   "execution_count": 8,
   "metadata": {},
   "outputs": [
    {
     "name": "stdout",
     "output_type": "stream",
     "text": [
      "[Row(from='Alice', to='Bob', amt=0.1), Row(from='fred', to='kev', amt=0.2), Row(from='nico', to='david', amt=0.3)]\n"
     ]
    }
   ],
   "source": [
    "y=x.collect() #creates list on driver\n",
    "print(y)"
   ]
  },
  {
   "cell_type": "markdown",
   "metadata": {},
   "source": [
    "## columns"
   ]
  },
  {
   "cell_type": "code",
   "execution_count": 9,
   "metadata": {},
   "outputs": [
    {
     "name": "stdout",
     "output_type": "stream",
     "text": [
      "['from', 'to', 'amt']\n"
     ]
    }
   ],
   "source": [
    "#columns\n",
    "x=x=sqlc.createDataFrame([('Alice','Bob',0.1),('fred','kev',0.2),('nico','david',0.3)],['from','to','amt'])\n",
    "y=x.columns\n",
    "print(y)\n"
   ]
  },
  {
   "cell_type": "markdown",
   "metadata": {},
   "source": [
    "## corr"
   ]
  },
  {
   "cell_type": "code",
   "execution_count": 10,
   "metadata": {},
   "outputs": [
    {
     "name": "stdout",
     "output_type": "stream",
     "text": [
      "+-----+-----+---+-----+\n",
      "| from|   to|amt|  fee|\n",
      "+-----+-----+---+-----+\n",
      "|Alice|  Bob|0.1|0.001|\n",
      "| fred|  kev|0.2|0.005|\n",
      "| nico|david|0.3|  0.1|\n",
      "+-----+-----+---+-----+\n",
      "\n",
      "0.8833184961559478\n"
     ]
    }
   ],
   "source": [
    "#correlation (corr)\n",
    "x=sqlc.createDataFrame([('Alice','Bob',0.1,0.001),('fred','kev',0.2,0.005),('nico','david',0.3,0.1)],\n",
    "                         ['from','to','amt','fee'])\n",
    "y=x.corr('amt','fee')\n",
    "x.show()\n",
    "print(y)\n",
    "\n"
   ]
  },
  {
   "cell_type": "markdown",
   "metadata": {},
   "source": [
    "## count"
   ]
  },
  {
   "cell_type": "code",
   "execution_count": 11,
   "metadata": {},
   "outputs": [
    {
     "name": "stdout",
     "output_type": "stream",
     "text": [
      "3\n"
     ]
    }
   ],
   "source": [
    "#count\n",
    "x=sqlc.createDataFrame([('Alice','Bob',0.1),('fred','kev',0.2),('nico','david',0.3)],['from','to','amt'])\n",
    "print(x.count())"
   ]
  },
  {
   "cell_type": "markdown",
   "metadata": {},
   "source": [
    "## cov"
   ]
  },
  {
   "cell_type": "code",
   "execution_count": 12,
   "metadata": {},
   "outputs": [
    {
     "name": "stdout",
     "output_type": "stream",
     "text": [
      "+-----+-----+---+----+\n",
      "| from|   to|amt| fee|\n",
      "+-----+-----+---+----+\n",
      "|Alice|  Bob|0.1|0.05|\n",
      "| fred|  kev|0.2| 0.4|\n",
      "| nico|david|0.3| 0.8|\n",
      "+-----+-----+---+----+\n",
      "\n",
      "0.03749999999999999\n"
     ]
    }
   ],
   "source": [
    "#covariance\n",
    "x=sqlc.createDataFrame([('Alice','Bob',0.1,0.05),('fred','kev',0.2,0.4),('nico','david',0.3,0.8)],\n",
    "                       ['from','to','amt','fee'])\n",
    "y=x.cov('amt','fee')\n",
    "x.show()\n",
    "print(y)"
   ]
  },
  {
   "cell_type": "markdown",
   "metadata": {},
   "source": [
    "## crosstab"
   ]
  },
  {
   "cell_type": "code",
   "execution_count": 13,
   "metadata": {},
   "outputs": [
    {
     "name": "stdout",
     "output_type": "stream",
     "text": [
      "+-----+-----+---+\n",
      "| from|   to|amt|\n",
      "+-----+-----+---+\n",
      "|Alice|  Bob|0.1|\n",
      "| fred|  kev|0.2|\n",
      "| nico|david|0.3|\n",
      "+-----+-----+---+\n",
      "\n",
      "+-------+---+-----+---+\n",
      "|from_to|Bob|david|kev|\n",
      "+-------+---+-----+---+\n",
      "|   fred|  0|    0|  1|\n",
      "|   nico|  0|    1|  0|\n",
      "|  Alice|  1|    0|  0|\n",
      "+-------+---+-----+---+\n",
      "\n"
     ]
    }
   ],
   "source": [
    "#crosstab\n",
    "x=sqlc.createDataFrame([('Alice','Bob',0.1),('fred','kev',0.2),('nico','david',0.3)],['from','to','amt'])\n",
    "y=x.crosstab('from','to')\n",
    "x.show()\n",
    "y.show()"
   ]
  },
  {
   "cell_type": "markdown",
   "metadata": {},
   "source": [
    "## cube"
   ]
  },
  {
   "cell_type": "code",
   "execution_count": 14,
   "metadata": {},
   "outputs": [
    {
     "name": "stdout",
     "output_type": "stream",
     "text": [
      "+-----+-----+---+\n",
      "| from|   to|amt|\n",
      "+-----+-----+---+\n",
      "|Alice|  Bob|0.1|\n",
      "| fred|  kev|0.2|\n",
      "| nico|david|0.3|\n",
      "+-----+-----+---+\n",
      "\n",
      "<pyspark.sql.group.GroupedData object at 0x115257710>\n"
     ]
    }
   ],
   "source": [
    "x=sqlc.createDataFrame([('Alice','Bob',0.1),('fred','kev',0.2),('nico','david',0.3)],['from','to','amt'])\n",
    "y=x.cube('from','to')\n",
    "x.show()\n",
    "print(y) #grouped data object,aggregations will be applied to numeric columns"
   ]
  },
  {
   "cell_type": "code",
   "execution_count": 15,
   "metadata": {},
   "outputs": [
    {
     "name": "stdout",
     "output_type": "stream",
     "text": [
      "+-----+-----+------------------+\n",
      "| from|   to|          sum(amt)|\n",
      "+-----+-----+------------------+\n",
      "| fred| null|               0.2|\n",
      "| null| null|0.6000000000000001|\n",
      "| null|  Bob|               0.1|\n",
      "| null|david|               0.3|\n",
      "| fred|  kev|               0.2|\n",
      "| nico|david|               0.3|\n",
      "| nico| null|               0.3|\n",
      "|Alice|  Bob|               0.1|\n",
      "| null|  kev|               0.2|\n",
      "|Alice| null|               0.1|\n",
      "+-----+-----+------------------+\n",
      "\n"
     ]
    }
   ],
   "source": [
    "y.sum().show()"
   ]
  },
  {
   "cell_type": "code",
   "execution_count": 16,
   "metadata": {},
   "outputs": [
    {
     "name": "stdout",
     "output_type": "stream",
     "text": [
      "+-----+-----+--------+\n",
      "| from|   to|max(amt)|\n",
      "+-----+-----+--------+\n",
      "| fred| null|     0.2|\n",
      "| null| null|     0.3|\n",
      "| null|  Bob|     0.1|\n",
      "| null|david|     0.3|\n",
      "| fred|  kev|     0.2|\n",
      "| nico|david|     0.3|\n",
      "| nico| null|     0.3|\n",
      "|Alice|  Bob|     0.1|\n",
      "| null|  kev|     0.2|\n",
      "|Alice| null|     0.1|\n",
      "+-----+-----+--------+\n",
      "\n"
     ]
    }
   ],
   "source": [
    "y.max().show()"
   ]
  },
  {
   "cell_type": "markdown",
   "metadata": {},
   "source": [
    "## describe"
   ]
  },
  {
   "cell_type": "code",
   "execution_count": 17,
   "metadata": {},
   "outputs": [
    {
     "name": "stdout",
     "output_type": "stream",
     "text": [
      "+-------+-----+----+-------------------+\n",
      "|summary| from|  to|                amt|\n",
      "+-------+-----+----+-------------------+\n",
      "|  count|    3|   3|                  3|\n",
      "|   mean| null|null|0.20000000000000004|\n",
      "| stddev| null|null|0.09999999999999998|\n",
      "|    min|Alice| Bob|                0.1|\n",
      "|    max| nico| kev|                0.3|\n",
      "+-------+-----+----+-------------------+\n",
      "\n",
      "+-----+-----+---+\n",
      "| from|   to|amt|\n",
      "+-----+-----+---+\n",
      "|Alice|  Bob|0.1|\n",
      "| fred|  kev|0.2|\n",
      "| nico|david|0.3|\n",
      "+-----+-----+---+\n",
      "\n"
     ]
    }
   ],
   "source": [
    "x=sqlc.createDataFrame([('Alice','Bob',0.1),('fred','kev',0.2),('nico','david',0.3)],['from','to','amt'])\n",
    "x.describe().show()\n",
    "x.show()"
   ]
  },
  {
   "cell_type": "markdown",
   "metadata": {},
   "source": [
    "## distinct"
   ]
  },
  {
   "cell_type": "code",
   "execution_count": 18,
   "metadata": {},
   "outputs": [
    {
     "name": "stdout",
     "output_type": "stream",
     "text": [
      "+-----+-----+---+\n",
      "| from|   to|amt|\n",
      "+-----+-----+---+\n",
      "|Alice|  Bob|0.1|\n",
      "| fred|  kev|0.2|\n",
      "| nico|david|0.3|\n",
      "| fred|  kev|0.2|\n",
      "+-----+-----+---+\n",
      "\n",
      "+-----+-----+---+\n",
      "| from|   to|amt|\n",
      "+-----+-----+---+\n",
      "| nico|david|0.3|\n",
      "|Alice|  Bob|0.1|\n",
      "| fred|  kev|0.2|\n",
      "+-----+-----+---+\n",
      "\n"
     ]
    }
   ],
   "source": [
    "#distinct\n",
    "x=sqlc.createDataFrame([('Alice','Bob',0.1),('fred','kev',0.2),('nico','david',0.3),('fred','kev',0.2)],\n",
    "                       ['from','to','amt'])\n",
    "y=x.distinct()\n",
    "x.show()\n",
    "y.show()"
   ]
  },
  {
   "cell_type": "markdown",
   "metadata": {},
   "source": [
    "## drop"
   ]
  },
  {
   "cell_type": "code",
   "execution_count": 19,
   "metadata": {},
   "outputs": [
    {
     "name": "stdout",
     "output_type": "stream",
     "text": [
      "+-----+-----+---+\n",
      "| from|   to|amt|\n",
      "+-----+-----+---+\n",
      "|Alice|  Bob|0.1|\n",
      "| fred|  kev|0.2|\n",
      "| nico|david|0.3|\n",
      "+-----+-----+---+\n",
      "\n",
      "+-----+-----+\n",
      "| from|   to|\n",
      "+-----+-----+\n",
      "|Alice|  Bob|\n",
      "| fred|  kev|\n",
      "| nico|david|\n",
      "+-----+-----+\n",
      "\n"
     ]
    }
   ],
   "source": [
    "x=sqlc.createDataFrame([('Alice','Bob',0.1),('fred','kev',0.2),('nico','david',0.3)],['from','to','amt'])\n",
    "y=x.drop('amt')\n",
    "x.show()\n",
    "y.show()"
   ]
  },
  {
   "cell_type": "markdown",
   "metadata": {},
   "source": [
    "## dropDuplicates"
   ]
  },
  {
   "cell_type": "code",
   "execution_count": 20,
   "metadata": {},
   "outputs": [
    {
     "name": "stdout",
     "output_type": "stream",
     "text": [
      "+-----+-----+---+\n",
      "| from|   to|amt|\n",
      "+-----+-----+---+\n",
      "|Alice|  Bob|0.1|\n",
      "| fred|  kev|0.2|\n",
      "| nico|david|0.3|\n",
      "| nico|david|0.8|\n",
      "| fred|  kev|0.2|\n",
      "+-----+-----+---+\n",
      "\n",
      "+-----+-----+---+\n",
      "| from|   to|amt|\n",
      "+-----+-----+---+\n",
      "| nico|david|0.3|\n",
      "|Alice|  Bob|0.1|\n",
      "| fred|  kev|0.2|\n",
      "+-----+-----+---+\n",
      "\n"
     ]
    }
   ],
   "source": [
    "#dropDuplicates\n",
    "x=sqlc.createDataFrame([('Alice','Bob',0.1),('fred','kev',0.2),('nico','david',0.3),('nico','david',0.8),('fred','kev',0.2)],\n",
    "                       ['from','to','amt'])\n",
    "y=x.dropDuplicates(subset=['from','to'])\n",
    "x.show()\n",
    "y.show()"
   ]
  },
  {
   "cell_type": "markdown",
   "metadata": {},
   "source": [
    "## dropna"
   ]
  },
  {
   "cell_type": "code",
   "execution_count": 21,
   "metadata": {},
   "outputs": [
    {
     "name": "stdout",
     "output_type": "stream",
     "text": [
      "+----+-----+----+\n",
      "|from|   to| amt|\n",
      "+----+-----+----+\n",
      "|null|  Bob| 0.1|\n",
      "|fred| null| 0.2|\n",
      "|nico|david|null|\n",
      "|nico|vinny| 0.5|\n",
      "+----+-----+----+\n",
      "\n",
      "+----+-----+----+\n",
      "|from|   to| amt|\n",
      "+----+-----+----+\n",
      "|nico|david|null|\n",
      "|nico|vinny| 0.5|\n",
      "+----+-----+----+\n",
      "\n"
     ]
    }
   ],
   "source": [
    "#dropna\n",
    "x=sqlc.createDataFrame([(None,'Bob',0.1),('fred',None,0.2),('nico','david',None),('nico','vinny',0.5)],['from','to','amt'])\n",
    "y=x.dropna(subset=['from','to'])\n",
    "x.show()\n",
    "y.show()"
   ]
  },
  {
   "cell_type": "markdown",
   "metadata": {},
   "source": [
    "## dtypes"
   ]
  },
  {
   "cell_type": "code",
   "execution_count": 22,
   "metadata": {},
   "outputs": [
    {
     "name": "stdout",
     "output_type": "stream",
     "text": [
      "+-----+-----+---+\n",
      "| from|   to|amt|\n",
      "+-----+-----+---+\n",
      "|Alice|  Bob|0.1|\n",
      "| fred|  kev|0.2|\n",
      "| nico|david|0.3|\n",
      "+-----+-----+---+\n",
      "\n",
      "[('from', 'string'), ('to', 'string'), ('amt', 'double')]\n"
     ]
    }
   ],
   "source": [
    "#dtypes\n",
    "x=sqlc.createDataFrame([('Alice','Bob',0.1),('fred','kev',0.2),('nico','david',0.3)],['from','to','amt'])\n",
    "y=x.dtypes\n",
    "x.show()\n",
    "print(y)"
   ]
  },
  {
   "cell_type": "code",
   "execution_count": 23,
   "metadata": {},
   "outputs": [
    {
     "data": {
      "text/plain": [
       "list"
      ]
     },
     "execution_count": 23,
     "metadata": {},
     "output_type": "execute_result"
    }
   ],
   "source": [
    "type(y)"
   ]
  },
  {
   "cell_type": "markdown",
   "metadata": {},
   "source": [
    "## explain"
   ]
  },
  {
   "cell_type": "code",
   "execution_count": 24,
   "metadata": {},
   "outputs": [
    {
     "name": "stdout",
     "output_type": "stream",
     "text": [
      "== Physical Plan ==\n",
      "Scan ExistingRDD[from#687,to#688,amt#689]\n",
      "+-----+-----+---+\n",
      "| from|   to|amt|\n",
      "+-----+-----+---+\n",
      "|Alice|  Bob|0.1|\n",
      "| fred|  kev|0.2|\n",
      "| nico|david|0.3|\n",
      "+-----+-----+---+\n",
      "\n",
      "== Parsed Logical Plan ==\n",
      "'Aggregate ['avg(amt#689) AS avg(amt)#706]\n",
      "+- LogicalRDD [from#687, to#688, amt#689], false\n",
      "\n",
      "== Analyzed Logical Plan ==\n",
      "avg(amt): double\n",
      "Aggregate [avg(amt#689) AS avg(amt)#706]\n",
      "+- LogicalRDD [from#687, to#688, amt#689], false\n",
      "\n",
      "== Optimized Logical Plan ==\n",
      "Aggregate [avg(amt#689) AS avg(amt)#706]\n",
      "+- Project [amt#689]\n",
      "   +- LogicalRDD [from#687, to#688, amt#689], false\n",
      "\n",
      "== Physical Plan ==\n",
      "*(2) HashAggregate(keys=[], functions=[avg(amt#689)], output=[avg(amt)#706])\n",
      "+- Exchange SinglePartition\n",
      "   +- *(1) HashAggregate(keys=[], functions=[partial_avg(amt#689)], output=[sum#711, count#712L])\n",
      "      +- *(1) Project [amt#689]\n",
      "         +- Scan ExistingRDD[from#687,to#688,amt#689]\n"
     ]
    }
   ],
   "source": [
    "#explain\n",
    "x=sqlc.createDataFrame([('Alice','Bob',0.1),('fred','kev',0.2),('nico','david',0.3)],['from','to','amt'])\n",
    "y=x.explain()\n",
    "x.show()\n",
    "x.agg({'amt':'avg'}).explain(extended=True)"
   ]
  },
  {
   "cell_type": "markdown",
   "metadata": {},
   "source": [
    "## fillna"
   ]
  },
  {
   "cell_type": "code",
   "execution_count": 25,
   "metadata": {},
   "outputs": [
    {
     "name": "stdout",
     "output_type": "stream",
     "text": [
      "+-----+-----+---+\n",
      "| from|   to|amt|\n",
      "+-----+-----+---+\n",
      "|Alice| null|0.1|\n",
      "| fred|  kev|0.2|\n",
      "| null|david|0.3|\n",
      "+-----+-----+---+\n",
      "\n",
      "+-------+-------+---+\n",
      "|   from|     to|amt|\n",
      "+-------+-------+---+\n",
      "|  Alice|unknown|0.1|\n",
      "|   fred|    kev|0.2|\n",
      "|unknown|  david|0.3|\n",
      "+-------+-------+---+\n",
      "\n"
     ]
    }
   ],
   "source": [
    "#fillna\n",
    "x=sqlc.createDataFrame([('Alice',None,0.1),('fred','kev',0.2),(None,'david',0.3)],['from','to','amt'])\n",
    "y=x.fillna(value='unknown',subset=['from','to'])\n",
    "x.show()\n",
    "y.show()"
   ]
  },
  {
   "cell_type": "markdown",
   "metadata": {},
   "source": [
    "## filter"
   ]
  },
  {
   "cell_type": "code",
   "execution_count": 26,
   "metadata": {},
   "outputs": [
    {
     "name": "stdout",
     "output_type": "stream",
     "text": [
      "+-----+-----+---+\n",
      "| from|   to|amt|\n",
      "+-----+-----+---+\n",
      "|Alice| null|0.1|\n",
      "| fred|  kev|0.2|\n",
      "| null|david|0.3|\n",
      "+-----+-----+---+\n",
      "\n",
      "+----+-----+---+\n",
      "|from|   to|amt|\n",
      "+----+-----+---+\n",
      "|fred|  kev|0.2|\n",
      "|null|david|0.3|\n",
      "+----+-----+---+\n",
      "\n"
     ]
    }
   ],
   "source": [
    "#filter\n",
    "x=sqlc.createDataFrame([('Alice',None,0.1),('fred','kev',0.2),(None,'david',0.3)],['from','to','amt'])\n",
    "y=x.filter('amt > 0.1')\n",
    "x.show()\n",
    "y.show()"
   ]
  },
  {
   "cell_type": "markdown",
   "metadata": {},
   "source": [
    "## first"
   ]
  },
  {
   "cell_type": "code",
   "execution_count": 27,
   "metadata": {},
   "outputs": [
    {
     "name": "stdout",
     "output_type": "stream",
     "text": [
      "+-----+-----+---+\n",
      "| from|   to|amt|\n",
      "+-----+-----+---+\n",
      "|Alice| null|0.1|\n",
      "| fred|  kev|0.2|\n",
      "| null|david|0.3|\n",
      "+-----+-----+---+\n",
      "\n",
      "Row(from='Alice', to=None, amt=0.1)\n"
     ]
    }
   ],
   "source": [
    "#first\n",
    "x=sqlc.createDataFrame([('Alice',None,0.1),('fred','kev',0.2),(None,'david',0.3)],['from','to','amt'])\n",
    "y=x.first()\n",
    "x.show()\n",
    "print(y)"
   ]
  },
  {
   "cell_type": "markdown",
   "metadata": {},
   "source": [
    "## flatMap"
   ]
  },
  {
   "cell_type": "code",
   "execution_count": 28,
   "metadata": {},
   "outputs": [
    {
     "name": "stdout",
     "output_type": "stream",
     "text": [
      "+-----+-----+---+\n",
      "| from|   to|amt|\n",
      "+-----+-----+---+\n",
      "|Alice|  Bob|0.1|\n",
      "| fred|  kev|0.2|\n",
      "| nico|david|0.3|\n",
      "+-----+-----+---+\n",
      "\n",
      "PythonRDD[306] at RDD at PythonRDD.scala:53\n"
     ]
    },
    {
     "data": {
      "text/plain": [
       "['Alice', 0.1, 'fred', 0.2, 'nico', 0.3]"
      ]
     },
     "execution_count": 28,
     "metadata": {},
     "output_type": "execute_result"
    }
   ],
   "source": [
    "#flatMap\n",
    "x=sqlc.createDataFrame([('Alice','Bob',0.1),('fred','kev',0.2),('nico','david',0.3)],['from','to','amt'])\n",
    "y=x.rdd.flatMap(lambda q:(q[0],q[2])) #dataframe don't have flatmap attribute,so change it to rdd(x.rdd.flatMap)\n",
    "x.show()\n",
    "print(y)\n",
    "y.collect()"
   ]
  },
  {
   "cell_type": "markdown",
   "metadata": {},
   "source": [
    "## foreach"
   ]
  },
  {
   "cell_type": "code",
   "execution_count": 29,
   "metadata": {},
   "outputs": [
    {
     "name": "stdout",
     "output_type": "stream",
     "text": [
      "+-----+-----+---+\n",
      "| from|   to|amt|\n",
      "+-----+-----+---+\n",
      "|Alice|  Bob|0.1|\n",
      "| fred|  kev|0.2|\n",
      "| nico|david|0.3|\n",
      "+-----+-----+---+\n",
      "\n",
      "None\n",
      "Row(from='Alice', to='Bob', amt=0.1)\n",
      "Row(from='fred', to='kev', amt=0.2)\n",
      "Row(from='nico', to='david', amt=0.3)\n",
      "\n"
     ]
    }
   ],
   "source": [
    "#foreach\n",
    "\n",
    "fn='foreachExample.txt'\n",
    "open(fn,'w').close() #clear the file\n",
    "\n",
    "def append(el,f):\n",
    "    print(el,file=open(f,'a+'))\n",
    "\n",
    "#example\n",
    "x=sqlc.createDataFrame([('Alice','Bob',0.1),('fred','kev',0.2),('nico','david',0.3)],['from','to','amt'])\n",
    "y=x.foreach(lambda x:append(x,fn)) #writes into the file\n",
    "x.show()\n",
    "print(y)\n",
    "\n",
    "with open(fn,'r') as foreachExample:\n",
    "    print(foreachExample.read())"
   ]
  },
  {
   "cell_type": "markdown",
   "metadata": {},
   "source": [
    "## foreachPartition"
   ]
  },
  {
   "cell_type": "code",
   "execution_count": 30,
   "metadata": {},
   "outputs": [
    {
     "name": "stdout",
     "output_type": "stream",
     "text": [
      "+-----+-----+---+\n",
      "| from|   to|amt|\n",
      "+-----+-----+---+\n",
      "|Alice|  Bob|0.1|\n",
      "| fred|  kev|0.2|\n",
      "| nico|david|0.3|\n",
      "+-----+-----+---+\n",
      "\n",
      "None\n",
      "[Row(from='Alice', to='Bob', amt=0.1), Row(from='fred', to='kev', amt=0.2)]\n",
      "[Row(from='nico', to='david', amt=0.3)]\n",
      "\n"
     ]
    }
   ],
   "source": [
    "#foreachPartition\n",
    "fn='foreachPartitionExample.txt'\n",
    "open(fn,'w').close() #clear the file\n",
    "\n",
    "def foreachpartition(partition,f):\n",
    "    print([el for el in partition],file=open(f,'a+'))\n",
    "\n",
    "x=sqlc.createDataFrame([('Alice','Bob',0.1),('fred','kev',0.2),('nico','david',0.3)],['from','to','amt'])\n",
    "x=x.repartition(2) #partitioning into 2\n",
    "y=x.foreachPartition(lambda x:foreachpartition(x,fn))\n",
    "x.show()\n",
    "print(y)\n",
    "with open(fn,'r') as foreachExample:\n",
    "    print(foreachExample.read())\n",
    "    "
   ]
  },
  {
   "cell_type": "markdown",
   "metadata": {},
   "source": [
    "## freqItems"
   ]
  },
  {
   "cell_type": "code",
   "execution_count": 31,
   "metadata": {},
   "outputs": [
    {
     "name": "stdout",
     "output_type": "stream",
     "text": [
      "+-----+-----+---+\n",
      "| from|   to|amt|\n",
      "+-----+-----+---+\n",
      "|Alice|  Bob|0.1|\n",
      "| fred|  kev|0.2|\n",
      "| nico|david|0.3|\n",
      "|Alice|Olive|0.1|\n",
      "+-----+-----+---+\n",
      "\n",
      "+--------------+-------------+\n",
      "|from_freqItems|amt_freqItems|\n",
      "+--------------+-------------+\n",
      "|            []|           []|\n",
      "+--------------+-------------+\n",
      "\n"
     ]
    }
   ],
   "source": [
    "#freqItems\n",
    "x=sqlc.createDataFrame([('Alice','Bob',0.1),('fred','kev',0.2),('nico','david',0.3),\n",
    "                        ('Alice','Olive',0.1)],['from','to','amt'])\n",
    "y=x.freqItems(cols=['from','amt'],support=0.8)\n",
    "x.show()\n",
    "y.show()"
   ]
  },
  {
   "cell_type": "markdown",
   "metadata": {},
   "source": [
    "## groupBy"
   ]
  },
  {
   "cell_type": "code",
   "execution_count": 32,
   "metadata": {},
   "outputs": [
    {
     "name": "stdout",
     "output_type": "stream",
     "text": [
      "+-----+-----+---+\n",
      "| from|   to|amt|\n",
      "+-----+-----+---+\n",
      "|Alice|  Bob|0.1|\n",
      "| fred|  kev|0.2|\n",
      "| nico|david|0.3|\n",
      "+-----+-----+---+\n",
      "\n",
      "<class 'pyspark.sql.group.GroupedData'>\n"
     ]
    }
   ],
   "source": [
    "#groupby\n",
    "x=sqlc.createDataFrame([('Alice','Bob',0.1),('fred','kev',0.2),('nico','david',0.3)],['from','to','amt'])\n",
    "y=x.groupBy(['from'])\n",
    "x.show()\n",
    "print(type(y))"
   ]
  },
  {
   "cell_type": "code",
   "execution_count": 33,
   "metadata": {},
   "outputs": [
    {
     "name": "stdout",
     "output_type": "stream",
     "text": [
      "+-----+-----+---+\n",
      "| from|   to|amt|\n",
      "+-----+-----+---+\n",
      "|Alice|  Bob|0.1|\n",
      "| fred|  kev|0.2|\n",
      "| nico|david|0.3|\n",
      "|Alice|  Kun|0.5|\n",
      "+-----+-----+---+\n",
      "\n",
      "<class 'pyspark.sql.dataframe.DataFrame'>\n",
      "+-----+--------+\n",
      "| from|avg(amt)|\n",
      "+-----+--------+\n",
      "| fred|     0.2|\n",
      "|Alice|     0.3|\n",
      "| nico|     0.3|\n",
      "+-----+--------+\n",
      "\n"
     ]
    }
   ],
   "source": [
    "#groupby(col1).avg(col2)\n",
    "x=sqlc.createDataFrame([('Alice','Bob',0.1),('fred','kev',0.2),('nico','david',0.3),('Alice','Kun',0.5)],['from','to','amt'])\n",
    "y=x.groupBy(['from']).avg('amt')\n",
    "x.show()\n",
    "print(type(y))\n",
    "y.show()"
   ]
  },
  {
   "cell_type": "markdown",
   "metadata": {},
   "source": [
    "## head"
   ]
  },
  {
   "cell_type": "code",
   "execution_count": 34,
   "metadata": {},
   "outputs": [
    {
     "name": "stdout",
     "output_type": "stream",
     "text": [
      "+-----+-----+---+\n",
      "| from|   to|amt|\n",
      "+-----+-----+---+\n",
      "|Alice|  Bob|0.1|\n",
      "| fred|  kev|0.2|\n",
      "| nico|david|0.3|\n",
      "+-----+-----+---+\n",
      "\n",
      "[Row(from='Alice', to='Bob', amt=0.1), Row(from='fred', to='kev', amt=0.2)]\n"
     ]
    }
   ],
   "source": [
    "#head\n",
    "x=sqlc.createDataFrame([('Alice','Bob',0.1),('fred','kev',0.2),('nico','david',0.3)],['from','to','amt'])\n",
    "y=x.head(2)\n",
    "x.show()\n",
    "print(y) #y is a list, not a dataframe"
   ]
  },
  {
   "cell_type": "markdown",
   "metadata": {},
   "source": [
    "## intersect"
   ]
  },
  {
   "cell_type": "code",
   "execution_count": 35,
   "metadata": {},
   "outputs": [
    {
     "name": "stdout",
     "output_type": "stream",
     "text": [
      "+-----+-----+---+\n",
      "| from|   to|amt|\n",
      "+-----+-----+---+\n",
      "|Alice|  Bob|0.1|\n",
      "| fred|  kev|0.2|\n",
      "| nico|david|0.3|\n",
      "+-----+-----+---+\n",
      "\n",
      "+-----+-----+---+\n",
      "| from|   to|amt|\n",
      "+-----+-----+---+\n",
      "|Alice|  Bob|0.1|\n",
      "| fred|  Kun|0.2|\n",
      "| nico|david|0.2|\n",
      "+-----+-----+---+\n",
      "\n",
      "+-----+---+---+\n",
      "| from| to|amt|\n",
      "+-----+---+---+\n",
      "|Alice|Bob|0.1|\n",
      "+-----+---+---+\n",
      "\n"
     ]
    }
   ],
   "source": [
    "#intersect\n",
    "x=sqlc.createDataFrame([('Alice','Bob',0.1),('fred','kev',0.2),('nico','david',0.3)],['from','to','amt'])\n",
    "y=sqlc.createDataFrame([('Alice','Bob',0.1),('fred','Kun',0.2),('nico','david',0.2)],['from','to','amt'])\n",
    "x.show()\n",
    "y.show()\n",
    "z=x.intersect(y)\n",
    "z.show()"
   ]
  },
  {
   "cell_type": "markdown",
   "metadata": {},
   "source": [
    "## isLocal"
   ]
  },
  {
   "cell_type": "code",
   "execution_count": 36,
   "metadata": {},
   "outputs": [
    {
     "name": "stdout",
     "output_type": "stream",
     "text": [
      "+-----+-----+---+\n",
      "| from|   to|amt|\n",
      "+-----+-----+---+\n",
      "|Alice|  Bob|0.1|\n",
      "| fred|  kev|0.2|\n",
      "| nico|david|0.3|\n",
      "+-----+-----+---+\n",
      "\n",
      "False\n"
     ]
    }
   ],
   "source": [
    "#isLocal\n",
    "x=sqlc.createDataFrame([('Alice','Bob',0.1),('fred','kev',0.2),('nico','david',0.3)],['from','to','amt'])\n",
    "y=x.isLocal()\n",
    "x.show()\n",
    "print(y) #y is object on driver"
   ]
  },
  {
   "cell_type": "markdown",
   "metadata": {},
   "source": [
    "## join"
   ]
  },
  {
   "cell_type": "code",
   "execution_count": 37,
   "metadata": {},
   "outputs": [
    {
     "name": "stdout",
     "output_type": "stream",
     "text": [
      "+-----+-----+---+\n",
      "| from|   to|amt|\n",
      "+-----+-----+---+\n",
      "|Alice|  Bob|0.1|\n",
      "| fred|  kev|0.2|\n",
      "| nico|david|0.3|\n",
      "+-----+-----+---+\n",
      "\n",
      "+-----+---+\n",
      "| name|age|\n",
      "+-----+---+\n",
      "|Alice| 20|\n",
      "|  Kun| 25|\n",
      "|david| 32|\n",
      "|  kev| 22|\n",
      "+-----+---+\n",
      "\n",
      "+----+-----+---+---+\n",
      "|from|   to|amt|age|\n",
      "+----+-----+---+---+\n",
      "|nico|david|0.3| 32|\n",
      "|fred|  kev|0.2| 22|\n",
      "+----+-----+---+---+\n",
      "\n"
     ]
    }
   ],
   "source": [
    "#join(inner)\n",
    "x=sqlc.createDataFrame([('Alice','Bob',0.1),('fred','kev',0.2),('nico','david',0.3)],['from','to','amt'])\n",
    "y=sqlc.createDataFrame([('Alice',20),('Kun',25),('david',32),('kev',22)],['name','age'])\n",
    "z=x.join(y,x.to==y.name,'inner').select('from','to','amt','age')\n",
    "x.show()\n",
    "y.show()\n",
    "z.show()"
   ]
  },
  {
   "cell_type": "code",
   "execution_count": null,
   "metadata": {},
   "outputs": [],
   "source": []
  },
  {
   "cell_type": "markdown",
   "metadata": {},
   "source": [
    "## limit"
   ]
  },
  {
   "cell_type": "code",
   "execution_count": 40,
   "metadata": {},
   "outputs": [
    {
     "name": "stdout",
     "output_type": "stream",
     "text": [
      "+-----+-----+---+\n",
      "| from|   to|amt|\n",
      "+-----+-----+---+\n",
      "|Alice|  Bob|0.1|\n",
      "| fred|  kev|0.2|\n",
      "| nico|david|0.3|\n",
      "+-----+-----+---+\n",
      "\n",
      "+-----+---+---+\n",
      "| from| to|amt|\n",
      "+-----+---+---+\n",
      "|Alice|Bob|0.1|\n",
      "| fred|kev|0.2|\n",
      "+-----+---+---+\n",
      "\n"
     ]
    }
   ],
   "source": [
    "#join(inner)\n",
    "x=sqlc.createDataFrame([('Alice','Bob',0.1),('fred','kev',0.2),('nico','david',0.3)],['from','to','amt'])\n",
    "y=x.limit(2)\n",
    "x.show()\n",
    "y.show()"
   ]
  },
  {
   "cell_type": "markdown",
   "metadata": {},
   "source": [
    "## map"
   ]
  },
  {
   "cell_type": "code",
   "execution_count": 41,
   "metadata": {},
   "outputs": [
    {
     "name": "stdout",
     "output_type": "stream",
     "text": [
      "+-----+-----+---+\n",
      "| from|   to|amt|\n",
      "+-----+-----+---+\n",
      "|Alice|  Bob|0.1|\n",
      "| fred|  kev|0.2|\n",
      "| nico|david|0.3|\n",
      "+-----+-----+---+\n",
      "\n"
     ]
    },
    {
     "data": {
      "text/plain": [
       "[1.1, 1.2, 1.3]"
      ]
     },
     "execution_count": 41,
     "metadata": {},
     "output_type": "execute_result"
    }
   ],
   "source": [
    "#map\n",
    "x=sqlc.createDataFrame([('Alice','Bob',0.1),('fred','kev',0.2),('nico','david',0.3)],['from','to','amt'])\n",
    "y=x.rdd.map(lambda x:x.amt+1)\n",
    "x.show()\n",
    "y.collect()"
   ]
  },
  {
   "cell_type": "markdown",
   "metadata": {},
   "source": [
    "## mapPartitions"
   ]
  },
  {
   "cell_type": "code",
   "execution_count": 46,
   "metadata": {},
   "outputs": [
    {
     "name": "stdout",
     "output_type": "stream",
     "text": [
      "+-----+-----+---+\n",
      "| from|   to|amt|\n",
      "+-----+-----+---+\n",
      "|Alice|  Bob|0.1|\n",
      "| fred|  kev|0.2|\n",
      "| nico|david|0.3|\n",
      "+-----+-----+---+\n",
      "\n",
      "[[Row(from='Alice', to='Bob', amt=0.1), Row(from='fred', to='kev', amt=0.2)], [Row(from='nico', to='david', amt=0.3)]]\n",
      "[0.30000000000000004, 0.3]\n",
      "[[0.30000000000000004], [0.3]]\n"
     ]
    }
   ],
   "source": [
    "#mapPartitions\n",
    "def amt_sum(partition):\n",
    "    yield sum([el.amt for el in partition])\n",
    "x=sqlc.createDataFrame([('Alice','Bob',0.1),('fred','kev',0.2),('nico','david',0.3)],['from','to','amt'])\n",
    "x=x.repartition(2)\n",
    "y=x.rdd.mapPartitions(lambda p:amt_sum(p))\n",
    "x.show()\n",
    "print(x.rdd.glom().collect()) #glom() transforms each partition into tuples(immutable) of rdd\n",
    "print(y.collect())\n",
    "print(y.glom().collect())"
   ]
  },
  {
   "cell_type": "markdown",
   "metadata": {},
   "source": [
    "## na"
   ]
  },
  {
   "cell_type": "code",
   "execution_count": 49,
   "metadata": {},
   "outputs": [
    {
     "name": "stdout",
     "output_type": "stream",
     "text": [
      "+----+-----+----+\n",
      "|from|   to| amt|\n",
      "+----+-----+----+\n",
      "|null|  Bob| 0.1|\n",
      "|fred| null| 0.2|\n",
      "|nico|david|null|\n",
      "| kev|  kun| 0.9|\n",
      "+----+-----+----+\n",
      "\n",
      "<pyspark.sql.dataframe.DataFrameNaFunctions object at 0x115264630>\n",
      "+----+---+---+\n",
      "|from| to|amt|\n",
      "+----+---+---+\n",
      "| kev|kun|0.9|\n",
      "+----+---+---+\n",
      "\n",
      "+-------+-------+---+\n",
      "|   from|     to|amt|\n",
      "+-------+-------+---+\n",
      "|unknown|    Bob|0.1|\n",
      "|   fred|unknown|0.2|\n",
      "|   nico|  david|0.0|\n",
      "|    kev|    kun|0.9|\n",
      "+-------+-------+---+\n",
      "\n",
      "+----+-----+---+\n",
      "|from|   to|amt|\n",
      "+----+-----+---+\n",
      "|null|  Bob|0.1|\n",
      "|fred| null|0.2|\n",
      "|nico|david|0.0|\n",
      "| kev|  kun|0.9|\n",
      "+----+-----+---+\n",
      "\n"
     ]
    }
   ],
   "source": [
    "#na(supports fill,drop,replace methods)\n",
    "x=sqlc.createDataFrame([(None,'Bob',0.1),('fred',None,0.2),('nico','david',None),('kev','kun',0.9)],['from','to','amt'])\n",
    "y=x.na #supports drop, fill, replace\n",
    "x.show()\n",
    "print(y)\n",
    "y.drop().show()\n",
    "y.fill({'from':'unknown','to':'unknown','amt':0.0}).show()\n",
    "y.fill(0).show()"
   ]
  },
  {
   "cell_type": "markdown",
   "metadata": {},
   "source": [
    "## orderBy"
   ]
  },
  {
   "cell_type": "code",
   "execution_count": 55,
   "metadata": {},
   "outputs": [
    {
     "name": "stdout",
     "output_type": "stream",
     "text": [
      "+-----+-----+---+\n",
      "| from|   to|amt|\n",
      "+-----+-----+---+\n",
      "|Alice|  Bob|0.1|\n",
      "| fred|  kev|0.2|\n",
      "| nico|david|0.3|\n",
      "|Alice|  Bob|0.4|\n",
      "+-----+-----+---+\n",
      "\n",
      "+-----+-----+---+\n",
      "| from|   to|amt|\n",
      "+-----+-----+---+\n",
      "|Alice|  Bob|0.4|\n",
      "|Alice|  Bob|0.1|\n",
      "| fred|  kev|0.2|\n",
      "| nico|david|0.3|\n",
      "+-----+-----+---+\n",
      "\n"
     ]
    }
   ],
   "source": [
    "#orderBy\n",
    "x=sqlc.createDataFrame([('Alice','Bob',0.1),('fred','kev',0.2),('nico','david',0.3),('Alice','Bob',0.4)],['from','to','amt'])\n",
    "y=x.orderBy(['from','amt'],ascending=[True,False])\n",
    "x.show()\n",
    "y.show()"
   ]
  },
  {
   "cell_type": "markdown",
   "metadata": {},
   "source": [
    "## printSchema"
   ]
  },
  {
   "cell_type": "code",
   "execution_count": 58,
   "metadata": {},
   "outputs": [
    {
     "name": "stdout",
     "output_type": "stream",
     "text": [
      "root\n",
      " |-- from: string (nullable = true)\n",
      " |-- to: string (nullable = true)\n",
      " |-- amt: double (nullable = true)\n",
      "\n",
      "+-----+-----+---+\n",
      "| from|   to|amt|\n",
      "+-----+-----+---+\n",
      "|Alice|  Bob|0.1|\n",
      "| fred|  kev|0.2|\n",
      "| nico|david|0.3|\n",
      "|Alice|  Bob|0.4|\n",
      "+-----+-----+---+\n",
      "\n"
     ]
    }
   ],
   "source": [
    "#printSchema\n",
    "x=sqlc.createDataFrame([('Alice','Bob',0.1),('fred','kev',0.2),('nico','david',0.3),('Alice','Bob',0.4)],\n",
    "                       ['from','to','amt'])\n",
    "x.printSchema()\n",
    "x.show()\n"
   ]
  },
  {
   "cell_type": "markdown",
   "metadata": {},
   "source": [
    "## randomSplit"
   ]
  },
  {
   "cell_type": "code",
   "execution_count": 72,
   "metadata": {},
   "outputs": [
    {
     "name": "stdout",
     "output_type": "stream",
     "text": [
      "+-----+-----+---+\n",
      "| from|   to|amt|\n",
      "+-----+-----+---+\n",
      "|Alice|  Bob|0.1|\n",
      "| fred|  kev|0.2|\n",
      "| nico|david|0.3|\n",
      "|Alice|  Bob|0.4|\n",
      "+-----+-----+---+\n",
      "\n",
      "[DataFrame[from: string, to: string, amt: double], DataFrame[from: string, to: string, amt: double]]\n",
      "+-----+---+---+\n",
      "| from| to|amt|\n",
      "+-----+---+---+\n",
      "|Alice|Bob|0.1|\n",
      "|Alice|Bob|0.4|\n",
      "| fred|kev|0.2|\n",
      "+-----+---+---+\n",
      "\n",
      "+----+-----+---+\n",
      "|from|   to|amt|\n",
      "+----+-----+---+\n",
      "|nico|david|0.3|\n",
      "+----+-----+---+\n",
      "\n"
     ]
    }
   ],
   "source": [
    "#randomSplit\n",
    "x=sqlc.createDataFrame([('Alice','Bob',0.1),('fred','kev',0.2),('nico','david',0.3),('Alice','Bob',0.4)],\n",
    "                       ['from','to','amt'])\n",
    "y=x.randomSplit([0.5,0.2])\n",
    "x.show()\n",
    "print(y)\n",
    "y[0].show()\n",
    "y[1].show()"
   ]
  },
  {
   "cell_type": "markdown",
   "metadata": {},
   "source": [
    "## rdd"
   ]
  },
  {
   "cell_type": "code",
   "execution_count": 73,
   "metadata": {},
   "outputs": [
    {
     "name": "stdout",
     "output_type": "stream",
     "text": [
      "+-----+-----+---+\n",
      "| from|   to|amt|\n",
      "+-----+-----+---+\n",
      "|Alice|  Bob|0.1|\n",
      "| fred|  kev|0.2|\n",
      "| nico|david|0.3|\n",
      "|Alice|  Bob|0.4|\n",
      "+-----+-----+---+\n",
      "\n"
     ]
    },
    {
     "data": {
      "text/plain": [
       "[Row(from='Alice', to='Bob', amt=0.1),\n",
       " Row(from='fred', to='kev', amt=0.2),\n",
       " Row(from='nico', to='david', amt=0.3),\n",
       " Row(from='Alice', to='Bob', amt=0.4)]"
      ]
     },
     "execution_count": 73,
     "metadata": {},
     "output_type": "execute_result"
    }
   ],
   "source": [
    "#rdd\n",
    "x=sqlc.createDataFrame([('Alice','Bob',0.1),('fred','kev',0.2),('nico','david',0.3),('Alice','Bob',0.4)],\n",
    "                       ['from','to','amt'])\n",
    "y=x.rdd\n",
    "x.show()\n",
    "y.collect()"
   ]
  },
  {
   "cell_type": "markdown",
   "metadata": {},
   "source": [
    "## registerTempTable"
   ]
  },
  {
   "cell_type": "code",
   "execution_count": 76,
   "metadata": {},
   "outputs": [
    {
     "name": "stdout",
     "output_type": "stream",
     "text": [
      "+-----+-----+---+\n",
      "| from|   to|amt|\n",
      "+-----+-----+---+\n",
      "|Alice|  Bob|0.1|\n",
      "| fred|  kev|0.2|\n",
      "| nico|david|0.3|\n",
      "|Alice|  Bob|0.4|\n",
      "+-----+-----+---+\n",
      "\n",
      "+-----+-----+---+\n",
      "| from|   to|amt|\n",
      "+-----+-----+---+\n",
      "| fred|  kev|0.2|\n",
      "| nico|david|0.3|\n",
      "|Alice|  Bob|0.4|\n",
      "+-----+-----+---+\n",
      "\n"
     ]
    }
   ],
   "source": [
    "#register temp table\n",
    "x=sqlc.createDataFrame([('Alice','Bob',0.1),('fred','kev',0.2),('nico','david',0.3),('Alice','Bob',0.4)],\n",
    "                       ['from','to','amt'])\n",
    "x.registerTempTable('transactions')\n",
    "y=sqlc.sql('SELECT * FROM TRANSACTIONS WHERE amt>0.1')\n",
    "x.show()\n",
    "y.show()"
   ]
  },
  {
   "cell_type": "markdown",
   "metadata": {},
   "source": [
    "## replace"
   ]
  },
  {
   "cell_type": "code",
   "execution_count": 77,
   "metadata": {},
   "outputs": [
    {
     "name": "stdout",
     "output_type": "stream",
     "text": [
      "+-----+-----+---+\n",
      "| from|   to|amt|\n",
      "+-----+-----+---+\n",
      "|Alice|  Bob|0.1|\n",
      "| fred|  kev|0.2|\n",
      "| nico|david|0.3|\n",
      "|Alice|  Bob|0.4|\n",
      "+-----+-----+---+\n",
      "\n",
      "+----+-----+---+\n",
      "|from|   to|amt|\n",
      "+----+-----+---+\n",
      "|Gabi|  Bob|0.1|\n",
      "|fred|  kev|0.2|\n",
      "|nico|david|0.3|\n",
      "|Gabi|  Bob|0.4|\n",
      "+----+-----+---+\n",
      "\n"
     ]
    }
   ],
   "source": [
    "#replace\n",
    "x=sqlc.createDataFrame([('Alice','Bob',0.1),('fred','kev',0.2),('nico','david',0.3),('Alice','Bob',0.4)],\n",
    "                       ['from','to','amt'])\n",
    "y=x.replace('Alice','Gabi',['from','to'])\n",
    "x.show()\n",
    "y.show()"
   ]
  },
  {
   "cell_type": "markdown",
   "metadata": {},
   "source": [
    "## rollup"
   ]
  },
  {
   "cell_type": "code",
   "execution_count": 81,
   "metadata": {},
   "outputs": [
    {
     "name": "stdout",
     "output_type": "stream",
     "text": [
      "+-----+-----+---+\n",
      "| from|   to|amt|\n",
      "+-----+-----+---+\n",
      "|Alice|  Bob|0.1|\n",
      "| fred|  kev|0.2|\n",
      "| nico|david|0.3|\n",
      "|Alice|  Bob|0.4|\n",
      "+-----+-----+---+\n",
      "\n",
      "<pyspark.sql.group.GroupedData object at 0x1163bdf98>\n",
      "+-----+--------+\n",
      "| from|sum(amt)|\n",
      "+-----+--------+\n",
      "|Alice|     0.5|\n",
      "| fred|     0.2|\n",
      "| nico|     0.3|\n",
      "| null|     1.0|\n",
      "+-----+--------+\n",
      "\n",
      "+-----+--------+\n",
      "| from|avg(amt)|\n",
      "+-----+--------+\n",
      "|Alice|    0.25|\n",
      "| fred|     0.2|\n",
      "| nico|     0.3|\n",
      "| null|    0.25|\n",
      "+-----+--------+\n",
      "\n"
     ]
    }
   ],
   "source": [
    "#rollup\n",
    "x=sqlc.createDataFrame([('Alice','Bob',0.1),('fred','kev',0.2),('nico','david',0.3),('Alice','Bob',0.4)],\n",
    "                       ['from','to','amt'])\n",
    "y=x.rollup(['from']) #grouped data\n",
    "x.show()\n",
    "print(y)\n",
    "#aggregations can be performed on numeric columns\n",
    "y.sum().show()\n",
    "y.avg().show()"
   ]
  },
  {
   "cell_type": "markdown",
   "metadata": {},
   "source": [
    "## sample"
   ]
  },
  {
   "cell_type": "code",
   "execution_count": 87,
   "metadata": {},
   "outputs": [
    {
     "name": "stdout",
     "output_type": "stream",
     "text": [
      "+-----+-----+---+\n",
      "| from|   to|amt|\n",
      "+-----+-----+---+\n",
      "|Alice|  Bob|0.1|\n",
      "| fred|  kev|0.2|\n",
      "| nico|david|0.3|\n",
      "|Alice|  Bob|0.4|\n",
      "+-----+-----+---+\n",
      "\n",
      "+-----+---+---+\n",
      "| from| to|amt|\n",
      "+-----+---+---+\n",
      "|Alice|Bob|0.1|\n",
      "|Alice|Bob|0.4|\n",
      "+-----+---+---+\n",
      "\n"
     ]
    }
   ],
   "source": [
    "#sample\n",
    "x=sqlc.createDataFrame([('Alice','Bob',0.1),('fred','kev',0.2),('nico','david',0.3),('Alice','Bob',0.4)],\n",
    "                       ['from','to','amt'])\n",
    "y=x.sample(True,0.5) #with replacement=True,fraction of dataframe\n",
    "x.show()\n",
    "y.show()"
   ]
  },
  {
   "cell_type": "markdown",
   "metadata": {},
   "source": [
    "## sampleBy"
   ]
  },
  {
   "cell_type": "code",
   "execution_count": 93,
   "metadata": {},
   "outputs": [
    {
     "name": "stdout",
     "output_type": "stream",
     "text": [
      "+----+-----+---+\n",
      "|from|   to|amt|\n",
      "+----+-----+---+\n",
      "|fred|  Bob|0.1|\n",
      "|fred|  kev|0.2|\n",
      "|nico|david|0.3|\n",
      "|nico|  Bob|0.4|\n",
      "+----+-----+---+\n",
      "\n",
      "+----+-----+---+\n",
      "|from|   to|amt|\n",
      "+----+-----+---+\n",
      "|fred|  Bob|0.1|\n",
      "|fred|  kev|0.2|\n",
      "|nico|david|0.3|\n",
      "+----+-----+---+\n",
      "\n"
     ]
    }
   ],
   "source": [
    "#sampleBy\n",
    "x=sqlc.createDataFrame([('fred','Bob',0.1),('fred','kev',0.2),('nico','david',0.3),('nico','Bob',0.4)],\n",
    "                       ['from','to','amt'])\n",
    "y=x.sampleBy('from',fractions={'fred':0.8,'nico':0.2}) #cols,fractions to divide based on col values\n",
    "x.show()\n",
    "y.show()"
   ]
  },
  {
   "cell_type": "markdown",
   "metadata": {},
   "source": [
    "## schema"
   ]
  },
  {
   "cell_type": "code",
   "execution_count": 94,
   "metadata": {},
   "outputs": [
    {
     "name": "stdout",
     "output_type": "stream",
     "text": [
      "+-----+-----+---+\n",
      "| from|   to|amt|\n",
      "+-----+-----+---+\n",
      "|Alice|  Bob|0.1|\n",
      "| fred|  kev|0.2|\n",
      "| nico|david|0.3|\n",
      "|Alice|  Bob|0.4|\n",
      "+-----+-----+---+\n",
      "\n",
      "StructType(List(StructField(from,StringType,true),StructField(to,StringType,true),StructField(amt,DoubleType,true)))\n"
     ]
    }
   ],
   "source": [
    "#schema\n",
    "x=sqlc.createDataFrame([('Alice','Bob',0.1),('fred','kev',0.2),('nico','david',0.3),('Alice','Bob',0.4)],\n",
    "                       ['from','to','amt'])\n",
    "y=x.schema #gives schema of the dataframe\n",
    "x.show()\n",
    "print(y)"
   ]
  },
  {
   "cell_type": "markdown",
   "metadata": {},
   "source": [
    "## select"
   ]
  },
  {
   "cell_type": "code",
   "execution_count": 95,
   "metadata": {},
   "outputs": [
    {
     "name": "stdout",
     "output_type": "stream",
     "text": [
      "+-----+-----+---+\n",
      "| from|   to|amt|\n",
      "+-----+-----+---+\n",
      "|Alice|  Bob|0.1|\n",
      "| fred|  kev|0.2|\n",
      "| nico|david|0.3|\n",
      "|Alice|  Bob|0.4|\n",
      "+-----+-----+---+\n",
      "\n",
      "+-----+-----+\n",
      "| from|   to|\n",
      "+-----+-----+\n",
      "|Alice|  Bob|\n",
      "| fred|  kev|\n",
      "| nico|david|\n",
      "|Alice|  Bob|\n",
      "+-----+-----+\n",
      "\n"
     ]
    }
   ],
   "source": [
    "#select\n",
    "x=sqlc.createDataFrame([('Alice','Bob',0.1),('fred','kev',0.2),('nico','david',0.3),('Alice','Bob',0.4)],\n",
    "                       ['from','to','amt'])\n",
    "y=x.select(['from','to']) #select required cols\n",
    "x.show()\n",
    "y.show()"
   ]
  },
  {
   "cell_type": "markdown",
   "metadata": {},
   "source": [
    "## selectExpr"
   ]
  },
  {
   "cell_type": "code",
   "execution_count": 106,
   "metadata": {},
   "outputs": [
    {
     "name": "stdout",
     "output_type": "stream",
     "text": [
      "+-----+-----+---+\n",
      "| from|   to|amt|\n",
      "+-----+-----+---+\n",
      "|Alice|  Bob|0.1|\n",
      "| fred|  kev|0.2|\n",
      "| nico|david|0.3|\n",
      "|Alice|  Bob|0.4|\n",
      "+-----+-----+---+\n",
      "\n",
      "+------------------------------+----------+\n",
      "|substring(from, 2, 2147483647)|(amt + 10)|\n",
      "+------------------------------+----------+\n",
      "|                          lice|      10.1|\n",
      "|                           red|      10.2|\n",
      "|                           ico|      10.3|\n",
      "|                          lice|      10.4|\n",
      "+------------------------------+----------+\n",
      "\n"
     ]
    }
   ],
   "source": [
    "#selectExpr\n",
    "x=sqlc.createDataFrame([('Alice','Bob',0.1),('fred','kev',0.2),('nico','david',0.3),('Alice','Bob',0.4)],\n",
    "                       ['from','to','amt'])\n",
    "y=x.selectExpr(['substr(from,2)','amt+10']) #substring of values in 'from' col staring from 2nd letter to end\n",
    "x.show()\n",
    "y.show()"
   ]
  },
  {
   "cell_type": "code",
   "execution_count": 108,
   "metadata": {},
   "outputs": [
    {
     "name": "stdout",
     "output_type": "stream",
     "text": [
      "+-----+-----+---+\n",
      "| from|   to|amt|\n",
      "+-----+-----+---+\n",
      "|Alice|  Bob|0.1|\n",
      "| fred|  kev|0.2|\n",
      "| nico|david|0.3|\n",
      "|Alice|  Bob|0.4|\n",
      "+-----+-----+---+\n",
      "\n",
      "+---------------------+----------+\n",
      "|substring(from, 1, 2)|(amt + 10)|\n",
      "+---------------------+----------+\n",
      "|                   Al|      10.1|\n",
      "|                   fr|      10.2|\n",
      "|                   ni|      10.3|\n",
      "|                   Al|      10.4|\n",
      "+---------------------+----------+\n",
      "\n"
     ]
    }
   ],
   "source": [
    "#selectExpr\n",
    "x=sqlc.createDataFrame([('Alice','Bob',0.1),('fred','kev',0.2),('nico','david',0.3),('Alice','Bob',0.4)],\n",
    "                       ['from','to','amt'])\n",
    "y=x.selectExpr(['substr(from,1,2)','amt+10']) #substring of values in 'from' col starting from 1st letter \n",
    "                                                        # considering 2 letters as substring \n",
    "x.show()\n",
    "y.show()"
   ]
  },
  {
   "cell_type": "markdown",
   "metadata": {},
   "source": [
    "## show"
   ]
  },
  {
   "cell_type": "code",
   "execution_count": 109,
   "metadata": {},
   "outputs": [
    {
     "name": "stdout",
     "output_type": "stream",
     "text": [
      "+-----+-----+---+\n",
      "| from|   to|amt|\n",
      "+-----+-----+---+\n",
      "|Alice|  Bob|0.1|\n",
      "| fred|  kev|0.2|\n",
      "| nico|david|0.3|\n",
      "|Alice|  Bob|0.4|\n",
      "+-----+-----+---+\n",
      "\n"
     ]
    }
   ],
   "source": [
    "#show\n",
    "x=sqlc.createDataFrame([('Alice','Bob',0.1),('fred','kev',0.2),('nico','david',0.3),('Alice','Bob',0.4)],\n",
    "                       ['from','to','amt'])\n",
    "x.show() #output returned to object driver"
   ]
  },
  {
   "cell_type": "markdown",
   "metadata": {},
   "source": [
    "## sort"
   ]
  },
  {
   "cell_type": "code",
   "execution_count": 111,
   "metadata": {},
   "outputs": [
    {
     "name": "stdout",
     "output_type": "stream",
     "text": [
      "+-----+-----+---+\n",
      "| from|   to|amt|\n",
      "+-----+-----+---+\n",
      "|Alice|  Bob|0.1|\n",
      "| fred|  kev|0.2|\n",
      "| nico|david|0.3|\n",
      "|Alice|  Bob|0.4|\n",
      "+-----+-----+---+\n",
      "\n",
      "+-----+-----+---+\n",
      "| from|   to|amt|\n",
      "+-----+-----+---+\n",
      "|Alice|  Bob|0.4|\n",
      "| nico|david|0.3|\n",
      "| fred|  kev|0.2|\n",
      "|Alice|  Bob|0.1|\n",
      "+-----+-----+---+\n",
      "\n"
     ]
    }
   ],
   "source": [
    "#sort\n",
    "x=sqlc.createDataFrame([('Alice','Bob',0.1),('fred','kev',0.2),('nico','david',0.3),('Alice','Bob',0.4)],\n",
    "                       ['from','to','amt'])\n",
    "y=x.sort('amt',ascending=False)\n",
    "x.show()\n",
    "y.show()"
   ]
  },
  {
   "cell_type": "markdown",
   "metadata": {},
   "source": [
    "## sortWithinPartitions"
   ]
  },
  {
   "cell_type": "code",
   "execution_count": 126,
   "metadata": {},
   "outputs": [
    {
     "name": "stdout",
     "output_type": "stream",
     "text": [
      "+-----+-----+---+\n",
      "| from|   to|amt|\n",
      "+-----+-----+---+\n",
      "|Alice|  Bob|0.4|\n",
      "| nico|david|0.3|\n",
      "|Alice|  Bob|0.1|\n",
      "| fred|  kev|0.2|\n",
      "+-----+-----+---+\n",
      "\n",
      "[[Row(from='Alice', to='Bob', amt=0.4), Row(from='nico', to='david', amt=0.3)], [Row(from='Alice', to='Bob', amt=0.1), Row(from='fred', to='kev', amt=0.2)]]\n",
      "====================\n",
      "[[Row(from='nico', to='david', amt=0.3), Row(from='Alice', to='Bob', amt=0.4)], [Row(from='Alice', to='Bob', amt=0.1), Row(from='fred', to='kev', amt=0.2)]]\n"
     ]
    }
   ],
   "source": [
    "#sortWithinPartitions\n",
    "x=sqlc.createDataFrame([('Alice','Bob',0.1),('fred','kev',0.2),('nico','david',0.3),('Alice','Bob',0.4)],\n",
    "                       ['from','to','amt'])\n",
    "x=x.repartition(2)\n",
    "y=x.sortWithinPartitions(['amt'])\n",
    "x.show()\n",
    "print(x.rdd.glom().collect()) #glom() adds the rdds as tuples for each partition\n",
    "print('====================')\n",
    "print(y.rdd.glom().collect())"
   ]
  },
  {
   "cell_type": "markdown",
   "metadata": {},
   "source": [
    "## stat"
   ]
  },
  {
   "cell_type": "code",
   "execution_count": 131,
   "metadata": {},
   "outputs": [
    {
     "name": "stdout",
     "output_type": "stream",
     "text": [
      "+-----+-----+---+---+\n",
      "| from|   to|amt|fee|\n",
      "+-----+-----+---+---+\n",
      "|Alice|  Bob|0.1| 12|\n",
      "| fred|  kev|0.2| 20|\n",
      "| nico|david|0.3| 33|\n",
      "|Alice|  Bob|0.4| 40|\n",
      "+-----+-----+---+---+\n",
      "\n",
      "<pyspark.sql.dataframe.DataFrameStatFunctions object at 0x116376d68>\n",
      "---------------\n",
      "1.6166666666666665\n"
     ]
    },
    {
     "data": {
      "text/plain": [
       "0.9933707902922091"
      ]
     },
     "execution_count": 131,
     "metadata": {},
     "output_type": "execute_result"
    }
   ],
   "source": [
    "#stat\n",
    "x=sqlc.createDataFrame([('Alice','Bob',0.1,12),('fred','kev',0.2,20),('nico','david',0.3,33),('Alice','Bob',0.4,40)],\n",
    "                       ['from','to','amt','fee'])\n",
    "y=x.stat #can perform func on y\n",
    "x.show()\n",
    "print(y)\n",
    "print('---------------')\n",
    "print(y.cov('amt','fee'))\n",
    "y.corr('amt','fee')\n"
   ]
  },
  {
   "cell_type": "markdown",
   "metadata": {},
   "source": [
    "## subtract"
   ]
  },
  {
   "cell_type": "code",
   "execution_count": 132,
   "metadata": {},
   "outputs": [
    {
     "name": "stdout",
     "output_type": "stream",
     "text": [
      "+-----+-----+---+\n",
      "| from|   to|amt|\n",
      "+-----+-----+---+\n",
      "|Alice|  Bob|0.1|\n",
      "| fred|  kev|0.2|\n",
      "| nico|david|0.3|\n",
      "|Alice|  Bob|0.4|\n",
      "+-----+-----+---+\n",
      "\n",
      "+-----+-----+---+\n",
      "| from|   to|amt|\n",
      "+-----+-----+---+\n",
      "|Alice|  Bob|0.5|\n",
      "| fred|  kev|0.6|\n",
      "| nico|david|0.3|\n",
      "|Alice|  Bob|0.4|\n",
      "+-----+-----+---+\n",
      "\n",
      "+-----+---+---+\n",
      "| from| to|amt|\n",
      "+-----+---+---+\n",
      "|Alice|Bob|0.1|\n",
      "| fred|kev|0.2|\n",
      "+-----+---+---+\n",
      "\n"
     ]
    }
   ],
   "source": [
    "#subtract\n",
    "x=sqlc.createDataFrame([('Alice','Bob',0.1),('fred','kev',0.2),('nico','david',0.3),('Alice','Bob',0.4)],\n",
    "                       ['from','to','amt'])\n",
    "y=sqlc.createDataFrame([('Alice','Bob',0.5),('fred','kev',0.6),('nico','david',0.3),('Alice','Bob',0.4)],\n",
    "                       ['from','to','amt'])\n",
    "z=x.subtract(y)\n",
    "x.show()\n",
    "y.show()\n",
    "z.show()"
   ]
  },
  {
   "cell_type": "markdown",
   "metadata": {},
   "source": [
    "## take"
   ]
  },
  {
   "cell_type": "code",
   "execution_count": 134,
   "metadata": {},
   "outputs": [
    {
     "name": "stdout",
     "output_type": "stream",
     "text": [
      "+-----+-----+---+\n",
      "| from|   to|amt|\n",
      "+-----+-----+---+\n",
      "|Alice|  Bob|0.1|\n",
      "| fred|  kev|0.2|\n",
      "| nico|david|0.3|\n",
      "|Alice|  Bob|0.4|\n",
      "+-----+-----+---+\n",
      "\n",
      "[Row(from='Alice', to='Bob', amt=0.1), Row(from='fred', to='kev', amt=0.2)]\n"
     ]
    }
   ],
   "source": [
    "#take\n",
    "x=sqlc.createDataFrame([('Alice','Bob',0.1),('fred','kev',0.2),('nico','david',0.3),('Alice','Bob',0.4)],\n",
    "                       ['from','to','amt'])\n",
    "y=x.take(2) #list object returned to driver\n",
    "x.show()\n",
    "print(y) "
   ]
  },
  {
   "cell_type": "markdown",
   "metadata": {},
   "source": [
    "## toDF"
   ]
  },
  {
   "cell_type": "code",
   "execution_count": 136,
   "metadata": {},
   "outputs": [
    {
     "name": "stdout",
     "output_type": "stream",
     "text": [
      "+-----+-----+---+\n",
      "| from|   to|amt|\n",
      "+-----+-----+---+\n",
      "|Alice|  Bob|0.1|\n",
      "| fred|  kev|0.2|\n",
      "| nico|david|0.3|\n",
      "|Alice|  Bob|0.4|\n",
      "+-----+-----+---+\n",
      "\n",
      "+------+-----+----+\n",
      "|seller|buyer|cost|\n",
      "+------+-----+----+\n",
      "| Alice|  Bob| 0.1|\n",
      "|  fred|  kev| 0.2|\n",
      "|  nico|david| 0.3|\n",
      "| Alice|  Bob| 0.4|\n",
      "+------+-----+----+\n",
      "\n"
     ]
    }
   ],
   "source": [
    "#toDF\n",
    "x=sqlc.createDataFrame([('Alice','Bob',0.1),('fred','kev',0.2),('nico','david',0.3),('Alice','Bob',0.4)],\n",
    "                       ['from','to','amt'])\n",
    "y=x.toDF('seller','buyer','cost')\n",
    "x.show()\n",
    "y.show()"
   ]
  },
  {
   "cell_type": "markdown",
   "metadata": {},
   "source": [
    "## toJSON"
   ]
  },
  {
   "cell_type": "code",
   "execution_count": 139,
   "metadata": {},
   "outputs": [
    {
     "name": "stdout",
     "output_type": "stream",
     "text": [
      "+-----+-----+---+\n",
      "| from|   to|amt|\n",
      "+-----+-----+---+\n",
      "|Alice|  Bob|0.1|\n",
      "| fred|  kev|0.2|\n",
      "| nico|david|0.3|\n",
      "|Alice|  Bob|0.4|\n",
      "+-----+-----+---+\n",
      "\n",
      "MapPartitionsRDD[1785] at toJavaRDD at NativeMethodAccessorImpl.java:0\n",
      "-----------------\n",
      "['{\"from\":\"Alice\",\"to\":\"Bob\",\"amt\":0.1}', '{\"from\":\"fred\",\"to\":\"kev\",\"amt\":0.2}', '{\"from\":\"nico\",\"to\":\"david\",\"amt\":0.3}', '{\"from\":\"Alice\",\"to\":\"Bob\",\"amt\":0.4}']\n"
     ]
    }
   ],
   "source": [
    "#toJSON\n",
    "x=sqlc.createDataFrame([('Alice','Bob',0.1),('fred','kev',0.2),('nico','david',0.3),('Alice','Bob',0.4)],\n",
    "                       ['from','to','amt'])\n",
    "y=x.toJSON()\n",
    "x.show()\n",
    "print(y)\n",
    "print('-----------------')\n",
    "print(y.collect())"
   ]
  },
  {
   "cell_type": "markdown",
   "metadata": {},
   "source": [
    "## toPandas"
   ]
  },
  {
   "cell_type": "code",
   "execution_count": 142,
   "metadata": {},
   "outputs": [
    {
     "name": "stdout",
     "output_type": "stream",
     "text": [
      "+-----+-----+---+\n",
      "| from|   to|amt|\n",
      "+-----+-----+---+\n",
      "|Alice|  Bob|0.1|\n",
      "| fred|  kev|0.2|\n",
      "| nico|david|0.3|\n",
      "|Alice|  Bob|0.4|\n",
      "+-----+-----+---+\n",
      "\n",
      "<class 'pandas.core.frame.DataFrame'>\n"
     ]
    },
    {
     "data": {
      "text/html": [
       "<div>\n",
       "<style scoped>\n",
       "    .dataframe tbody tr th:only-of-type {\n",
       "        vertical-align: middle;\n",
       "    }\n",
       "\n",
       "    .dataframe tbody tr th {\n",
       "        vertical-align: top;\n",
       "    }\n",
       "\n",
       "    .dataframe thead th {\n",
       "        text-align: right;\n",
       "    }\n",
       "</style>\n",
       "<table border=\"1\" class=\"dataframe\">\n",
       "  <thead>\n",
       "    <tr style=\"text-align: right;\">\n",
       "      <th></th>\n",
       "      <th>from</th>\n",
       "      <th>to</th>\n",
       "      <th>amt</th>\n",
       "    </tr>\n",
       "  </thead>\n",
       "  <tbody>\n",
       "    <tr>\n",
       "      <th>0</th>\n",
       "      <td>Alice</td>\n",
       "      <td>Bob</td>\n",
       "      <td>0.1</td>\n",
       "    </tr>\n",
       "    <tr>\n",
       "      <th>1</th>\n",
       "      <td>fred</td>\n",
       "      <td>kev</td>\n",
       "      <td>0.2</td>\n",
       "    </tr>\n",
       "    <tr>\n",
       "      <th>2</th>\n",
       "      <td>nico</td>\n",
       "      <td>david</td>\n",
       "      <td>0.3</td>\n",
       "    </tr>\n",
       "    <tr>\n",
       "      <th>3</th>\n",
       "      <td>Alice</td>\n",
       "      <td>Bob</td>\n",
       "      <td>0.4</td>\n",
       "    </tr>\n",
       "  </tbody>\n",
       "</table>\n",
       "</div>"
      ],
      "text/plain": [
       "    from     to  amt\n",
       "0  Alice    Bob  0.1\n",
       "1   fred    kev  0.2\n",
       "2   nico  david  0.3\n",
       "3  Alice    Bob  0.4"
      ]
     },
     "execution_count": 142,
     "metadata": {},
     "output_type": "execute_result"
    }
   ],
   "source": [
    "#toPandas\n",
    "x=sqlc.createDataFrame([('Alice','Bob',0.1),('fred','kev',0.2),('nico','david',0.3),('Alice','Bob',0.4)],\n",
    "                       ['from','to','amt'])\n",
    "y=x.toPandas() #pandas obj returned to driver\n",
    "x.show()\n",
    "print(type(y))\n",
    "y.head()"
   ]
  },
  {
   "cell_type": "markdown",
   "metadata": {},
   "source": [
    "## unionAll"
   ]
  },
  {
   "cell_type": "code",
   "execution_count": 146,
   "metadata": {},
   "outputs": [
    {
     "name": "stdout",
     "output_type": "stream",
     "text": [
      "+-----+-----+---+\n",
      "| from|   to|amt|\n",
      "+-----+-----+---+\n",
      "|Alice|  Bob|0.1|\n",
      "| fred|  kev|0.2|\n",
      "| nico|david|0.3|\n",
      "|Alice|  Bob|0.4|\n",
      "+-----+-----+---+\n",
      "\n",
      "+-----+-----+---+\n",
      "| from|   to|amt|\n",
      "+-----+-----+---+\n",
      "|Alice|  Bob|0.1|\n",
      "|  kun|  kev|0.2|\n",
      "| nico|david|0.3|\n",
      "|Alice|  kun|0.4|\n",
      "+-----+-----+---+\n",
      "\n",
      "+-----+-----+---+\n",
      "| from|   to|amt|\n",
      "+-----+-----+---+\n",
      "|Alice|  Bob|0.1|\n",
      "| fred|  kev|0.2|\n",
      "| nico|david|0.3|\n",
      "|Alice|  Bob|0.4|\n",
      "|Alice|  Bob|0.1|\n",
      "|  kun|  kev|0.2|\n",
      "| nico|david|0.3|\n",
      "|Alice|  kun|0.4|\n",
      "+-----+-----+---+\n",
      "\n",
      "+-----+-----+---+\n",
      "| from|   to|amt|\n",
      "+-----+-----+---+\n",
      "|Alice|  Bob|0.4|\n",
      "| nico|david|0.3|\n",
      "|Alice|  Bob|0.1|\n",
      "|  kun|  kev|0.2|\n",
      "|Alice|  kun|0.4|\n",
      "| fred|  kev|0.2|\n",
      "+-----+-----+---+\n",
      "\n"
     ]
    }
   ],
   "source": [
    "#unionAll\n",
    "x=sqlc.createDataFrame([('Alice','Bob',0.1),('fred','kev',0.2),('nico','david',0.3),('Alice','Bob',0.4)],\n",
    "                       ['from','to','amt'])\n",
    "y=sqlc.createDataFrame([('Alice','Bob',0.1),('kun','kev',0.2),('nico','david',0.3),('Alice','kun',0.4)],\n",
    "                       ['from','to','amt'])\n",
    "z=x.unionAll(y)\n",
    "x.show()\n",
    "y.show()\n",
    "z.show()\n",
    "z.dropDuplicates().show()"
   ]
  },
  {
   "cell_type": "markdown",
   "metadata": {},
   "source": [
    "## unpersist"
   ]
  },
  {
   "cell_type": "code",
   "execution_count": 151,
   "metadata": {},
   "outputs": [
    {
     "name": "stdout",
     "output_type": "stream",
     "text": [
      "+-----+-----+---+\n",
      "| from|   to|amt|\n",
      "+-----+-----+---+\n",
      "|Alice|  Bob|0.1|\n",
      "| fred|  kev|0.2|\n",
      "| nico|david|0.3|\n",
      "|Alice|  Bob|0.4|\n",
      "+-----+-----+---+\n",
      "\n",
      "True\n",
      "False\n"
     ]
    }
   ],
   "source": [
    "#unpersist\n",
    "x=sqlc.createDataFrame([('Alice','Bob',0.1),('fred','kev',0.2),('nico','david',0.3),('Alice','Bob',0.4)],\n",
    "                       ['from','to','amt'])\n",
    "x.cache()#loaded into memory\n",
    "x.count()\n",
    "x.show()\n",
    "\n",
    "print(x.is_cached)\n",
    "x.unpersist() #unpersisted from cache\n",
    "print(x.is_cached)"
   ]
  },
  {
   "cell_type": "markdown",
   "metadata": {},
   "source": [
    "## where"
   ]
  },
  {
   "cell_type": "code",
   "execution_count": 152,
   "metadata": {},
   "outputs": [
    {
     "name": "stdout",
     "output_type": "stream",
     "text": [
      "+-----+-----+---+\n",
      "| from|   to|amt|\n",
      "+-----+-----+---+\n",
      "|Alice|  Bob|0.1|\n",
      "| fred|  kev|0.2|\n",
      "| nico|david|0.3|\n",
      "|Alice|  Bob|0.4|\n",
      "+-----+-----+---+\n",
      "\n",
      "+-----+-----+---+\n",
      "| from|   to|amt|\n",
      "+-----+-----+---+\n",
      "| nico|david|0.3|\n",
      "|Alice|  Bob|0.4|\n",
      "+-----+-----+---+\n",
      "\n"
     ]
    }
   ],
   "source": [
    "#where(filter)\n",
    "x=sqlc.createDataFrame([('Alice','Bob',0.1),('fred','kev',0.2),('nico','david',0.3),('Alice','Bob',0.4)],\n",
    "                       ['from','to','amt'])\n",
    "y=x.where('amt>0.2')\n",
    "x.show()\n",
    "y.show()"
   ]
  },
  {
   "cell_type": "markdown",
   "metadata": {},
   "source": [
    "## withColumn"
   ]
  },
  {
   "cell_type": "code",
   "execution_count": 154,
   "metadata": {},
   "outputs": [
    {
     "name": "stdout",
     "output_type": "stream",
     "text": [
      "+-----+-----+----+\n",
      "| from|   to| amt|\n",
      "+-----+-----+----+\n",
      "|Alice|  Bob| 0.1|\n",
      "| fred|  kev| 0.2|\n",
      "| nico|david|null|\n",
      "|Alice|  Bob| 0.4|\n",
      "+-----+-----+----+\n",
      "\n",
      "+-----+-----+----+-----+\n",
      "| from|   to| amt| conf|\n",
      "+-----+-----+----+-----+\n",
      "|Alice|  Bob| 0.1| true|\n",
      "| fred|  kev| 0.2| true|\n",
      "| nico|david|null|false|\n",
      "|Alice|  Bob| 0.4| true|\n",
      "+-----+-----+----+-----+\n",
      "\n"
     ]
    }
   ],
   "source": [
    "#withColumn\n",
    "x=sqlc.createDataFrame([('Alice','Bob',0.1),('fred','kev',0.2),('nico','david',None),('Alice','Bob',0.4)],\n",
    "                       ['from','to','amt'])\n",
    "y=x.withColumn('conf',x.amt.isNotNull())\n",
    "x.show()\n",
    "y.show()"
   ]
  },
  {
   "cell_type": "markdown",
   "metadata": {},
   "source": [
    "## withColumnRenamed"
   ]
  },
  {
   "cell_type": "code",
   "execution_count": 156,
   "metadata": {},
   "outputs": [
    {
     "name": "stdout",
     "output_type": "stream",
     "text": [
      "+-----+-----+---+\n",
      "| from|   to|amt|\n",
      "+-----+-----+---+\n",
      "|Alice|  Bob|0.1|\n",
      "| fred|  kev|0.2|\n",
      "| nico|david|0.3|\n",
      "|Alice|  Bob|0.4|\n",
      "+-----+-----+---+\n",
      "\n",
      "+-----+-----+------+\n",
      "| from|   to|amount|\n",
      "+-----+-----+------+\n",
      "|Alice|  Bob|   0.1|\n",
      "| fred|  kev|   0.2|\n",
      "| nico|david|   0.3|\n",
      "|Alice|  Bob|   0.4|\n",
      "+-----+-----+------+\n",
      "\n"
     ]
    }
   ],
   "source": [
    "#withColumnRenamed\n",
    "x=sqlc.createDataFrame([('Alice','Bob',0.1),('fred','kev',0.2),('nico','david',0.3),('Alice','Bob',0.4)],\n",
    "                       ['from','to','amt'])\n",
    "y=x.withColumnRenamed('amt','amount')\n",
    "x.show()\n",
    "y.show()"
   ]
  },
  {
   "cell_type": "markdown",
   "metadata": {},
   "source": [
    "## write"
   ]
  },
  {
   "cell_type": "code",
   "execution_count": 160,
   "metadata": {},
   "outputs": [
    {
     "name": "stdout",
     "output_type": "stream",
     "text": [
      "+-----+-----+---+\n",
      "| from|   to|amt|\n",
      "+-----+-----+---+\n",
      "|Alice|  Bob|0.1|\n",
      "| fred|  kev|0.2|\n",
      "| nico|david|0.3|\n",
      "|Alice|  Bob|0.4|\n",
      "+-----+-----+---+\n",
      "\n",
      "+---+-----+-----+\n",
      "|amt| from|   to|\n",
      "+---+-----+-----+\n",
      "|0.1|Alice|  Bob|\n",
      "|0.2| fred|  kev|\n",
      "|0.3| nico|david|\n",
      "|0.4|Alice|  Bob|\n",
      "+---+-----+-----+\n",
      "\n"
     ]
    }
   ],
   "source": [
    "#write\n",
    "x=sqlc.createDataFrame([('Alice','Bob',0.1),('fred','kev',0.2),('nico','david',0.3),('Alice','Bob',0.4)],\n",
    "                       ['from','to','amt'])\n",
    "y=x.write.mode('overwrite').json('dataframeWriteTextExample.json')\n",
    "x.show()\n",
    "sqlc.read.json('dataframeWriteTextExample.json').show()"
   ]
  },
  {
   "cell_type": "code",
   "execution_count": null,
   "metadata": {},
   "outputs": [],
   "source": []
  },
  {
   "cell_type": "code",
   "execution_count": null,
   "metadata": {},
   "outputs": [],
   "source": []
  },
  {
   "cell_type": "code",
   "execution_count": null,
   "metadata": {},
   "outputs": [],
   "source": []
  },
  {
   "cell_type": "code",
   "execution_count": null,
   "metadata": {},
   "outputs": [],
   "source": []
  },
  {
   "cell_type": "code",
   "execution_count": null,
   "metadata": {},
   "outputs": [],
   "source": []
  },
  {
   "cell_type": "code",
   "execution_count": null,
   "metadata": {},
   "outputs": [],
   "source": []
  },
  {
   "cell_type": "code",
   "execution_count": null,
   "metadata": {},
   "outputs": [],
   "source": []
  }
 ],
 "metadata": {
  "kernelspec": {
   "display_name": "Python 3",
   "language": "python",
   "name": "python3"
  },
  "language_info": {
   "codemirror_mode": {
    "name": "ipython",
    "version": 3
   },
   "file_extension": ".py",
   "mimetype": "text/x-python",
   "name": "python",
   "nbconvert_exporter": "python",
   "pygments_lexer": "ipython3",
   "version": "3.7.3"
  }
 },
 "nbformat": 4,
 "nbformat_minor": 2
}
