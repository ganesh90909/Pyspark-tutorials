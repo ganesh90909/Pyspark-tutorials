{
 "cells": [
  {
   "cell_type": "code",
   "execution_count": 1,
   "metadata": {},
   "outputs": [],
   "source": [
    "import pyspark"
   ]
  },
  {
   "cell_type": "code",
   "execution_count": 2,
   "metadata": {},
   "outputs": [],
   "source": [
    "from pyspark import SparkContext\n",
    "sc=SparkContext()"
   ]
  },
  {
   "cell_type": "code",
   "execution_count": 3,
   "metadata": {},
   "outputs": [
    {
     "name": "stdout",
     "output_type": "stream",
     "text": [
      "pyspark version2.4.5\n",
      "Ipython version7.6.1\n"
     ]
    }
   ],
   "source": [
    "import IPython\n",
    "print('pyspark version'+str(sc.version))\n",
    "print('Ipython version'+str(IPython.__version__))"
   ]
  },
  {
   "cell_type": "markdown",
   "metadata": {},
   "source": [
    "## map"
   ]
  },
  {
   "cell_type": "code",
   "execution_count": 6,
   "metadata": {},
   "outputs": [
    {
     "name": "stdout",
     "output_type": "stream",
     "text": [
      "[1, 2, 3]\n"
     ]
    },
    {
     "data": {
      "text/plain": [
       "[(1, 1), (2, 4), (3, 9)]"
      ]
     },
     "execution_count": 6,
     "metadata": {},
     "output_type": "execute_result"
    }
   ],
   "source": [
    "#map\n",
    "x=sc.parallelize([1,2,3])\n",
    "y=x.map(lambda x:(x,x*x))\n",
    "print(x.collect())\n",
    "y.collect()\n",
    "        "
   ]
  },
  {
   "cell_type": "markdown",
   "metadata": {},
   "source": [
    "## flatMap"
   ]
  },
  {
   "cell_type": "code",
   "execution_count": 9,
   "metadata": {},
   "outputs": [
    {
     "name": "stdout",
     "output_type": "stream",
     "text": [
      "[1, 2, 3]\n"
     ]
    },
    {
     "data": {
      "text/plain": [
       "[1, 1, 1, 2, 4, 8, 3, 9, 27]"
      ]
     },
     "execution_count": 9,
     "metadata": {},
     "output_type": "execute_result"
    }
   ],
   "source": [
    "#flatMap\n",
    "x=sc.parallelize([1,2,3])\n",
    "y=x.flatMap(lambda x:(x,x*x,x*x*x)) #maps all the values into single \n",
    "print(x.collect())\n",
    "y.collect()"
   ]
  },
  {
   "cell_type": "markdown",
   "metadata": {},
   "source": [
    "## mapPartitions"
   ]
  },
  {
   "cell_type": "code",
   "execution_count": 23,
   "metadata": {},
   "outputs": [
    {
     "name": "stdout",
     "output_type": "stream",
     "text": [
      "2\n",
      "[1, 2, 3, 4, 5, 6]\n",
      "[[1, 2, 3], [4, 5, 6]]\n",
      "[[6], [15]]\n"
     ]
    }
   ],
   "source": [
    "#mapPartitions\n",
    "def f(iterator):\n",
    "    yield sum(iterator)\n",
    "    \n",
    "x=sc.parallelize([1,2,3,4,5,6],2)\n",
    "y=x.mapPartitions(f)\n",
    "print(x.getNumPartitions())\n",
    "print(x.collect())\n",
    "print(x.glom().collect()) #glom flattens the values in each partition\n",
    "print(y.glom().collect())"
   ]
  },
  {
   "cell_type": "markdown",
   "metadata": {},
   "source": [
    "## mapPartitionsWithIndex"
   ]
  },
  {
   "cell_type": "code",
   "execution_count": 25,
   "metadata": {},
   "outputs": [
    {
     "name": "stdout",
     "output_type": "stream",
     "text": [
      "[1, 2, 3, 4, 5, 6]\n",
      "[[1, 2, 3], [4, 5, 6]]\n",
      "[[(0, 6)], [(1, 15)]]\n"
     ]
    }
   ],
   "source": [
    "#mapPartitionWithIndex\n",
    "def f(partitionIndex,iterator):\n",
    "    yield (partitionIndex,sum(iterator))\n",
    "    \n",
    "x=sc.parallelize([1,2,3,4,5,6],2)\n",
    "y=x.mapPartitionsWithIndex(f)\n",
    "print(x.collect())\n",
    "print(x.glom().collect())\n",
    "print(y.glom().collect())"
   ]
  },
  {
   "cell_type": "markdown",
   "metadata": {},
   "source": [
    "## getNumPartitions"
   ]
  },
  {
   "cell_type": "code",
   "execution_count": 29,
   "metadata": {},
   "outputs": [
    {
     "name": "stdout",
     "output_type": "stream",
     "text": [
      "3\n",
      "[[1, 2], [3, 4], [5, 6]]\n"
     ]
    }
   ],
   "source": [
    "#getNumPartitions\n",
    "x=sc.parallelize([1,2,3,4,5,6],3)\n",
    "print(x.getNumPartitions()) #object on driver\n",
    "print(x.glom().collect()) #rdd with partitions"
   ]
  },
  {
   "cell_type": "markdown",
   "metadata": {},
   "source": [
    "## filter"
   ]
  },
  {
   "cell_type": "code",
   "execution_count": 40,
   "metadata": {},
   "outputs": [
    {
     "name": "stdout",
     "output_type": "stream",
     "text": [
      "[1, 2, 3, 4, 5, 6]\n",
      "[[1, 2, 3], [4, 5, 6]]\n",
      "[2, 4, 6]\n",
      "[[2], [4, 6]]\n"
     ]
    }
   ],
   "source": [
    "#filter\n",
    "x=sc.parallelize([1,2,3,4,5,6],2)\n",
    "y=x.filter(lambda x:x%2==0) #filters the rdd values(even elements) which satisfies the condition\n",
    "print(x.collect())\n",
    "print(x.glom().collect())\n",
    "print(y.collect())\n",
    "print(y.glom().collect())"
   ]
  },
  {
   "cell_type": "markdown",
   "metadata": {},
   "source": [
    "## distinct"
   ]
  },
  {
   "cell_type": "code",
   "execution_count": 41,
   "metadata": {},
   "outputs": [
    {
     "name": "stdout",
     "output_type": "stream",
     "text": [
      "[1, 2, 3, 4, 5, 2, 6, 3]\n",
      "[[1, 2, 3, 4], [5, 2, 6, 3]]\n",
      "[2, 4, 6, 1, 3, 5]\n",
      "[[2, 4, 6], [1, 3, 5]]\n"
     ]
    }
   ],
   "source": [
    "#distinct\n",
    "x=sc.parallelize([1,2,3,4,5,2,6,3],2)\n",
    "y=x.distinct() #distinct values of rdd \n",
    "print(x.collect())\n",
    "print(x.glom().collect())\n",
    "print(y.collect())\n",
    "print(y.glom().collect())\n"
   ]
  },
  {
   "cell_type": "markdown",
   "metadata": {},
   "source": [
    "## sample"
   ]
  },
  {
   "cell_type": "code",
   "execution_count": 48,
   "metadata": {},
   "outputs": [
    {
     "name": "stdout",
     "output_type": "stream",
     "text": [
      "[1, 2, 3, 4, 5, 2, 6, 3]\n",
      "[[1, 2, 3, 4], [5, 2, 6, 3]]\n",
      "[1, 4, 4, 5, 2]\n",
      "[[1, 4, 4], [5, 2]]\n"
     ]
    }
   ],
   "source": [
    "#sample on partitions\n",
    "x=sc.parallelize([1,2,3,4,5,2,6,3],2)\n",
    "y=x.sample(True,0.5) #withReplacement=True, fraction=0.5\n",
    "print(x.collect())\n",
    "print(x.glom().collect())\n",
    "print(y.collect())\n",
    "print(y.glom().collect())\n",
    "\n"
   ]
  },
  {
   "cell_type": "markdown",
   "metadata": {},
   "source": [
    "## takeSample"
   ]
  },
  {
   "cell_type": "code",
   "execution_count": 65,
   "metadata": {},
   "outputs": [
    {
     "name": "stdout",
     "output_type": "stream",
     "text": [
      "x: [1, 2, 3, 4, 5, 2, 6, 3]\n",
      "sample:0 y: [3, 4, 1, 2]\n",
      "sample:1 y: [4, 4, 6, 2]\n",
      "sample:2 y: [5, 2, 5, 2]\n",
      "sample:3 y: [3, 2, 2, 2]\n",
      "sample:4 y: [1, 4, 4, 2]\n"
     ]
    }
   ],
   "source": [
    "#takeSample\n",
    "x=sc.parallelize([1,2,3,4,5,2,6,3])\n",
    "ylist=[x.takeSample(True,4) for i in range(5)] #call takeSample 5 times\n",
    "print('x: '+str(x.collect()))\n",
    "for cnt,lst in zip(range(len(ylist)),ylist):\n",
    "    print('sample:'+str(cnt)+' y: '+str(lst))"
   ]
  },
  {
   "cell_type": "markdown",
   "metadata": {},
   "source": [
    "## union"
   ]
  },
  {
   "cell_type": "code",
   "execution_count": 66,
   "metadata": {},
   "outputs": [
    {
     "name": "stdout",
     "output_type": "stream",
     "text": [
      "[1, 2, 3, 4]\n",
      "[1, 5, 2, 6, 3]\n",
      "[1, 2, 3, 4, 1, 5, 2, 6, 3]\n"
     ]
    }
   ],
   "source": [
    "#union\n",
    "x=sc.parallelize([1,2,3,4])\n",
    "y=sc.parallelize([1,5,2,6,3])\n",
    "z=x.union(y)\n",
    "print(x.collect())\n",
    "print(y.collect())\n",
    "print(z.collect())"
   ]
  },
  {
   "cell_type": "markdown",
   "metadata": {},
   "source": [
    "## intersection"
   ]
  },
  {
   "cell_type": "code",
   "execution_count": 67,
   "metadata": {},
   "outputs": [
    {
     "name": "stdout",
     "output_type": "stream",
     "text": [
      "[1, 2, 3, 4]\n",
      "[1, 5, 2, 6, 3]\n",
      "[1, 2, 3]\n"
     ]
    }
   ],
   "source": [
    "#intersection\n",
    "x=sc.parallelize([1,2,3,4])\n",
    "y=sc.parallelize([1,5,2,6,3])\n",
    "z=x.intersection(y)\n",
    "print(x.collect())\n",
    "print(y.collect())\n",
    "print(z.collect())"
   ]
  },
  {
   "cell_type": "markdown",
   "metadata": {},
   "source": [
    "## sortByKey"
   ]
  },
  {
   "cell_type": "code",
   "execution_count": 69,
   "metadata": {},
   "outputs": [
    {
     "name": "stdout",
     "output_type": "stream",
     "text": [
      "[(2, 22), (1, 11), (4, 44), (8, 88), (3, 33)]\n",
      "[(8, 88), (4, 44), (3, 33), (2, 22), (1, 11)]\n"
     ]
    }
   ],
   "source": [
    "#sortByKey\n",
    "x=sc.parallelize([(2,22),(1,11),(4,44),(8,88),(3,33)])\n",
    "y=x.sortByKey(ascending=False)\n",
    "print(x.collect())\n",
    "print(y.collect())\n"
   ]
  },
  {
   "cell_type": "markdown",
   "metadata": {},
   "source": [
    "## sortBy"
   ]
  },
  {
   "cell_type": "code",
   "execution_count": 74,
   "metadata": {},
   "outputs": [
    {
     "data": {
      "text/plain": [
       "['cat', 'dog', 'apple']"
      ]
     },
     "execution_count": 74,
     "metadata": {},
     "output_type": "execute_result"
    }
   ],
   "source": [
    "#sortBy\n",
    "def keyGen(val):\n",
    "    return val[1] #sort using second letter in the words of rdd\n",
    "\n",
    "x=sc.parallelize(['apple','dog','cat'])\n",
    "y=x.sortBy(keyGen)\n",
    "y.collect()\n"
   ]
  },
  {
   "cell_type": "markdown",
   "metadata": {},
   "source": [
    "## glom"
   ]
  },
  {
   "cell_type": "code",
   "execution_count": 77,
   "metadata": {},
   "outputs": [
    {
     "name": "stdout",
     "output_type": "stream",
     "text": [
      "[1, 2, 3, 4, 8, 5]\n",
      "[[1, 2, 3], [4, 8, 5]]\n",
      "PythonRDD[260] at collect at <ipython-input-77-a1952f3b2717>:5\n"
     ]
    }
   ],
   "source": [
    "#glom\n",
    "x=sc.parallelize([1,2,3,4,8,5],2)\n",
    "y=x.glom() #x is transformed into partitions\n",
    "print(x.collect())\n",
    "print(y.collect())\n",
    "print(y)\n"
   ]
  },
  {
   "cell_type": "markdown",
   "metadata": {},
   "source": [
    "## cartesian"
   ]
  },
  {
   "cell_type": "code",
   "execution_count": 79,
   "metadata": {},
   "outputs": [
    {
     "name": "stdout",
     "output_type": "stream",
     "text": [
      "[1, 2, 3, 4]\n",
      "[4, 5, 2, 9]\n"
     ]
    },
    {
     "data": {
      "text/plain": [
       "[(1, 4),\n",
       " (1, 5),\n",
       " (1, 2),\n",
       " (1, 9),\n",
       " (2, 4),\n",
       " (2, 5),\n",
       " (2, 2),\n",
       " (2, 9),\n",
       " (3, 4),\n",
       " (3, 5),\n",
       " (3, 2),\n",
       " (3, 9),\n",
       " (4, 4),\n",
       " (4, 5),\n",
       " (4, 2),\n",
       " (4, 9)]"
      ]
     },
     "execution_count": 79,
     "metadata": {},
     "output_type": "execute_result"
    }
   ],
   "source": [
    "#cartesian\n",
    "x=sc.parallelize([1,2,3,4])\n",
    "y=sc.parallelize([4,5,2,9])\n",
    "z=x.cartesian(y)\n",
    "print(x.collect())\n",
    "print(y.collect())\n",
    "z.collect()\n",
    "\n"
   ]
  },
  {
   "cell_type": "markdown",
   "metadata": {},
   "source": [
    "## groupBy"
   ]
  },
  {
   "cell_type": "code",
   "execution_count": 88,
   "metadata": {},
   "outputs": [
    {
     "name": "stdout",
     "output_type": "stream",
     "text": [
      "[1, 2, 3, 4]\n",
      "[('B', [1, 3]), ('A', [2, 4])]\n"
     ]
    }
   ],
   "source": [
    "#groupBy\n",
    "x=sc.parallelize([1,2,3,4])\n",
    "y=x.groupBy(lambda x:'A' if (x%2==0) else 'B')\n",
    "print(x.collect())\n",
    "print([(j[0],[i for i in j[1]]) for j in y.collect()])"
   ]
  },
  {
   "cell_type": "markdown",
   "metadata": {},
   "source": [
    "## pipe"
   ]
  },
  {
   "cell_type": "code",
   "execution_count": 92,
   "metadata": {},
   "outputs": [
    {
     "name": "stdout",
     "output_type": "stream",
     "text": [
      "['A', 'aB', 'C', 'DA']\n",
      "['A', 'aB', 'DA']\n"
     ]
    }
   ],
   "source": [
    "#pipe\n",
    "x=sc.parallelize(['A','aB','C','DA'])\n",
    "y=x.pipe('grep -i \"a\"')\n",
    "print(x.collect())\n",
    "print(y.collect())"
   ]
  },
  {
   "cell_type": "markdown",
   "metadata": {},
   "source": [
    "## collect"
   ]
  },
  {
   "cell_type": "code",
   "execution_count": 93,
   "metadata": {},
   "outputs": [
    {
     "name": "stdout",
     "output_type": "stream",
     "text": [
      "ParallelCollectionRDD[323] at parallelize at PythonRDD.scala:195\n",
      "[1, 2, 3, 4]\n"
     ]
    }
   ],
   "source": [
    "#collect\n",
    "x=sc.parallelize([1,2,3,4])\n",
    "y=x.collect()\n",
    "print(x)\n",
    "print(y)"
   ]
  },
  {
   "cell_type": "markdown",
   "metadata": {},
   "source": [
    "## reduce"
   ]
  },
  {
   "cell_type": "code",
   "execution_count": 96,
   "metadata": {},
   "outputs": [
    {
     "name": "stdout",
     "output_type": "stream",
     "text": [
      "[1, 2, 3, 4]\n",
      "10\n"
     ]
    }
   ],
   "source": [
    "#reduce\n",
    "x=sc.parallelize([1,2,3,4])\n",
    "y=x.reduce(lambda obj,accumulated:accumulated+obj) #computes cumulative sum\n",
    "print(x.collect())\n",
    "print(y)"
   ]
  },
  {
   "cell_type": "markdown",
   "metadata": {},
   "source": [
    "## fold"
   ]
  },
  {
   "cell_type": "code",
   "execution_count": 101,
   "metadata": {},
   "outputs": [
    {
     "name": "stdout",
     "output_type": "stream",
     "text": [
      "[1, 2, 6, 4]\n",
      "18\n"
     ]
    }
   ],
   "source": [
    "#fold\n",
    "x=sc.parallelize([1,2,6,4])\n",
    "neutral_zero_value=1 #0 for sum, 1 for multiplication\n",
    "y=x.fold(neutral_zero_value,lambda obj,accumulated:accumulated+obj) #computes cumulative sum\n",
    "print(x.collect())\n",
    "print(y)"
   ]
  },
  {
   "cell_type": "markdown",
   "metadata": {},
   "source": [
    "## aggregate"
   ]
  },
  {
   "cell_type": "code",
   "execution_count": 102,
   "metadata": {},
   "outputs": [
    {
     "name": "stdout",
     "output_type": "stream",
     "text": [
      "[1, 2, 6, 4]\n",
      "(13, 48)\n"
     ]
    }
   ],
   "source": [
    "#aggregate\n",
    "x=sc.parallelize([1,2,6,4])\n",
    "neutral_zero_value = (0,1) # sum: x+0 = x, product: 1*x = x\n",
    "seqOp = (lambda aggregated, el: (aggregated[0] + el, aggregated[1] * el)) \n",
    "combOp = (lambda aggregated, el: (aggregated[0] + el[0], aggregated[1] * el[1]))\n",
    "y = x.aggregate(neutral_zero_value,seqOp,combOp)  # computes (cumulative sum, cumulative product)\n",
    "print(x.collect())\n",
    "print(y)"
   ]
  },
  {
   "cell_type": "markdown",
   "metadata": {},
   "source": [
    "## max, min"
   ]
  },
  {
   "cell_type": "code",
   "execution_count": 105,
   "metadata": {},
   "outputs": [
    {
     "name": "stdout",
     "output_type": "stream",
     "text": [
      "[1, 2, 6, 4]\n",
      "6\n",
      "1\n"
     ]
    }
   ],
   "source": [
    "#max, min\n",
    "x=sc.parallelize([1,2,6,4])\n",
    "y=x.max()\n",
    "z=x.min()\n",
    "print(x.collect())\n",
    "print(y)\n",
    "print(z)\n"
   ]
  },
  {
   "cell_type": "markdown",
   "metadata": {},
   "source": [
    "## sum"
   ]
  },
  {
   "cell_type": "code",
   "execution_count": 106,
   "metadata": {},
   "outputs": [
    {
     "name": "stdout",
     "output_type": "stream",
     "text": [
      "[1, 2, 6, 4]\n",
      "13\n"
     ]
    }
   ],
   "source": [
    "#sum\n",
    "x=sc.parallelize([1,2,6,4])\n",
    "y=x.sum()\n",
    "print(x.collect())\n",
    "print(y)"
   ]
  },
  {
   "cell_type": "markdown",
   "metadata": {},
   "source": [
    "## count"
   ]
  },
  {
   "cell_type": "code",
   "execution_count": 108,
   "metadata": {},
   "outputs": [
    {
     "name": "stdout",
     "output_type": "stream",
     "text": [
      "[1, 2, 6, 4]\n",
      "4\n"
     ]
    }
   ],
   "source": [
    "#count\n",
    "x=sc.parallelize([1,2,6,4])\n",
    "y=x.count()\n",
    "print(x.collect())\n",
    "print(y)"
   ]
  },
  {
   "cell_type": "markdown",
   "metadata": {},
   "source": [
    "## histogram"
   ]
  },
  {
   "cell_type": "code",
   "execution_count": 110,
   "metadata": {},
   "outputs": [
    {
     "name": "stdout",
     "output_type": "stream",
     "text": [
      "[1, 2, 6, 4, 2]\n",
      "([1.0, 3.5, 6], [3, 2])\n"
     ]
    }
   ],
   "source": [
    "#histogram\n",
    "x=sc.parallelize([1,2,6,4,2])\n",
    "y=x.histogram(buckets=2)\n",
    "print(x.collect())\n",
    "print(y)\n"
   ]
  },
  {
   "cell_type": "markdown",
   "metadata": {},
   "source": [
    "## mean"
   ]
  },
  {
   "cell_type": "code",
   "execution_count": 112,
   "metadata": {},
   "outputs": [
    {
     "name": "stdout",
     "output_type": "stream",
     "text": [
      "[12, 2, 6, 4]\n",
      "6.0\n"
     ]
    }
   ],
   "source": [
    "#mean\n",
    "x=sc.parallelize([12,2,6,4])\n",
    "y=x.mean()\n",
    "print(x.collect())\n",
    "print(y)"
   ]
  },
  {
   "cell_type": "markdown",
   "metadata": {},
   "source": [
    "## variance"
   ]
  },
  {
   "cell_type": "code",
   "execution_count": 113,
   "metadata": {},
   "outputs": [
    {
     "name": "stdout",
     "output_type": "stream",
     "text": [
      "[1, 2, 6, 4]\n",
      "3.6875\n"
     ]
    }
   ],
   "source": [
    "#variance\n",
    "x=sc.parallelize([1,2,6,4])\n",
    "y=x.variance()\n",
    "print(x.collect())\n",
    "print(y)"
   ]
  },
  {
   "cell_type": "markdown",
   "metadata": {},
   "source": [
    "## stdev"
   ]
  },
  {
   "cell_type": "code",
   "execution_count": 114,
   "metadata": {},
   "outputs": [
    {
     "name": "stdout",
     "output_type": "stream",
     "text": [
      "[1, 2, 6, 4]\n",
      "1.920286436967152\n"
     ]
    }
   ],
   "source": [
    "#stdev\n",
    "x=sc.parallelize([1,2,6,4])\n",
    "y=x.stdev() #divides by N\n",
    "print(x.collect())\n",
    "print(y)"
   ]
  },
  {
   "cell_type": "markdown",
   "metadata": {},
   "source": [
    "## sampleStdev"
   ]
  },
  {
   "cell_type": "code",
   "execution_count": 115,
   "metadata": {},
   "outputs": [
    {
     "name": "stdout",
     "output_type": "stream",
     "text": [
      "[1, 2, 6, 4]\n",
      "2.217355782608345\n"
     ]
    }
   ],
   "source": [
    "#sampleStdev\n",
    "x=sc.parallelize([1,2,6,4])\n",
    "y=x.sampleStdev() #divides by N-1\n",
    "print(x.collect())\n",
    "print(y)"
   ]
  },
  {
   "cell_type": "markdown",
   "metadata": {},
   "source": [
    "## sampleVariance"
   ]
  },
  {
   "cell_type": "code",
   "execution_count": 117,
   "metadata": {},
   "outputs": [
    {
     "name": "stdout",
     "output_type": "stream",
     "text": [
      "[3, 2, 6, 4]\n",
      "2.9166666666666665\n"
     ]
    }
   ],
   "source": [
    "#sampleVariance\n",
    "x=sc.parallelize([3,2,6,4])\n",
    "y=x.sampleVariance()#divides by N-1\n",
    "print(x.collect())\n",
    "print(y)\n"
   ]
  },
  {
   "cell_type": "markdown",
   "metadata": {},
   "source": [
    "## countByValue"
   ]
  },
  {
   "cell_type": "code",
   "execution_count": 120,
   "metadata": {},
   "outputs": [
    {
     "name": "stdout",
     "output_type": "stream",
     "text": [
      "[1, 2, 6, 5, 6, 2, 4]\n",
      "defaultdict(<class 'int'>, {1: 1, 2: 2, 6: 2, 5: 1, 4: 1})\n"
     ]
    }
   ],
   "source": [
    "#countByValue\n",
    "x=sc.parallelize([1,2,6,5,6,2,4])\n",
    "y=x.countByValue()\n",
    "print(x.collect())\n",
    "print(y)"
   ]
  },
  {
   "cell_type": "markdown",
   "metadata": {},
   "source": [
    "## top"
   ]
  },
  {
   "cell_type": "code",
   "execution_count": 126,
   "metadata": {},
   "outputs": [
    {
     "name": "stdout",
     "output_type": "stream",
     "text": [
      "[2, 3, 6, 8, 4]\n",
      "[8, 6, 4, 3]\n",
      "<class 'list'>\n"
     ]
    }
   ],
   "source": [
    "#top\n",
    "x=sc.parallelize([2,3,6,8,4])\n",
    "y=x.top(4) #list of values sorted in desc order\n",
    "print(x.collect())\n",
    "print(y)\n",
    "print(type(y))\n"
   ]
  },
  {
   "cell_type": "markdown",
   "metadata": {},
   "source": [
    "## takeOrdered"
   ]
  },
  {
   "cell_type": "code",
   "execution_count": 125,
   "metadata": {},
   "outputs": [
    {
     "name": "stdout",
     "output_type": "stream",
     "text": [
      "[5, 2, 3, 6, 4]\n",
      "[2, 3, 4]\n"
     ]
    }
   ],
   "source": [
    "#takeOrdered\n",
    "x=sc.parallelize([5,2,3,6,4])\n",
    "y=x.takeOrdered(3) #list of values sorted in ascend order\n",
    "print(x.collect())\n",
    "print(y)\n"
   ]
  },
  {
   "cell_type": "markdown",
   "metadata": {},
   "source": [
    "## take"
   ]
  },
  {
   "cell_type": "code",
   "execution_count": 127,
   "metadata": {},
   "outputs": [
    {
     "name": "stdout",
     "output_type": "stream",
     "text": [
      "[5, 2, 3, 6, 4]\n",
      "[5, 2, 3]\n"
     ]
    }
   ],
   "source": [
    "#take\n",
    "x=sc.parallelize([5,2,3,6,4])\n",
    "y=x.take(3) #list of first 3 values\n",
    "print(x.collect())\n",
    "print(y)"
   ]
  },
  {
   "cell_type": "markdown",
   "metadata": {},
   "source": [
    "## first"
   ]
  },
  {
   "cell_type": "code",
   "execution_count": 129,
   "metadata": {},
   "outputs": [
    {
     "name": "stdout",
     "output_type": "stream",
     "text": [
      "[12, 2, 3, 6, 4]\n",
      "12\n"
     ]
    }
   ],
   "source": [
    "#first\n",
    "x=sc.parallelize([12,2,3,6,4])\n",
    "y=x.first()\n",
    "print(x.collect())\n",
    "print(y)"
   ]
  },
  {
   "cell_type": "markdown",
   "metadata": {},
   "source": [
    "## collectAsMap"
   ]
  },
  {
   "cell_type": "code",
   "execution_count": 132,
   "metadata": {},
   "outputs": [
    {
     "name": "stdout",
     "output_type": "stream",
     "text": [
      "[('C', 3), ('A', 1), ('B', 2)]\n",
      "{'C': 3, 'A': 1, 'B': 2}\n"
     ]
    }
   ],
   "source": [
    "#collectAsMap\n",
    "x=sc.parallelize([('C',3),('A',1),('B',2)])\n",
    "y=x.collectAsMap()\n",
    "print(x.collect())\n",
    "print(y)\n"
   ]
  },
  {
   "cell_type": "markdown",
   "metadata": {},
   "source": [
    "## keys"
   ]
  },
  {
   "cell_type": "code",
   "execution_count": 134,
   "metadata": {},
   "outputs": [
    {
     "name": "stdout",
     "output_type": "stream",
     "text": [
      "[('C', 3), ('A', 1), ('B', 2)]\n",
      "['C', 'A', 'B']\n"
     ]
    }
   ],
   "source": [
    "#keys\n",
    "x=sc.parallelize([('C',3),('A',1),('B',2)])\n",
    "y=x.keys()\n",
    "print(x.collect())\n",
    "print(y.collect())"
   ]
  },
  {
   "cell_type": "markdown",
   "metadata": {},
   "source": [
    "## values"
   ]
  },
  {
   "cell_type": "code",
   "execution_count": 135,
   "metadata": {},
   "outputs": [
    {
     "name": "stdout",
     "output_type": "stream",
     "text": [
      "[('C', 3), ('A', 1), ('B', 2)]\n",
      "[3, 1, 2]\n"
     ]
    }
   ],
   "source": [
    "#values\n",
    "x=sc.parallelize([('C',3),('A',1),('B',2)])\n",
    "y=x.values()\n",
    "print(x.collect())\n",
    "print(y.collect())"
   ]
  },
  {
   "cell_type": "markdown",
   "metadata": {},
   "source": [
    "## reduceByKey"
   ]
  },
  {
   "cell_type": "code",
   "execution_count": 137,
   "metadata": {},
   "outputs": [
    {
     "name": "stdout",
     "output_type": "stream",
     "text": [
      "[('C', 3), ('A', 1), ('B', 2), ('C', 4)]\n",
      "[('A', 1), ('B', 2), ('C', 7)]\n"
     ]
    }
   ],
   "source": [
    "#reduceByKey\n",
    "x=sc.parallelize([('C',3),('A',1),('B',2),('C',4)])\n",
    "y=x.reduceByKey(lambda x,y:x+y)\n",
    "print(x.collect())\n",
    "print(y.collect())\n"
   ]
  },
  {
   "cell_type": "markdown",
   "metadata": {},
   "source": [
    "## reduceByKeyLocally"
   ]
  },
  {
   "cell_type": "code",
   "execution_count": 140,
   "metadata": {},
   "outputs": [
    {
     "name": "stdout",
     "output_type": "stream",
     "text": [
      "[('C', 3), ('A', 1), ('B', 2), ('C', 4)]\n",
      "{'C': 7, 'A': 1, 'B': 2}\n",
      "<class 'dict'>\n"
     ]
    }
   ],
   "source": [
    "#reduceByKeyLocally\n",
    "x=sc.parallelize([('C',3),('A',1),('B',2),('C',4)])\n",
    "y=x.reduceByKeyLocally(lambda x,y:x+y)\n",
    "print(x.collect())\n",
    "print(y)\n",
    "print(type(y))"
   ]
  },
  {
   "cell_type": "markdown",
   "metadata": {},
   "source": [
    "## countByKey"
   ]
  },
  {
   "cell_type": "code",
   "execution_count": 141,
   "metadata": {},
   "outputs": [
    {
     "name": "stdout",
     "output_type": "stream",
     "text": [
      "[('C', 3), ('A', 1), ('B', 2), ('C', 4)]\n",
      "defaultdict(<class 'int'>, {'C': 2, 'A': 1, 'B': 1})\n"
     ]
    }
   ],
   "source": [
    "#countByKey\n",
    "x=sc.parallelize([('C',3),('A',1),('B',2),('C',4)])\n",
    "y=x.countByKey()\n",
    "print(x.collect())\n",
    "print(y)"
   ]
  },
  {
   "cell_type": "markdown",
   "metadata": {},
   "source": [
    "## join"
   ]
  },
  {
   "cell_type": "code",
   "execution_count": 142,
   "metadata": {},
   "outputs": [
    {
     "name": "stdout",
     "output_type": "stream",
     "text": [
      "[('C', 3), ('A', 1), ('B', 2), ('C', 4)]\n",
      "[('C', 2), ('A', 1), ('B', 2), ('D', 4)]\n",
      "[('B', (2, 2)), ('C', (3, 2)), ('C', (4, 2)), ('A', (1, 1))]\n"
     ]
    }
   ],
   "source": [
    "#join\n",
    "x=sc.parallelize([('C',3),('A',1),('B',2),('C',4)])\n",
    "y=sc.parallelize([('C',2),('A',1),('B',2),('D',4)])\n",
    "z=x.join(y)\n",
    "print(x.collect())\n",
    "print(y.collect())\n",
    "print(z.collect())"
   ]
  },
  {
   "cell_type": "markdown",
   "metadata": {},
   "source": [
    "## leftOuterJoin"
   ]
  },
  {
   "cell_type": "code",
   "execution_count": 143,
   "metadata": {},
   "outputs": [
    {
     "name": "stdout",
     "output_type": "stream",
     "text": [
      "[('C', 3), ('A', 1), ('B', 2), ('C', 4)]\n",
      "[('C', 2), ('A', 1), ('B', 2), ('D', 4)]\n",
      "[('B', (2, 2)), ('C', (3, 2)), ('C', (4, 2)), ('A', (1, 1))]\n"
     ]
    }
   ],
   "source": [
    "#leftOuterJoin\n",
    "x=sc.parallelize([('C',3),('A',1),('B',2),('C',4)])\n",
    "y=sc.parallelize([('C',2),('A',1),('B',2),('D',4)])\n",
    "z=x.leftOuterJoin(y)\n",
    "print(x.collect())\n",
    "print(y.collect())\n",
    "print(z.collect())"
   ]
  },
  {
   "cell_type": "markdown",
   "metadata": {},
   "source": [
    "## rightOuterJoin"
   ]
  },
  {
   "cell_type": "code",
   "execution_count": 144,
   "metadata": {},
   "outputs": [
    {
     "name": "stdout",
     "output_type": "stream",
     "text": [
      "[('C', 3), ('A', 1), ('B', 2), ('C', 4)]\n",
      "[('C', 2), ('A', 1), ('B', 2), ('D', 4)]\n",
      "[('B', (2, 2)), ('C', (3, 2)), ('C', (4, 2)), ('A', (1, 1)), ('D', (None, 4))]\n"
     ]
    }
   ],
   "source": [
    "#rightOuterJoin\n",
    "x=sc.parallelize([('C',3),('A',1),('B',2),('C',4)])\n",
    "y=sc.parallelize([('C',2),('A',1),('B',2),('D',4)])\n",
    "z=x.rightOuterJoin(y)\n",
    "print(x.collect())\n",
    "print(y.collect())\n",
    "print(z.collect())"
   ]
  },
  {
   "cell_type": "markdown",
   "metadata": {},
   "source": [
    "## partitionBy"
   ]
  },
  {
   "cell_type": "code",
   "execution_count": 148,
   "metadata": {},
   "outputs": [
    {
     "name": "stdout",
     "output_type": "stream",
     "text": [
      "[[(0, 1)], [(1, 2), (2, 3)]]\n",
      "[[(0, 1)], [(1, 2)], [(2, 3)]]\n"
     ]
    }
   ],
   "source": [
    "#partitionBy\n",
    "x = sc.parallelize([(0,1),(1,2),(2,3)],2)\n",
    "y=x.partitionBy(numPartitions=3,partitionFunc=lambda x:x)\n",
    "print(x.glom().collect())\n",
    "print(y.glom().collect())"
   ]
  },
  {
   "cell_type": "markdown",
   "metadata": {},
   "source": [
    "## combineByKey"
   ]
  },
  {
   "cell_type": "code",
   "execution_count": 150,
   "metadata": {},
   "outputs": [
    {
     "name": "stdout",
     "output_type": "stream",
     "text": [
      "[('C', 3), ('A', 1), ('B', 2), ('C', 4)]\n",
      "[('A', [(1, 1)]), ('B', [(2, 4)]), ('C', [(3, 9), (4, 16)])]\n"
     ]
    }
   ],
   "source": [
    "#combineByKey\n",
    "x=sc.parallelize([('C',3),('A',1),('B',2),('C',4)])\n",
    "createCombiner = (lambda el: [(el,el**2)]) \n",
    "mergeVal = (lambda aggregated, el: aggregated + [(el,el**2)]) # append to aggregated\n",
    "mergeComb = (lambda agg1,agg2: agg1 + agg2 )  # append agg1 with agg2\n",
    "y = x.combineByKey(createCombiner,mergeVal,mergeComb)\n",
    "print(x.collect())\n",
    "print(y.collect())"
   ]
  },
  {
   "cell_type": "markdown",
   "metadata": {},
   "source": [
    "## aggregateByKey"
   ]
  },
  {
   "cell_type": "code",
   "execution_count": 154,
   "metadata": {},
   "outputs": [
    {
     "name": "stdout",
     "output_type": "stream",
     "text": [
      "[('B', 1), ('B', 2), ('A', 3), ('A', 4), ('A', 5)]\n",
      "[('B', [(1, 1), (2, 4)]), ('A', [(3, 9), (4, 16), (5, 25)])]\n"
     ]
    }
   ],
   "source": [
    "#aggregateByKey\n",
    "x = sc.parallelize([('B',1),('B',2),('A',3),('A',4),('A',5)])\n",
    "zeroValue=[]#empty list to append values \n",
    "mergeVal = (lambda aggregated, el: aggregated + [(el,el**2)]) # append to aggregated\n",
    "mergeComb = (lambda agg1,agg2: agg1 + agg2 )  # append agg1 with agg2\n",
    "y = x.aggregateByKey(zeroValue,mergeVal,mergeComb)\n",
    "print(x.collect())\n",
    "print(y.collect())"
   ]
  },
  {
   "cell_type": "markdown",
   "metadata": {},
   "source": [
    "## foldByKey"
   ]
  },
  {
   "cell_type": "code",
   "execution_count": 155,
   "metadata": {},
   "outputs": [
    {
     "name": "stdout",
     "output_type": "stream",
     "text": [
      "[('C', 3), ('A', 1), ('B', 2), ('B', 8), ('C', 4)]\n",
      "[('A', 1), ('B', 16), ('C', 12)]\n"
     ]
    }
   ],
   "source": [
    "#foldByKey\n",
    "x=sc.parallelize([('C',3),('A',1),('B',2),('B',8),('C',4)])\n",
    "y=x.foldByKey(1,lambda x,y:x*y) #1 is for multiplication\n",
    "print(x.collect())\n",
    "print(y.collect())\n"
   ]
  },
  {
   "cell_type": "markdown",
   "metadata": {},
   "source": [
    "## groupByKey"
   ]
  },
  {
   "cell_type": "code",
   "execution_count": 159,
   "metadata": {},
   "outputs": [
    {
     "name": "stdout",
     "output_type": "stream",
     "text": [
      "[('C', 3), ('A', 1), ('B', 2), ('B', 8), ('C', 4)]\n",
      "[('A', [1]), ('B', [2, 8]), ('C', [3, 4])]\n"
     ]
    }
   ],
   "source": [
    "#groupByKey\n",
    "x=sc.parallelize([('C',3),('A',1),('B',2),('B',8),('C',4)])\n",
    "y=x.groupByKey()\n",
    "print(x.collect())\n",
    "print([(j[0],[i for i in j[1]]) for j in y.collect()])"
   ]
  },
  {
   "cell_type": "markdown",
   "metadata": {},
   "source": [
    "## flatMapValues"
   ]
  },
  {
   "cell_type": "code",
   "execution_count": 161,
   "metadata": {},
   "outputs": [
    {
     "name": "stdout",
     "output_type": "stream",
     "text": [
      "[('A', (1, 2, 3)), ('B', (4, 5))]\n",
      "[('A', 1), ('A', 4), ('A', 9), ('B', 16), ('B', 25)]\n"
     ]
    }
   ],
   "source": [
    "#flatMapValues\n",
    "x = sc.parallelize([('A',(1,2,3)),('B',(4,5))])\n",
    "y=x.flatMapValues(lambda x:[(i**2) for i in x])\n",
    "print(x.collect())\n",
    "print(y.collect())"
   ]
  },
  {
   "cell_type": "markdown",
   "metadata": {},
   "source": [
    "## groupWith"
   ]
  },
  {
   "cell_type": "code",
   "execution_count": 162,
   "metadata": {},
   "outputs": [
    {
     "name": "stdout",
     "output_type": "stream",
     "text": [
      "[('C', 4), ('B', (3, 3)), ('A', 2), ('A', (1, 1))]\n",
      "[('B', (7, 7)), ('A', 6), ('D', (5, 5))]\n",
      "[('D', 9), ('B', (8, 8))]\n",
      "Result:\n",
      "A [[2, (1, 1)], [6], []]\n",
      "D [[], [(5, 5)], [9]]\n",
      "C [[4], [], []]\n",
      "B [[(3, 3)], [(7, 7)], [(8, 8)]]\n"
     ]
    }
   ],
   "source": [
    "#groupWith\n",
    "# groupWith\n",
    "x = sc.parallelize([('C',4),('B',(3,3)),('A',2),('A',(1,1))])\n",
    "y = sc.parallelize([('B',(7,7)),('A',6),('D',(5,5))])\n",
    "z = sc.parallelize([('D',9),('B',(8,8))])\n",
    "a = x.groupWith(y,z)\n",
    "print(x.collect())\n",
    "print(y.collect())\n",
    "print(z.collect())\n",
    "print(\"Result:\")\n",
    "for key,val in list(a.collect()): \n",
    "    print(key, [list(i) for i in val])"
   ]
  },
  {
   "cell_type": "markdown",
   "metadata": {},
   "source": [
    "## cogroup"
   ]
  },
  {
   "cell_type": "code",
   "execution_count": 163,
   "metadata": {},
   "outputs": [
    {
     "name": "stdout",
     "output_type": "stream",
     "text": [
      "[('C', 4), ('B', (3, 3)), ('A', 2), ('A', (1, 1))]\n",
      "[('A', 8), ('B', 7), ('A', 6), ('D', (5, 5))]\n",
      "B [[(3, 3)], [7]]\n",
      "C [[4], []]\n",
      "A [[2, (1, 1)], [8, 6]]\n",
      "D [[], [(5, 5)]]\n"
     ]
    }
   ],
   "source": [
    "# cogroup\n",
    "x = sc.parallelize([('C',4),('B',(3,3)),('A',2),('A',(1,1))])\n",
    "y = sc.parallelize([('A',8),('B',7),('A',6),('D',(5,5))])\n",
    "z = x.cogroup(y)\n",
    "print(x.collect())\n",
    "print(y.collect())\n",
    "for key,val in list(z.collect()):\n",
    "    print(key, [list(i) for i in val])"
   ]
  },
  {
   "cell_type": "markdown",
   "metadata": {},
   "source": [
    "## sampleByKey"
   ]
  },
  {
   "cell_type": "code",
   "execution_count": 164,
   "metadata": {},
   "outputs": [
    {
     "name": "stdout",
     "output_type": "stream",
     "text": [
      "[('A', 1), ('B', 2), ('C', 3), ('B', 4), ('A', 5)]\n",
      "[('A', 1), ('B', 2), ('C', 3), ('B', 4)]\n"
     ]
    }
   ],
   "source": [
    "#sampleByKey\n",
    "x = sc.parallelize([('A',1),('B',2),('C',3),('B',4),('A',5)])\n",
    "y = x.sampleByKey(withReplacement=False, fractions={'A':0.5, 'B':1, 'C':0.2})\n",
    "print(x.collect())\n",
    "print(y.collect())"
   ]
  },
  {
   "cell_type": "markdown",
   "metadata": {},
   "source": [
    "## keyBy"
   ]
  },
  {
   "cell_type": "code",
   "execution_count": 165,
   "metadata": {},
   "outputs": [
    {
     "name": "stdout",
     "output_type": "stream",
     "text": [
      "[5, 2, 3, 6, 4]\n",
      "[(25, 5), (4, 2), (9, 3), (36, 6), (16, 4)]\n"
     ]
    }
   ],
   "source": [
    "#keyBy\n",
    "x=sc.parallelize([5,2,3,6,4])\n",
    "y=x.keyBy(lambda x:x**2)\n",
    "print(x.collect())\n",
    "print(y.collect())"
   ]
  },
  {
   "cell_type": "markdown",
   "metadata": {},
   "source": [
    "## coalesce"
   ]
  },
  {
   "cell_type": "code",
   "execution_count": 166,
   "metadata": {},
   "outputs": [
    {
     "name": "stdout",
     "output_type": "stream",
     "text": [
      "[[1, 2], [3, 4, 5]]\n",
      "[[1, 2, 3, 4, 5]]\n"
     ]
    }
   ],
   "source": [
    "\n",
    "# coalesce\n",
    "x = sc.parallelize([1,2,3,4,5],2)\n",
    "y = x.coalesce(numPartitions=1)\n",
    "print(x.glom().collect())\n",
    "print(y.glom().collect())"
   ]
  },
  {
   "cell_type": "markdown",
   "metadata": {},
   "source": [
    "## zip"
   ]
  },
  {
   "cell_type": "code",
   "execution_count": 167,
   "metadata": {},
   "outputs": [
    {
     "name": "stdout",
     "output_type": "stream",
     "text": [
      "['B', 'A', 'A']\n",
      "[1, 2, 3]\n",
      "[('B', 1), ('A', 2), ('A', 3)]\n"
     ]
    }
   ],
   "source": [
    "#zip\n",
    "x = sc.parallelize(['B','A','A'])\n",
    "y = sc.parallelize([1,2,3])\n",
    "z=x.zip(y)\n",
    "print(x.collect())\n",
    "print(y.collect())\n",
    "print(z.collect())"
   ]
  },
  {
   "cell_type": "markdown",
   "metadata": {},
   "source": [
    "## zipWithIndex"
   ]
  },
  {
   "cell_type": "code",
   "execution_count": 168,
   "metadata": {},
   "outputs": [
    {
     "name": "stdout",
     "output_type": "stream",
     "text": [
      "[['B'], ['A', 'A']]\n",
      "[('B', 0), ('A', 1), ('A', 2)]\n"
     ]
    }
   ],
   "source": [
    "# zipWithIndex\n",
    "x = sc.parallelize(['B','A','A'],2)\n",
    "y = x.zipWithIndex()\n",
    "print(x.glom().collect())\n",
    "print(y.collect())"
   ]
  },
  {
   "cell_type": "markdown",
   "metadata": {},
   "source": [
    "## zipWithUniqueId"
   ]
  },
  {
   "cell_type": "code",
   "execution_count": 169,
   "metadata": {},
   "outputs": [
    {
     "name": "stdout",
     "output_type": "stream",
     "text": [
      "[['B'], ['A', 'A']]\n",
      "[('B', 0), ('A', 1), ('A', 3)]\n"
     ]
    }
   ],
   "source": [
    "# zipWithUniqueId\n",
    "x = sc.parallelize(['B','A','A'],2)\n",
    "y = x.zipWithUniqueId() #uniqueId=element index * #partitions +partition Index\n",
    "print(x.glom().collect())\n",
    "print(y.collect())\n"
   ]
  },
  {
   "cell_type": "code",
   "execution_count": null,
   "metadata": {},
   "outputs": [],
   "source": []
  }
 ],
 "metadata": {
  "kernelspec": {
   "display_name": "Python 3",
   "language": "python",
   "name": "python3"
  },
  "language_info": {
   "codemirror_mode": {
    "name": "ipython",
    "version": 3
   },
   "file_extension": ".py",
   "mimetype": "text/x-python",
   "name": "python",
   "nbconvert_exporter": "python",
   "pygments_lexer": "ipython3",
   "version": "3.7.3"
  }
 },
 "nbformat": 4,
 "nbformat_minor": 2
}
